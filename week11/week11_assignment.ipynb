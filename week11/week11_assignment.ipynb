{
 "cells": [
  {
   "cell_type": "markdown",
   "metadata": {
    "nbgrader": {
     "grade": false,
     "grade_id": "intro",
     "locked": true,
     "schema_version": 1,
     "solution": false
    }
   },
   "source": [
    "# Week 11 Exercises\n",
    "\n",
    "_McKinney 7.2, 11.1_\n",
    "\n",
    "The general activity that we are doing in this week's exercise is to explore and try to understand a particular data set.  In this case, it is \n",
    "\n",
    "1. Read in the data file and filter down to only looking at MO hospitals\n",
    "2. Aggregate by Hospital: sum the Denominator, use min Start Date, use max End Date  (watch for rows with no Denominator value!)\n",
    "3. Calculate the average per day across that entire span\n",
    "4. Histogram\n",
    "5. Rank and find the hospital with the most"
   ]
  },
  {
   "cell_type": "markdown",
   "metadata": {
    "nbgrader": {
     "grade": false,
     "grade_id": "q1-intro",
     "locked": true,
     "schema_version": 1,
     "solution": false
    }
   },
   "source": [
    "## STEP 1 - Read and Filter\n",
    "\n",
    "<img src=\"images/step1.png\" alt=\"Read and Filter Output\" style=\"width: 500px; float: right; margin-left: 20px; border: 1px solid\">\n",
    "\n",
    "In the first step, read in the data file from the data directory `/data/complications_all.csv`.  It is a CSV file and Pandas should read it in just fine.  Explore the file so that you understand the columns and values.  At the end of this step, create a variable called `mo_hospitals` that contains a data frame from the `complications_all.csv` file, filtered down to only contain those hospitals from the state of Missouri (MO).\n",
    "\n",
    "A screenshot is included for reference.\n",
    "\n"
   ]
  },
  {
   "cell_type": "code",
   "execution_count": 54,
   "metadata": {
    "nbgrader": {
     "grade": false,
     "grade_id": "q1-solution",
     "locked": false,
     "schema_version": 1,
     "solution": true
    }
   },
   "outputs": [
    {
     "data": {
      "text/plain": [
       "TX    7649\n",
       "CA    6603\n",
       "FL    3538\n",
       "IL    3431\n",
       "NY    3233\n",
       "PA    3215\n",
       "OH    3140\n",
       "KS    2564\n",
       "GA    2564\n",
       "MI    2519\n",
       "MN    2463\n",
       "WI    2374\n",
       "OK    2273\n",
       "IN    2260\n",
       "IA    2216\n",
       "LA    2184\n",
       "MO    2133\n",
       "NC    2076\n",
       "TN    1962\n",
       "MS    1836\n",
       "WA    1798\n",
       "KY    1760\n",
       "NE    1697\n",
       "AL    1690\n",
       "VA    1671\n",
       "CO    1570\n",
       "AZ    1500\n",
       "AR    1456\n",
       "NJ    1260\n",
       "MA    1196\n",
       "MT    1184\n",
       "OR    1152\n",
       "SC    1133\n",
       "SD    1101\n",
       "PR     994\n",
       "MD     962\n",
       "WV     955\n",
       "UT     899\n",
       "ND     842\n",
       "ID     804\n",
       "NM     804\n",
       "NV     715\n",
       "ME     633\n",
       "CT     595\n",
       "WY     525\n",
       "NH     494\n",
       "HI     456\n",
       "AK     456\n",
       "VT     272\n",
       "RI     196\n",
       "DC     139\n",
       "DE     139\n",
       "VI      38\n",
       "GU      38\n",
       "AS      19\n",
       "MP      19\n",
       "Name: State, dtype: int64"
      ]
     },
     "execution_count": 54,
     "metadata": {},
     "output_type": "execute_result"
    }
   ],
   "source": [
    "import pandas as pd\n",
    "\n",
    "#read or load data from CSV file\n",
    "data = pd.read_csv('/data/complications_all.csv')\n",
    "#returns a state containing counts of unique values in sorted order.\n",
    "data['State'].value_counts()"
   ]
  },
  {
   "cell_type": "code",
   "execution_count": 55,
   "metadata": {
    "nbgrader": {
     "grade": false,
     "grade_id": "q1-solution",
     "locked": false,
     "schema_version": 1,
     "solution": true
    }
   },
   "outputs": [
    {
     "data": {
      "text/plain": [
       "(91395, 18)"
      ]
     },
     "execution_count": 55,
     "metadata": {},
     "output_type": "execute_result"
    }
   ],
   "source": [
    "#get the number of rows and columns\n",
    "data.shape"
   ]
  },
  {
   "cell_type": "code",
   "execution_count": 56,
   "metadata": {
    "nbgrader": {
     "grade": false,
     "grade_id": "q1-solution",
     "locked": false,
     "schema_version": 1,
     "solution": true
    }
   },
   "outputs": [
    {
     "data": {
      "text/html": [
       "<div>\n",
       "<style scoped>\n",
       "    .dataframe tbody tr th:only-of-type {\n",
       "        vertical-align: middle;\n",
       "    }\n",
       "\n",
       "    .dataframe tbody tr th {\n",
       "        vertical-align: top;\n",
       "    }\n",
       "\n",
       "    .dataframe thead th {\n",
       "        text-align: right;\n",
       "    }\n",
       "</style>\n",
       "<table border=\"1\" class=\"dataframe\">\n",
       "  <thead>\n",
       "    <tr style=\"text-align: right;\">\n",
       "      <th></th>\n",
       "      <th>Facility ID</th>\n",
       "      <th>Facility Name</th>\n",
       "      <th>Address</th>\n",
       "      <th>City</th>\n",
       "      <th>State</th>\n",
       "      <th>ZIP Code</th>\n",
       "      <th>County Name</th>\n",
       "      <th>Phone Number</th>\n",
       "      <th>Measure ID</th>\n",
       "      <th>Measure Name</th>\n",
       "      <th>Compared to National</th>\n",
       "      <th>Denominator</th>\n",
       "      <th>Score</th>\n",
       "      <th>Lower Estimate</th>\n",
       "      <th>Higher Estimate</th>\n",
       "      <th>Footnote</th>\n",
       "      <th>Start Date</th>\n",
       "      <th>End Date</th>\n",
       "    </tr>\n",
       "  </thead>\n",
       "  <tbody>\n",
       "    <tr>\n",
       "      <th>45534</th>\n",
       "      <td>260001</td>\n",
       "      <td>MERCY HOSPITAL JOPLIN</td>\n",
       "      <td>100 MERCY WAY</td>\n",
       "      <td>JOPLIN</td>\n",
       "      <td>MO</td>\n",
       "      <td>64804</td>\n",
       "      <td>JASPER</td>\n",
       "      <td>(417) 781-2727</td>\n",
       "      <td>COMP_HIP_KNEE</td>\n",
       "      <td>Rate of complications for hip/knee replacement...</td>\n",
       "      <td>No Different Than the National Rate</td>\n",
       "      <td>26</td>\n",
       "      <td>2.5</td>\n",
       "      <td>1.4</td>\n",
       "      <td>4.2</td>\n",
       "      <td>NaN</td>\n",
       "      <td>04/01/2015</td>\n",
       "      <td>03/31/2018</td>\n",
       "    </tr>\n",
       "    <tr>\n",
       "      <th>45535</th>\n",
       "      <td>260001</td>\n",
       "      <td>MERCY HOSPITAL JOPLIN</td>\n",
       "      <td>100 MERCY WAY</td>\n",
       "      <td>JOPLIN</td>\n",
       "      <td>MO</td>\n",
       "      <td>64804</td>\n",
       "      <td>JASPER</td>\n",
       "      <td>(417) 781-2727</td>\n",
       "      <td>MORT_30_AMI</td>\n",
       "      <td>Death rate for heart attack patients</td>\n",
       "      <td>No Different Than the National Rate</td>\n",
       "      <td>175</td>\n",
       "      <td>13.9</td>\n",
       "      <td>11.0</td>\n",
       "      <td>16.9</td>\n",
       "      <td>NaN</td>\n",
       "      <td>07/01/2015</td>\n",
       "      <td>06/30/2018</td>\n",
       "    </tr>\n",
       "    <tr>\n",
       "      <th>45536</th>\n",
       "      <td>260001</td>\n",
       "      <td>MERCY HOSPITAL JOPLIN</td>\n",
       "      <td>100 MERCY WAY</td>\n",
       "      <td>JOPLIN</td>\n",
       "      <td>MO</td>\n",
       "      <td>64804</td>\n",
       "      <td>JASPER</td>\n",
       "      <td>(417) 781-2727</td>\n",
       "      <td>MORT_30_CABG</td>\n",
       "      <td>Death rate for CABG surgery patients</td>\n",
       "      <td>No Different Than the National Rate</td>\n",
       "      <td>91</td>\n",
       "      <td>2.5</td>\n",
       "      <td>1.2</td>\n",
       "      <td>5.1</td>\n",
       "      <td>NaN</td>\n",
       "      <td>07/01/2015</td>\n",
       "      <td>06/30/2018</td>\n",
       "    </tr>\n",
       "    <tr>\n",
       "      <th>45537</th>\n",
       "      <td>260001</td>\n",
       "      <td>MERCY HOSPITAL JOPLIN</td>\n",
       "      <td>100 MERCY WAY</td>\n",
       "      <td>JOPLIN</td>\n",
       "      <td>MO</td>\n",
       "      <td>64804</td>\n",
       "      <td>JASPER</td>\n",
       "      <td>(417) 781-2727</td>\n",
       "      <td>MORT_30_COPD</td>\n",
       "      <td>Death rate for COPD patients</td>\n",
       "      <td>No Different Than the National Rate</td>\n",
       "      <td>326</td>\n",
       "      <td>8.5</td>\n",
       "      <td>6.5</td>\n",
       "      <td>10.9</td>\n",
       "      <td>NaN</td>\n",
       "      <td>07/01/2015</td>\n",
       "      <td>06/30/2018</td>\n",
       "    </tr>\n",
       "    <tr>\n",
       "      <th>45538</th>\n",
       "      <td>260001</td>\n",
       "      <td>MERCY HOSPITAL JOPLIN</td>\n",
       "      <td>100 MERCY WAY</td>\n",
       "      <td>JOPLIN</td>\n",
       "      <td>MO</td>\n",
       "      <td>64804</td>\n",
       "      <td>JASPER</td>\n",
       "      <td>(417) 781-2727</td>\n",
       "      <td>MORT_30_HF</td>\n",
       "      <td>Death rate for heart failure patients</td>\n",
       "      <td>No Different Than the National Rate</td>\n",
       "      <td>461</td>\n",
       "      <td>13.1</td>\n",
       "      <td>10.7</td>\n",
       "      <td>15.9</td>\n",
       "      <td>NaN</td>\n",
       "      <td>07/01/2015</td>\n",
       "      <td>06/30/2018</td>\n",
       "    </tr>\n",
       "  </tbody>\n",
       "</table>\n",
       "</div>"
      ],
      "text/plain": [
       "      Facility ID          Facility Name        Address    City State  \\\n",
       "45534      260001  MERCY HOSPITAL JOPLIN  100 MERCY WAY  JOPLIN    MO   \n",
       "45535      260001  MERCY HOSPITAL JOPLIN  100 MERCY WAY  JOPLIN    MO   \n",
       "45536      260001  MERCY HOSPITAL JOPLIN  100 MERCY WAY  JOPLIN    MO   \n",
       "45537      260001  MERCY HOSPITAL JOPLIN  100 MERCY WAY  JOPLIN    MO   \n",
       "45538      260001  MERCY HOSPITAL JOPLIN  100 MERCY WAY  JOPLIN    MO   \n",
       "\n",
       "       ZIP Code County Name    Phone Number     Measure ID  \\\n",
       "45534     64804      JASPER  (417) 781-2727  COMP_HIP_KNEE   \n",
       "45535     64804      JASPER  (417) 781-2727    MORT_30_AMI   \n",
       "45536     64804      JASPER  (417) 781-2727   MORT_30_CABG   \n",
       "45537     64804      JASPER  (417) 781-2727   MORT_30_COPD   \n",
       "45538     64804      JASPER  (417) 781-2727     MORT_30_HF   \n",
       "\n",
       "                                            Measure Name  \\\n",
       "45534  Rate of complications for hip/knee replacement...   \n",
       "45535               Death rate for heart attack patients   \n",
       "45536               Death rate for CABG surgery patients   \n",
       "45537                       Death rate for COPD patients   \n",
       "45538              Death rate for heart failure patients   \n",
       "\n",
       "                      Compared to National Denominator Score Lower Estimate  \\\n",
       "45534  No Different Than the National Rate          26   2.5            1.4   \n",
       "45535  No Different Than the National Rate         175  13.9           11.0   \n",
       "45536  No Different Than the National Rate          91   2.5            1.2   \n",
       "45537  No Different Than the National Rate         326   8.5            6.5   \n",
       "45538  No Different Than the National Rate         461  13.1           10.7   \n",
       "\n",
       "      Higher Estimate  Footnote  Start Date    End Date  \n",
       "45534             4.2       NaN  04/01/2015  03/31/2018  \n",
       "45535            16.9       NaN  07/01/2015  06/30/2018  \n",
       "45536             5.1       NaN  07/01/2015  06/30/2018  \n",
       "45537            10.9       NaN  07/01/2015  06/30/2018  \n",
       "45538            15.9       NaN  07/01/2015  06/30/2018  "
      ]
     },
     "execution_count": 56,
     "metadata": {},
     "output_type": "execute_result"
    }
   ],
   "source": [
    "#filter only the row from dateframe where state is missouri(MO)\n",
    "filter = data['State'] == 'MO'\n",
    "mo_hospitals = data[filter]\n",
    "\n",
    "#Viewing the first 5 lines\n",
    "mo_hospitals.head()"
   ]
  },
  {
   "cell_type": "code",
   "execution_count": null,
   "metadata": {
    "nbgrader": {
     "grade": false,
     "grade_id": "q1-solution",
     "locked": false,
     "schema_version": 1,
     "solution": true
    }
   },
   "outputs": [],
   "source": []
  },
  {
   "cell_type": "code",
   "execution_count": 57,
   "metadata": {
    "nbgrader": {
     "grade": false,
     "grade_id": "q1-solution",
     "locked": false,
     "schema_version": 1,
     "solution": true
    }
   },
   "outputs": [
    {
     "data": {
      "text/plain": [
       "array(['MO'], dtype=object)"
      ]
     },
     "execution_count": 57,
     "metadata": {},
     "output_type": "execute_result"
    }
   ],
   "source": [
    "mo_hospitals['State'].unique()"
   ]
  },
  {
   "cell_type": "code",
   "execution_count": 58,
   "metadata": {
    "nbgrader": {
     "grade": false,
     "grade_id": "q1-solution",
     "locked": false,
     "schema_version": 1,
     "solution": true
    }
   },
   "outputs": [
    {
     "data": {
      "text/plain": [
       "(2133, 18)"
      ]
     },
     "execution_count": 58,
     "metadata": {},
     "output_type": "execute_result"
    }
   ],
   "source": [
    "mo_hospitals.shape"
   ]
  },
  {
   "cell_type": "code",
   "execution_count": null,
   "metadata": {},
   "outputs": [],
   "source": []
  },
  {
   "cell_type": "code",
   "execution_count": 59,
   "metadata": {
    "nbgrader": {
     "grade": true,
     "grade_id": "q1-tests",
     "locked": true,
     "points": 2,
     "schema_version": 1,
     "solution": false
    }
   },
   "outputs": [],
   "source": [
    "# These assertions will help make sure that you're on the right track.\n",
    "assert(mo_hospitals['State'].unique() == ['MO'])\n",
    "assert(mo_hospitals.shape == (2133,18))"
   ]
  },
  {
   "cell_type": "markdown",
   "metadata": {
    "nbgrader": {
     "grade": false,
     "grade_id": "q2-intro",
     "locked": true,
     "schema_version": 1,
     "solution": false
    }
   },
   "source": [
    "## STEP 2 - Transform and Aggregate\n",
    "\n",
    "<img src=\"images/step2.png\" alt=\"Transforma and Aggregate Output\" style=\"width: 500px; float: right; margin-left: 20px; border: 1px solid\">\n",
    "\n",
    "In the next step, we need to aggregate the results by hospital.  There are some key fields that we want to summarize, though:\n",
    "* We want to know the earliest date that each hospital was participating in any program\n",
    "* We want to know the latest date that each hospital stopped participating in any program\n",
    "* We want to know the total number of patients in the denominators of these programs\n",
    "\n",
    "Some things to note:\n",
    "* You will need to convert the `Start Date` and `End Date` to actual datetime fields\n",
    "* You will need to clean up and convert the `Denominator` field to just be numeric - the rule that you should use it to simply remove any records where the `Denominator` is `'Not Available'`\n",
    "\n",
    "The final result of this step should be a new data frame called `mo_summary` that contains one row for each hospital and contains the min start date, max end date, and total denominator.  Use the names `start_date`, `end_date`, and `number` for those columns in `mo_summary`.\n",
    "\n",
    "A screenshot is included for reference."
   ]
  },
  {
   "cell_type": "code",
   "execution_count": 61,
   "metadata": {
    "nbgrader": {
     "grade": false,
     "grade_id": "q2-solution",
     "locked": false,
     "schema_version": 1,
     "solution": true
    }
   },
   "outputs": [
    {
     "data": {
      "text/html": [
       "<div>\n",
       "<style scoped>\n",
       "    .dataframe tbody tr th:only-of-type {\n",
       "        vertical-align: middle;\n",
       "    }\n",
       "\n",
       "    .dataframe tbody tr th {\n",
       "        vertical-align: top;\n",
       "    }\n",
       "\n",
       "    .dataframe thead th {\n",
       "        text-align: right;\n",
       "    }\n",
       "</style>\n",
       "<table border=\"1\" class=\"dataframe\">\n",
       "  <thead>\n",
       "    <tr style=\"text-align: right;\">\n",
       "      <th></th>\n",
       "      <th>start_date</th>\n",
       "      <th>end_date</th>\n",
       "      <th>number</th>\n",
       "    </tr>\n",
       "    <tr>\n",
       "      <th>Facility Name</th>\n",
       "      <th></th>\n",
       "      <th></th>\n",
       "      <th></th>\n",
       "    </tr>\n",
       "  </thead>\n",
       "  <tbody>\n",
       "    <tr>\n",
       "      <th>BARNES JEWISH HOSPITAL</th>\n",
       "      <td>2015-04-01</td>\n",
       "      <td>2018-06-30</td>\n",
       "      <td>131313</td>\n",
       "    </tr>\n",
       "    <tr>\n",
       "      <th>BARNES-JEWISH ST PETERS HOSPITAL</th>\n",
       "      <td>2015-04-01</td>\n",
       "      <td>2018-06-30</td>\n",
       "      <td>15668</td>\n",
       "    </tr>\n",
       "    <tr>\n",
       "      <th>BARNES-JEWISH WEST COUNTY HOSPITAL</th>\n",
       "      <td>2015-04-01</td>\n",
       "      <td>2018-06-30</td>\n",
       "      <td>9622</td>\n",
       "    </tr>\n",
       "    <tr>\n",
       "      <th>BATES COUNTY MEMORIAL HOSPITAL</th>\n",
       "      <td>2015-07-01</td>\n",
       "      <td>2018-06-30</td>\n",
       "      <td>3117</td>\n",
       "    </tr>\n",
       "    <tr>\n",
       "      <th>BELTON REGIONAL MEDICAL CENTER</th>\n",
       "      <td>2015-04-01</td>\n",
       "      <td>2018-06-30</td>\n",
       "      <td>9270</td>\n",
       "    </tr>\n",
       "  </tbody>\n",
       "</table>\n",
       "</div>"
      ],
      "text/plain": [
       "                                   start_date   end_date  number\n",
       "Facility Name                                                   \n",
       "BARNES JEWISH HOSPITAL             2015-04-01 2018-06-30  131313\n",
       "BARNES-JEWISH ST PETERS HOSPITAL   2015-04-01 2018-06-30   15668\n",
       "BARNES-JEWISH WEST COUNTY HOSPITAL 2015-04-01 2018-06-30    9622\n",
       "BATES COUNTY MEMORIAL HOSPITAL     2015-07-01 2018-06-30    3117\n",
       "BELTON REGIONAL MEDICAL CENTER     2015-04-01 2018-06-30    9270"
      ]
     },
     "execution_count": 61,
     "metadata": {},
     "output_type": "execute_result"
    }
   ],
   "source": [
    "#convert string to datetime format\n",
    "start_date = pd.to_datetime(mo_hospitals['Start Date'].astype(str), format = '%m/%d/%Y')\n",
    "end_date = pd.to_datetime(mo_hospitals['End Date'].astype(str), format = '%m/%d/%Y')\n",
    "\n",
    "#Using 'start' and 'end' as the column name \n",
    "mo_hospitals['start'] = start_date\n",
    "mo_hospitals['end'] = end_date\n",
    "\n",
    "#filter the column 'Denominator' which is not 'Not Available',and\n",
    "#Using 'count' as the column name and covert it to integer\n",
    "mo_hospitals = mo_hospitals[mo_hospitals['Denominator'] != 'Not Available']\n",
    "mo_hospitals['count'] = mo_hospitals['Denominator'].astype(int)\n",
    "\n",
    "#Group by Facility Name and calculate the minimum start date,\n",
    "#the maximum end date and total sum\n",
    "mo_summary = mo_hospitals.groupby('Facility Name').aggregate({\n",
    "    'start': ['min'], \n",
    "    'end': ['max'], \n",
    "    'count': ['sum']})\n",
    "#reassign the column name\n",
    "mo_summary.columns = ['start_date','end_date','number']\n",
    "\n",
    "#Viewing the first 5 lines\n",
    "mo_summary.head()"
   ]
  },
  {
   "cell_type": "code",
   "execution_count": null,
   "metadata": {
    "nbgrader": {
     "grade": false,
     "grade_id": "q2-solution",
     "locked": false,
     "schema_version": 1,
     "solution": true
    }
   },
   "outputs": [],
   "source": []
  },
  {
   "cell_type": "code",
   "execution_count": 62,
   "metadata": {
    "nbgrader": {
     "grade": false,
     "grade_id": "q2-solution",
     "locked": false,
     "schema_version": 1,
     "solution": true
    }
   },
   "outputs": [
    {
     "data": {
      "text/plain": [
       "1766908"
      ]
     },
     "execution_count": 62,
     "metadata": {},
     "output_type": "execute_result"
    }
   ],
   "source": [
    "mo_summary['number'].sum()"
   ]
  },
  {
   "cell_type": "code",
   "execution_count": 63,
   "metadata": {
    "nbgrader": {
     "grade": false,
     "grade_id": "q2-solution",
     "locked": false,
     "schema_version": 1,
     "solution": true
    }
   },
   "outputs": [
    {
     "data": {
      "text/plain": [
       "Timestamp('2015-04-01 00:00:00')"
      ]
     },
     "execution_count": 63,
     "metadata": {},
     "output_type": "execute_result"
    }
   ],
   "source": [
    "mo_summary['start_date'].min()"
   ]
  },
  {
   "cell_type": "code",
   "execution_count": 64,
   "metadata": {
    "nbgrader": {
     "grade": false,
     "grade_id": "q2-solution",
     "locked": false,
     "schema_version": 1,
     "solution": true
    }
   },
   "outputs": [
    {
     "data": {
      "text/plain": [
       "Timestamp('2018-06-30 00:00:00')"
      ]
     },
     "execution_count": 64,
     "metadata": {},
     "output_type": "execute_result"
    }
   ],
   "source": [
    "mo_summary['end_date'].max()"
   ]
  },
  {
   "cell_type": "code",
   "execution_count": 65,
   "metadata": {
    "nbgrader": {
     "grade": false,
     "grade_id": "q2-solution",
     "locked": false,
     "schema_version": 1,
     "solution": true
    }
   },
   "outputs": [
    {
     "data": {
      "text/plain": [
       "(108, 3)"
      ]
     },
     "execution_count": 65,
     "metadata": {},
     "output_type": "execute_result"
    }
   ],
   "source": [
    "mo_summary.shape"
   ]
  },
  {
   "cell_type": "code",
   "execution_count": 66,
   "metadata": {
    "nbgrader": {
     "grade": false,
     "grade_id": "q2-solution",
     "locked": false,
     "schema_version": 1,
     "solution": true
    }
   },
   "outputs": [
    {
     "data": {
      "text/plain": [
       "131313"
      ]
     },
     "execution_count": 66,
     "metadata": {},
     "output_type": "execute_result"
    }
   ],
   "source": [
    "mo_summary.loc['BARNES JEWISH HOSPITAL'].number"
   ]
  },
  {
   "cell_type": "code",
   "execution_count": 67,
   "metadata": {
    "nbgrader": {
     "grade": false,
     "grade_id": "q2-solution",
     "locked": false,
     "schema_version": 1,
     "solution": true
    }
   },
   "outputs": [
    {
     "data": {
      "text/plain": [
       "63099"
      ]
     },
     "execution_count": 67,
     "metadata": {},
     "output_type": "execute_result"
    }
   ],
   "source": [
    "mo_summary.loc['BOONE HOSPITAL CENTER'].number"
   ]
  },
  {
   "cell_type": "code",
   "execution_count": null,
   "metadata": {
    "nbgrader": {
     "grade": false,
     "grade_id": "q2-solution",
     "locked": false,
     "schema_version": 1,
     "solution": true
    }
   },
   "outputs": [],
   "source": []
  },
  {
   "cell_type": "code",
   "execution_count": 68,
   "metadata": {
    "nbgrader": {
     "grade": true,
     "grade_id": "q2-test",
     "locked": true,
     "points": 5,
     "schema_version": 1,
     "solution": false
    }
   },
   "outputs": [],
   "source": [
    "assert(mo_summary['number'].sum() == 1766908)\n",
    "assert(mo_summary['start_date'].min() == pd.Timestamp(2015,4,1))\n",
    "assert(mo_summary['end_date'].max() == pd.Timestamp(2018,6,30))\n",
    "assert(mo_summary.shape == (108,3))\n",
    "assert(mo_summary.loc['BARNES JEWISH HOSPITAL'].number == 131313)\n",
    "assert(mo_summary.loc['BOONE HOSPITAL CENTER'].number == 63099)"
   ]
  },
  {
   "cell_type": "markdown",
   "metadata": {
    "nbgrader": {
     "grade": false,
     "grade_id": "q3-intro",
     "locked": true,
     "schema_version": 1,
     "solution": false
    }
   },
   "source": [
    "## STEP 3: Average Per Day\n",
    "\n",
    "<img src=\"images/step3.png\" alt=\"Average per Day\" style=\"width: 500px; margin-left: 20px; float: right; border: 1px solid\">\n",
    "\n",
    "\n",
    "The next step, now that we have a start date, end date, and total patients for each day is to calculate how many patients on average per day this represents.  You will need to calculate the number of days between the start date and end date, and then the average as total patients divided by number of days.\n",
    "\n",
    "Your final output should still be the variable `mo_summary`, and it will need to have two additional columns: `days` and `per_day`.\n",
    "\n",
    "A screenshot is included for reference.\n"
   ]
  },
  {
   "cell_type": "code",
   "execution_count": 69,
   "metadata": {
    "nbgrader": {
     "grade": false,
     "grade_id": "q3-solution",
     "locked": false,
     "schema_version": 1,
     "solution": true
    }
   },
   "outputs": [
    {
     "data": {
      "text/html": [
       "<div>\n",
       "<style scoped>\n",
       "    .dataframe tbody tr th:only-of-type {\n",
       "        vertical-align: middle;\n",
       "    }\n",
       "\n",
       "    .dataframe tbody tr th {\n",
       "        vertical-align: top;\n",
       "    }\n",
       "\n",
       "    .dataframe thead th {\n",
       "        text-align: right;\n",
       "    }\n",
       "</style>\n",
       "<table border=\"1\" class=\"dataframe\">\n",
       "  <thead>\n",
       "    <tr style=\"text-align: right;\">\n",
       "      <th></th>\n",
       "      <th>start_date</th>\n",
       "      <th>end_date</th>\n",
       "      <th>number</th>\n",
       "      <th>days</th>\n",
       "      <th>per_day</th>\n",
       "    </tr>\n",
       "    <tr>\n",
       "      <th>Facility Name</th>\n",
       "      <th></th>\n",
       "      <th></th>\n",
       "      <th></th>\n",
       "      <th></th>\n",
       "      <th></th>\n",
       "    </tr>\n",
       "  </thead>\n",
       "  <tbody>\n",
       "    <tr>\n",
       "      <th>BARNES JEWISH HOSPITAL</th>\n",
       "      <td>2015-04-01</td>\n",
       "      <td>2018-06-30</td>\n",
       "      <td>131313</td>\n",
       "      <td>1186</td>\n",
       "      <td>110.719224</td>\n",
       "    </tr>\n",
       "    <tr>\n",
       "      <th>BARNES-JEWISH ST PETERS HOSPITAL</th>\n",
       "      <td>2015-04-01</td>\n",
       "      <td>2018-06-30</td>\n",
       "      <td>15668</td>\n",
       "      <td>1186</td>\n",
       "      <td>13.210793</td>\n",
       "    </tr>\n",
       "    <tr>\n",
       "      <th>BARNES-JEWISH WEST COUNTY HOSPITAL</th>\n",
       "      <td>2015-04-01</td>\n",
       "      <td>2018-06-30</td>\n",
       "      <td>9622</td>\n",
       "      <td>1186</td>\n",
       "      <td>8.112985</td>\n",
       "    </tr>\n",
       "    <tr>\n",
       "      <th>BATES COUNTY MEMORIAL HOSPITAL</th>\n",
       "      <td>2015-07-01</td>\n",
       "      <td>2018-06-30</td>\n",
       "      <td>3117</td>\n",
       "      <td>1095</td>\n",
       "      <td>2.846575</td>\n",
       "    </tr>\n",
       "    <tr>\n",
       "      <th>BELTON REGIONAL MEDICAL CENTER</th>\n",
       "      <td>2015-04-01</td>\n",
       "      <td>2018-06-30</td>\n",
       "      <td>9270</td>\n",
       "      <td>1186</td>\n",
       "      <td>7.816189</td>\n",
       "    </tr>\n",
       "  </tbody>\n",
       "</table>\n",
       "</div>"
      ],
      "text/plain": [
       "                                   start_date   end_date  number  days  \\\n",
       "Facility Name                                                            \n",
       "BARNES JEWISH HOSPITAL             2015-04-01 2018-06-30  131313  1186   \n",
       "BARNES-JEWISH ST PETERS HOSPITAL   2015-04-01 2018-06-30   15668  1186   \n",
       "BARNES-JEWISH WEST COUNTY HOSPITAL 2015-04-01 2018-06-30    9622  1186   \n",
       "BATES COUNTY MEMORIAL HOSPITAL     2015-07-01 2018-06-30    3117  1095   \n",
       "BELTON REGIONAL MEDICAL CENTER     2015-04-01 2018-06-30    9270  1186   \n",
       "\n",
       "                                       per_day  \n",
       "Facility Name                                   \n",
       "BARNES JEWISH HOSPITAL              110.719224  \n",
       "BARNES-JEWISH ST PETERS HOSPITAL     13.210793  \n",
       "BARNES-JEWISH WEST COUNTY HOSPITAL    8.112985  \n",
       "BATES COUNTY MEMORIAL HOSPITAL        2.846575  \n",
       "BELTON REGIONAL MEDICAL CENTER        7.816189  "
      ]
     },
     "execution_count": 69,
     "metadata": {},
     "output_type": "execute_result"
    }
   ],
   "source": [
    "#Calcute the number of days between the start date and end date\n",
    "#Using 'days' as a column name\n",
    "mo_summary['days'] = (mo_summary.end_date - mo_summary.start_date).dt.days\n",
    "\n",
    "#calculate the average number per day\n",
    "#Using 'per_day' as a column name\n",
    "mo_summary['per_day'] = mo_summary['number'] / mo_summary['days']\n",
    "\n",
    "#Viewing the first 5 lines\n",
    "mo_summary.head()"
   ]
  },
  {
   "cell_type": "code",
   "execution_count": null,
   "metadata": {
    "nbgrader": {
     "grade": false,
     "grade_id": "q3-solution",
     "locked": false,
     "schema_version": 1,
     "solution": true
    }
   },
   "outputs": [],
   "source": []
  },
  {
   "cell_type": "code",
   "execution_count": 70,
   "metadata": {
    "nbgrader": {
     "grade": false,
     "grade_id": "q3-solution",
     "locked": false,
     "schema_version": 1,
     "solution": true
    }
   },
   "outputs": [
    {
     "data": {
      "text/plain": [
       "123718"
      ]
     },
     "execution_count": 70,
     "metadata": {},
     "output_type": "execute_result"
    }
   ],
   "source": [
    "mo_summary['days'].sum()"
   ]
  },
  {
   "cell_type": "code",
   "execution_count": 71,
   "metadata": {
    "nbgrader": {
     "grade": false,
     "grade_id": "q3-solution",
     "locked": false,
     "schema_version": 1,
     "solution": true
    }
   },
   "outputs": [
    {
     "data": {
      "text/plain": [
       "13.841279932122697"
      ]
     },
     "execution_count": 71,
     "metadata": {},
     "output_type": "execute_result"
    }
   ],
   "source": [
    "mo_summary['per_day'].mean()"
   ]
  },
  {
   "cell_type": "code",
   "execution_count": 72,
   "metadata": {
    "nbgrader": {
     "grade": false,
     "grade_id": "q3-solution",
     "locked": false,
     "schema_version": 1,
     "solution": true
    }
   },
   "outputs": [
    {
     "data": {
      "text/plain": [
       "0.023744292237442923"
      ]
     },
     "execution_count": 72,
     "metadata": {},
     "output_type": "execute_result"
    }
   ],
   "source": [
    "mo_summary['per_day'].min()"
   ]
  },
  {
   "cell_type": "code",
   "execution_count": 73,
   "metadata": {
    "nbgrader": {
     "grade": false,
     "grade_id": "q3-solution",
     "locked": false,
     "schema_version": 1,
     "solution": true
    }
   },
   "outputs": [
    {
     "data": {
      "text/plain": [
       "729"
      ]
     },
     "execution_count": 73,
     "metadata": {},
     "output_type": "execute_result"
    }
   ],
   "source": [
    "mo_summary['days'].min()"
   ]
  },
  {
   "cell_type": "code",
   "execution_count": 74,
   "metadata": {},
   "outputs": [
    {
     "data": {
      "text/plain": [
       "1186"
      ]
     },
     "execution_count": 74,
     "metadata": {},
     "output_type": "execute_result"
    }
   ],
   "source": [
    "mo_summary['days'].max()"
   ]
  },
  {
   "cell_type": "code",
   "execution_count": null,
   "metadata": {},
   "outputs": [],
   "source": []
  },
  {
   "cell_type": "code",
   "execution_count": 75,
   "metadata": {
    "nbgrader": {
     "grade": true,
     "grade_id": "q3-tests",
     "locked": true,
     "points": 5,
     "schema_version": 1,
     "solution": false
    }
   },
   "outputs": [],
   "source": [
    "assert(mo_summary['days'].sum() == 123718)\n",
    "assert(mo_summary['per_day'].mean() == 13.841279932122697)\n",
    "assert(mo_summary['per_day'].min() == 0.023744292237442923)\n",
    "assert(mo_summary['days'].min() == 729)\n",
    "assert(mo_summary['days'].max() == 1186)"
   ]
  },
  {
   "cell_type": "markdown",
   "metadata": {
    "nbgrader": {
     "grade": false,
     "grade_id": "q4-histogram",
     "locked": true,
     "schema_version": 1,
     "solution": false
    }
   },
   "source": [
    "## STEP 4: Histogram\n",
    "\n",
    "<img src=\"images/step4.png\" alt=\"Histogram\" style=\"width: 300px; float: right; margin-left: 20px; border: 1px solid\">\n",
    "\n",
    "For this step, I want you to plot a histogram to give yourself a better understanding of this new metric we've calculated: how many patients per day have a potential complication.  Looking at the shape and distribution of the data might give us some indication of the hospital volume and quality.  (Don't take this too seriously, though.  We're cutting some important corners.)\n",
    "\n",
    "A screenshot is included for reference."
   ]
  },
  {
   "cell_type": "code",
   "execution_count": 76,
   "metadata": {
    "nbgrader": {
     "grade": true,
     "grade_id": "q4-solution",
     "locked": false,
     "points": 3,
     "schema_version": 1,
     "solution": true
    }
   },
   "outputs": [
    {
     "data": {
      "text/plain": [
       "<matplotlib.axes._subplots.AxesSubplot at 0x7fd0e046e630>"
      ]
     },
     "execution_count": 76,
     "metadata": {},
     "output_type": "execute_result"
    },
    {
     "data": {
      "image/png": "[encoded data removed]",
      "text/plain": [
       "<Figure size 432x288 with 1 Axes>"
      ]
     },
     "metadata": {
      "needs_background": "light"
     },
     "output_type": "display_data"
    }
   ],
   "source": [
    "%matplotlib inline\n",
    "#plot the histogram\n",
    "mo_summary['per_day'].hist()\n"
   ]
  },
  {
   "cell_type": "code",
   "execution_count": null,
   "metadata": {
    "nbgrader": {
     "grade": true,
     "grade_id": "q4-solution",
     "locked": false,
     "points": 3,
     "schema_version": 1,
     "solution": true
    }
   },
   "outputs": [],
   "source": []
  },
  {
   "cell_type": "markdown",
   "metadata": {
    "nbgrader": {
     "grade": false,
     "grade_id": "q5-intro",
     "locked": true,
     "schema_version": 1,
     "solution": false
    }
   },
   "source": [
    "## STEP 5: Rank Order\n",
    "\n",
    "Now that we see what the distribution looks like, you can tell that most of the `per_day` values are below 20.  There are, however, some outliers up around 100!  Who are those?  Let's rank the data set by the `per_day` value in descending order, examine them, and produce a list of the \"top 3\" based on this criteria.  That is, who are the top three hospitals based on having the highest `per_day` values.\n",
    "\n",
    "At the end of this step, put those hospital names in a list called `top_hospitals` and that will be used for testing.  They should be in the order they appear `[#1, #2, #3]`.  That is, if the top hospitals were Mercy (99.3), BJC (97.2), and MoBap (90.1), then you would have `top_hospitals = ['Mercy','BJC','MoBap']`"
   ]
  },
  {
   "cell_type": "code",
   "execution_count": 77,
   "metadata": {
    "nbgrader": {
     "grade": false,
     "grade_id": "q5-solution",
     "locked": false,
     "schema_version": 1,
     "solution": true
    }
   },
   "outputs": [],
   "source": [
    "##rank of per_day using 'rank' as a column name\n",
    "mo_summary['rank'] = mo_summary['per_day'].rank()\n",
    "#sort values in descending order\n",
    "mo_summary = mo_summary.sort_values(by=['rank'], ascending=False)\n",
    "\n",
    "#calculate the top three hospitals based on having the highest per_day values.\n",
    "top_hospitals = mo_summary[:3].index.values.tolist()"
   ]
  },
  {
   "cell_type": "code",
   "execution_count": null,
   "metadata": {
    "nbgrader": {
     "grade": false,
     "grade_id": "q5-solution",
     "locked": false,
     "schema_version": 1,
     "solution": true
    }
   },
   "outputs": [],
   "source": []
  },
  {
   "cell_type": "code",
   "execution_count": 78,
   "metadata": {
    "nbgrader": {
     "grade": false,
     "grade_id": "q5-solution",
     "locked": false,
     "schema_version": 1,
     "solution": true
    }
   },
   "outputs": [
    {
     "data": {
      "text/plain": [
       "list"
      ]
     },
     "execution_count": 78,
     "metadata": {},
     "output_type": "execute_result"
    }
   ],
   "source": [
    "type(top_hospitals)"
   ]
  },
  {
   "cell_type": "code",
   "execution_count": 79,
   "metadata": {
    "nbgrader": {
     "grade": false,
     "grade_id": "q5-solution",
     "locked": false,
     "schema_version": 1,
     "solution": true
    }
   },
   "outputs": [
    {
     "data": {
      "text/plain": [
       "['BARNES JEWISH HOSPITAL', 'MERCY HOSPITAL SPRINGFIELD', 'COX MEDICAL CENTERS']"
      ]
     },
     "execution_count": 79,
     "metadata": {},
     "output_type": "execute_result"
    }
   ],
   "source": [
    "top_hospitals"
   ]
  },
  {
   "cell_type": "code",
   "execution_count": null,
   "metadata": {
    "nbgrader": {
     "grade": false,
     "grade_id": "q5-solution",
     "locked": false,
     "schema_version": 1,
     "solution": true
    }
   },
   "outputs": [],
   "source": []
  },
  {
   "cell_type": "code",
   "execution_count": 80,
   "metadata": {
    "nbgrader": {
     "grade": true,
     "grade_id": "q5-tests",
     "locked": true,
     "points": 5,
     "schema_version": 1,
     "solution": false
    }
   },
   "outputs": [],
   "source": [
    "assert(type(top_hospitals) == list)\n",
    "### BEGIN HIDDEN TESTS\n",
    "assert(top_hospitals == ['BARNES JEWISH HOSPITAL', 'MERCY HOSPITAL SPRINGFIELD', 'COX MEDICAL CENTERS'])\n",
    "### END HIDDEN TESTS"
   ]
  },
  {
   "cell_type": "code",
   "execution_count": null,
   "metadata": {},
   "outputs": [],
   "source": []
  },
  {
   "cell_type": "code",
   "execution_count": null,
   "metadata": {},
   "outputs": [],
   "source": []
  }
 ],
 "metadata": {
  "celltoolbar": "Create Assignment",
  "kernelspec": {
   "display_name": "Python 3",
   "language": "python",
   "name": "python3"
  },
  "language_info": {
   "codemirror_mode": {
    "name": "ipython",
    "version": 3
   },
   "file_extension": ".py",
   "mimetype": "text/x-python",
   "name": "python",
   "nbconvert_exporter": "python",
   "pygments_lexer": "ipython3",
   "version": "3.6.7"
  }
 },
 "nbformat": 4,
 "nbformat_minor": 2
}
