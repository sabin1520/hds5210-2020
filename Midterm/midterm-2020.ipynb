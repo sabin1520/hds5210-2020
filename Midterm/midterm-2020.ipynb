{
 "cells": [
  {
   "cell_type": "markdown",
   "metadata": {},
   "source": [
    "# HDS5210-2020 Midterm\n",
    "\n",
    "In the midterm, you're going to focus on using the programming skills that you've developed so far to build a calculator for the Apache II scoring system for ICU Mortality.  \n",
    "* https://www.mdcalc.com/apache-ii-score#evidence\n",
    "* https://reference.medscape.com/calculator/apache-ii-scoring-system\n",
    "\n",
    "For the midterm, we'll be building a calculator for the Apache II score and then running that against a patient file that's available to you out on the internet.  This will be broken down into three main steps:\n",
    "1. Create your JSON file to encapsulate all of the calculation rules for Apache II\n",
    "2. Create functions to calculate the Apache II score using your JSON configuration\n",
    "3. Create a function to loop over the patients in a file on the internet and calculate Apach II scores for all of them\n",
    "\n"
   ]
  },
  {
   "cell_type": "markdown",
   "metadata": {},
   "source": [
    "---\n",
    "\n",
    "## Part 1: Creating a JSON Rules File\n",
    "\n",
    "Look at the rules for the Apache II scoring system on the pages above.  The first step in the midterm is to use those rules and create a JSON configuration file as described in the 2019 midterm video.  I've provided a starter file named `apache.json` to get you started.\n",
    "\n",
    "Inside that file, you'll find placeholders for all of the measures that go into the Apache II scoring model:\n",
    "* Organ Failure History\n",
    "* Age\n",
    "* Temperature\n",
    "* [pH](https://en.wikipedia.org/wiki/PH)\n",
    "* Heart rate\n",
    "* Respiratory rate\n",
    "* [Sodium](https://www.mayoclinic.org/diseases-conditions/hyponatremia/symptoms-causes/syc-20373711)\n",
    "* [Potassium](https://www.emedicinehealth.com/hyperkalemia/article_em.htm)\n",
    "* [Creatinine](https://www.medicalnewstoday.com/articles/322380)\n",
    "* [Hematocrit](https://labtestsonline.org/tests/hematocrit)\n",
    "* White Blood Count\n",
    "* [FiO2](https://www.ausmed.com/cpd/articles/oxygen-flow-rate-and-fio2)\n",
    "* [PaO2](https://www.verywellhealth.com/partial-pressure-of-oyxgen-pa02-914920)\n",
    "* [A-a gradient](https://www.ncbi.nlm.nih.gov/books/NBK545153/)\n",
    "\n",
    "\n",
    "You may need to create a sort of nested set of rules in some cases.  For instance, the rule for Creatinine says to use certain ranges and points in the case of Acute Renal Failure and a different set of points for Chronic Renal Failure.\n",
    "\n",
    "Similarly, the rule for FiO2 says to use PaO2 to calculate scores if the FiO2 is <50, and to use A-a Gradient if the PaO2 is >50.\n",
    "\n",
    "When you've created your `apache.json` file, make sure it's in the same directory as this notebook."
   ]
  },
  {
   "cell_type": "markdown",
   "metadata": {},
   "source": [
    "```python\n",
    "{\n",
    "   \"Organ Failure History\" : [\n",
    "        { \"matches\": \"Nonoperative\", \"points\": 5 },\n",
    "        { \"matches\": \"Emergency\", \"points\": 5 },\n",
    "        { \"matches\": \"Elective\", \"points\": 2 },\n",
    "        { \"matches\": \"None\", \"points\": 0 }\n",
    "    ],\n",
    "    \"Age\": [\n",
    "        { \"min\": 0, \"max\": 45, \"points\": 0 },\n",
    "        { \"min\": 45, \"max\": 55, \"points\": 2 },\n",
    "        { \"min\": 55, \"max\": 65, \"points\": 3 },\n",
    "        { \"min\": 65, \"max\": 75, \"points\": 5 },\n",
    "        { \"min\": 75, \"max\": 999, \"points\": 6 }\n",
    "    ],\n",
    "    \"Creatinine\": [\n",
    "        { \"rules\": [ { \"prop\": \"Acute Renal Failure\", \"matches\": \"Acute Renal Failure\" }, { \"min\": 3.5, \"max\": 999 } ], \"points\": 8 },\n",
    "        { \"rules\": [ { \"prop\": \"Acute Renal Failure\", \"matches\": \"Acute Renal Failure\" }, { \"min\": 2.0, \"max\": 3.5 } ], \"points\": 6 },\n",
    "        { \"rules\": [ { \"prop\": \"Acute Renal Failure\", \"matches\": \"Chronic Renal Failure\", \"q\": true }, { \"min\": 3.5, \"max\": 999 } ], \"points\": 4 },\n",
    "        { \"rules\": [ { \"prop\": \"Acute Renal Failure\", \"matches\": \"Acute Renal Failure\" }, { \"min\": 1.5, \"max\": 2.0 } ], \"points\": 4 },\n",
    "        { \"rules\": [ { \"prop\": \"Acute Renal Failure\", \"matches\": \"Chronic Renal Failure\" }, { \"min\": 2.0, \"max\": 3.5 } ], \"points\": 3 },\n",
    "        { \"rules\": [ { \"prop\": \"Acute Renal Failure\", \"matches\": \"Chronic Renal Failure\" }, { \"min\": 1.5, \"max\": 2.0 } ], \"points\": 2 },\n",
    "        { \"min\": 0.6, \"max\": 1.5, \"points\": 0 },\n",
    "        { \"min\": 0, \"max\": 0.6, \"points\": 2 }\n",
    "    ],\n",
    "    \"Temperature\": [\n",
    "        { \"min\": 0, \"max\": 30, \"points\": 4 },\n",
    "        { \"min\": 30, \"max\": 32, \"points\": 3 },\n",
    "        { \"min\": 32, \"max\": 34, \"points\": 2 },\n",
    "        { \"min\": 34, \"max\": 36, \"points\": 1 },\n",
    "        { \"min\": 36, \"max\": 38.5, \"points\": 0 },\n",
    "        { \"min\": 38.5, \"max\": 39, \"points\": 1 },\n",
    "        { \"min\": 39, \"max\": 41, \"points\": 3 },\n",
    "        { \"min\": 41, \"max\": 100, \"points\": 4 }\n",
    "    ],\n",
    "    \"Heart Rate\": [\n",
    "        { \"min\": 0, \"max\": 40, \"points\": 4 },\n",
    "        { \"min\": 40, \"max\": 55, \"points\": 3 },\n",
    "        { \"min\": 55, \"max\": 70, \"points\": 2 },\n",
    "        { \"min\": 70, \"max\": 110, \"points\": 0 },\n",
    "        { \"min\": 110, \"max\": 140, \"points\": 2 },\n",
    "        { \"min\": 140, \"max\": 180, \"points\": 3 },\n",
    "        { \"min\": 180, \"max\": 999, \"points\": 4 }\n",
    "    ],\n",
    "    \"Respiratory Rate\": [\n",
    "        { \"min\": 0, \"max\": 6, \"points\": 4 },\n",
    "        { \"min\": 6, \"max\": 10, \"points\": 2 },\n",
    "        { \"min\": 10, \"max\": 12, \"points\": 1 },\n",
    "        { \"min\": 12, \"max\": 25, \"points\": 0 },\n",
    "        { \"min\": 25, \"max\": 35, \"points\": 1 },\n",
    "        { \"min\": 35, \"max\": 50, \"points\": 3 },\n",
    "        { \"min\": 50, \"max\": 999, \"points\": 4 }\n",
    "    ],\n",
    "    \"pH\": [\n",
    "        { \"min\": 0, \"max\": 7.15, \"points\": 4 },\n",
    "        { \"min\": 7.15, \"max\": 7.25, \"points\": 3 },\n",
    "        { \"min\": 7.25, \"max\": 7.33, \"points\": 2 },\n",
    "        { \"min\": 7.33, \"max\": 7.50, \"points\": 0 },\n",
    "        { \"min\": 7.50, \"max\": 7.60, \"points\": 1 },\n",
    "        { \"min\": 7.60, \"max\": 7.70, \"points\": 3 },\n",
    "        { \"min\": 7.70, \"max\": 999, \"points\": 4 }\n",
    "    ],\n",
    "    \"Sodium\": [\n",
    "        { \"min\": 0, \"max\": 111, \"points\": 4 },\n",
    "        { \"min\": 111, \"max\": 120, \"points\": 3 },\n",
    "        { \"min\": 120, \"max\": 130, \"points\": 2 },\n",
    "        { \"min\": 130, \"max\": 150, \"points\": 0 },\n",
    "        { \"min\": 150, \"max\": 155, \"points\": 1 },\n",
    "        { \"min\": 155, \"max\": 160, \"points\": 2 },\n",
    "        { \"min\": 160, \"max\": 180, \"points\": 3 },\n",
    "        { \"min\": 180, \"max\": 999, \"points\": 4 }\n",
    "    ],\n",
    "    \"Potassium\": [\n",
    "        { \"min\": 0, \"max\": 2.5, \"points\": 4 },\n",
    "        { \"min\": 2.5, \"max\": 3.0, \"points\": 2 },\n",
    "        { \"min\": 3.0, \"max\": 3.5, \"points\": 1 },\n",
    "        { \"min\": 3.5, \"max\": 5.5, \"points\": 0 },\n",
    "        { \"min\": 5.5, \"max\": 6.0, \"points\": 1 },\n",
    "        { \"min\": 6.0, \"max\": 7.0, \"points\": 3 },\n",
    "        { \"min\": 7.0, \"max\": 999, \"points\": 4 }\n",
    "    ],\n",
    "    \"Hematocrit\" : [\n",
    "        { \"min\": 0, \"max\": 20, \"points\": 4 },\n",
    "        { \"min\": 20, \"max\": 30, \"points\": 2 },\n",
    "        { \"min\": 30, \"max\": 46, \"points\": 0 },\n",
    "        { \"min\": 46, \"max\": 50, \"points\": 1 },\n",
    "        { \"min\": 50, \"max\": 60, \"points\": 2 },\n",
    "        { \"min\": 60, \"max\": 999, \"points\": 4 }\n",
    "    ],\n",
    "    \"White Blood Count\": [\n",
    "        { \"min\": 0, \"max\": 1, \"points\": 4 },\n",
    "        { \"min\": 1, \"max\": 3, \"points\": 2 },\n",
    "        { \"min\": 3, \"max\": 15, \"points\": 0 },\n",
    "        { \"min\": 15, \"max\": 20, \"points\": 1 },\n",
    "        { \"min\": 20, \"max\": 40, \"points\": 2 },\n",
    "        { \"min\": 40, \"max\": 999, \"points\": 4 }\n",
    "    ],\n",
    "    \"FiO2\": [\n",
    "        { \"rules\": [ { \"min\": 0, \"max\": 50 }, { \"prop\": \"PaO2\", \"min\": 0, \"max\": 55 } ], \"points\": 4 },\n",
    "        { \"rules\": [ { \"min\": 0, \"max\": 50 }, { \"prop\": \"PaO2\", \"min\": 55, \"max\": 61 } ], \"points\": 3 },\n",
    "        { \"rules\": [ { \"min\": 0, \"max\": 50 }, { \"prop\": \"PaO2\", \"min\": 61, \"max\": 71 } ], \"points\": 1 },\n",
    "        { \"rules\": [ { \"min\": 0, \"max\": 50 }, { \"prop\": \"PaO2\", \"min\": 71, \"max\": 999 } ], \"points\": 0 },\n",
    "        \n",
    "        { \"rules\": [ { \"min\": 50, \"max\": 101}, { \"prop\": \"A-a Gradient\", \"min\": 0, \"max\": 200 } ], \"points\": 0},\n",
    "        { \"rules\": [ { \"min\": 50, \"max\": 101}, { \"prop\": \"A-a Gradient\", \"min\": 200, \"max\": 350 } ], \"points\": 2},\n",
    "        { \"rules\": [ { \"min\": 50, \"max\": 101}, { \"prop\": \"A-a Gradient\", \"min\": 350, \"max\": 500 } ], \"points\": 3},\n",
    "        { \"rules\": [ { \"min\": 50, \"max\": 101}, { \"prop\": \"A-a Gradient\", \"min\": 500, \"max\": 999 } ], \"points\": 4}\n",
    "    ],\n",
    "    \"Glasgow Coma Scale\": [\n",
    "        {\"min\": 1, \"max\": 16, \"points\": \"15-_\"}\n",
    "    ]\n",
    "}\n",
    "```"
   ]
  },
  {
   "cell_type": "markdown",
   "metadata": {},
   "source": [
    "### Testing your JSON\n",
    "\n",
    "The assert() functions below should all run just fine.  If you want to change the names of any of the keys in the JSON I provided you, you may, but you'll also need to update this test code so that it doesn't fail.  Remember, your notebook should be able to run end-to-end before you submit it."
   ]
  },
  {
   "cell_type": "code",
   "execution_count": 62,
   "metadata": {},
   "outputs": [],
   "source": [
    "import json\n",
    "\n",
    "with open('apache.json') as f:\n",
    "    rules = json.load(f)\n",
    "\n",
    "assert('Organ Failure History' in rules.keys())\n",
    "assert('Age' in rules.keys())\n",
    "assert('Temperature' in rules.keys())\n",
    "assert('pH' in rules.keys())\n",
    "assert('Heart Rate' in rules.keys())\n",
    "assert('Respiratory Rate' in rules.keys())\n",
    "assert('Sodium' in rules.keys())\n",
    "assert('Potassium' in rules.keys())\n",
    "assert('Creatinine' in rules.keys())\n",
    "assert('Hematocrit' in rules.keys())\n",
    "assert('White Blood Count' in rules.keys())\n",
    "assert('FiO2' in rules.keys())"
   ]
  },
  {
   "cell_type": "code",
   "execution_count": 63,
   "metadata": {},
   "outputs": [
    {
     "data": {
      "text/plain": [
       "True"
      ]
     },
     "execution_count": 63,
     "metadata": {},
     "output_type": "execute_result"
    }
   ],
   "source": [
    "('Organ Failure History' in rules.keys())"
   ]
  },
  {
   "cell_type": "code",
   "execution_count": 64,
   "metadata": {},
   "outputs": [
    {
     "data": {
      "text/plain": [
       "True"
      ]
     },
     "execution_count": 64,
     "metadata": {},
     "output_type": "execute_result"
    }
   ],
   "source": [
    "('Age' in rules.keys())"
   ]
  },
  {
   "cell_type": "code",
   "execution_count": 65,
   "metadata": {},
   "outputs": [
    {
     "data": {
      "text/plain": [
       "True"
      ]
     },
     "execution_count": 65,
     "metadata": {},
     "output_type": "execute_result"
    }
   ],
   "source": [
    "('Temperature' in rules.keys())"
   ]
  },
  {
   "cell_type": "code",
   "execution_count": 66,
   "metadata": {},
   "outputs": [
    {
     "data": {
      "text/plain": [
       "True"
      ]
     },
     "execution_count": 66,
     "metadata": {},
     "output_type": "execute_result"
    }
   ],
   "source": [
    "('pH' in rules.keys())"
   ]
  },
  {
   "cell_type": "code",
   "execution_count": 67,
   "metadata": {},
   "outputs": [
    {
     "data": {
      "text/plain": [
       "True"
      ]
     },
     "execution_count": 67,
     "metadata": {},
     "output_type": "execute_result"
    }
   ],
   "source": [
    "('Heart Rate' in rules.keys())"
   ]
  },
  {
   "cell_type": "code",
   "execution_count": 68,
   "metadata": {},
   "outputs": [
    {
     "data": {
      "text/plain": [
       "True"
      ]
     },
     "execution_count": 68,
     "metadata": {},
     "output_type": "execute_result"
    }
   ],
   "source": [
    "('Respiratory Rate' in rules.keys())"
   ]
  },
  {
   "cell_type": "code",
   "execution_count": 69,
   "metadata": {},
   "outputs": [
    {
     "data": {
      "text/plain": [
       "True"
      ]
     },
     "execution_count": 69,
     "metadata": {},
     "output_type": "execute_result"
    }
   ],
   "source": [
    "('Sodium' in rules.keys())"
   ]
  },
  {
   "cell_type": "code",
   "execution_count": 70,
   "metadata": {},
   "outputs": [
    {
     "data": {
      "text/plain": [
       "True"
      ]
     },
     "execution_count": 70,
     "metadata": {},
     "output_type": "execute_result"
    }
   ],
   "source": [
    "('Potassium' in rules.keys())"
   ]
  },
  {
   "cell_type": "code",
   "execution_count": 71,
   "metadata": {},
   "outputs": [
    {
     "data": {
      "text/plain": [
       "True"
      ]
     },
     "execution_count": 71,
     "metadata": {},
     "output_type": "execute_result"
    }
   ],
   "source": [
    "('Creatinine' in rules.keys())"
   ]
  },
  {
   "cell_type": "code",
   "execution_count": 72,
   "metadata": {},
   "outputs": [
    {
     "data": {
      "text/plain": [
       "True"
      ]
     },
     "execution_count": 72,
     "metadata": {},
     "output_type": "execute_result"
    }
   ],
   "source": [
    "('Hematocrit' in rules.keys())"
   ]
  },
  {
   "cell_type": "code",
   "execution_count": 73,
   "metadata": {},
   "outputs": [
    {
     "data": {
      "text/plain": [
       "True"
      ]
     },
     "execution_count": 73,
     "metadata": {},
     "output_type": "execute_result"
    }
   ],
   "source": [
    "('White Blood Count' in rules.keys())"
   ]
  },
  {
   "cell_type": "code",
   "execution_count": 74,
   "metadata": {},
   "outputs": [
    {
     "data": {
      "text/plain": [
       "True"
      ]
     },
     "execution_count": 74,
     "metadata": {},
     "output_type": "execute_result"
    }
   ],
   "source": [
    "('FiO2' in rules.keys())"
   ]
  },
  {
   "cell_type": "markdown",
   "metadata": {},
   "source": [
    "---\n",
    "\n",
    "## Part 2: Functions to evaluate rules\n",
    "\n",
    "Write a series of functions, enough to satisfy all of the main criteria that we're using to calculate the Apache II score.  That list is the same as the assert statements above.\n",
    "\n",
    "* Each of your functions should be well documented.\n",
    "* Each function should have \"config_file\" as one of it's parameters.\n",
    "* Each function should return a numerical score value.\n",
    "* Similar to what we discussed in the review, if you can generalize some rules, do so.  You should **NOT** end up with one function for each input variable.  If you did that, you'd have a lot of repetative code.\n",
    "\n",
    "The Glasgow Coma Scale is simply a 1-to-1 score translation.  Simply add the Glasgow Coma Scale value.  So, you don't need to write a function for this. [Glasgow Coma Scale](https://www.cdc.gov/masstrauma/resources/gcs.pdf)\n",
    "\n",
    "**CORRECTION ADDED 2/29** - The Glasgow Coma Scale points should be calculated as `1 - Glasgow Coma Scale` rather than what I just stated above.  My preference would be that you do the calculation correctly, as per MDCalc, and then use the **corrected** scores files to compare against as noted in Part 4."
   ]
  },
  {
   "cell_type": "code",
   "execution_count": 75,
   "metadata": {},
   "outputs": [],
   "source": [
    "def evaluate_rule(config_file, rule_name, data):\n",
    "    \"\"\"\n",
    "        functions, only one function can evaluate all the rules\n",
    "        this function supports the following syntax -\n",
    "\n",
    "            \"rule name\": [\n",
    "                // all rules here\n",
    "            ]\n",
    "\n",
    "        Only one of the rules in the list is matched.\n",
    "        Each rule in the list is either a simple rule, or a complex rule.\n",
    "\n",
    "\n",
    "        simple rule - a simple rule only has 1 condition\n",
    "        current property in considerations is the \"rule name\", by default\n",
    "            eg 1 -     { \"min\": 10, \"max\": 15, \"points\": 5 }\n",
    "                (eg 1) if the current property in consideration is in range 10-14 (inclusive), 5 points will be added\n",
    "            \n",
    "            eg 2 -     { \"matches\": 10, \"points\": 2 }\n",
    "                (eg 2) if the current property in consideration matches 2, points will be added\n",
    "            \n",
    "            eg 3 -     { \"matches\": \"ab\", \"points\": 1 }\n",
    "                (eg 3) if the current property in consideration matches \"ab\", 1 point will be added\n",
    "            \n",
    "            eg 4 -     { \"prop\": \"Sodium\", \"matches\": 3, \"points\": 5 }\n",
    "                (eg 4) this rule first changes the current property in consideration\n",
    "                    to \"Sodium\", If the patient's \"Sodium\" level is 3, add 5 points\n",
    "            \n",
    "            eg 5 -     { \"prop\": \"GCS\" \"min\": 1, \"max\": 15, \"points\": \"15-_\" }\n",
    "                (eg 5) this checks if current property in consideration is in range 1-14 (inclusive). If yes, it just\n",
    "                        replaces all '_' in \"15-_\", with the value of the property and evaluates. Suppose\n",
    "                        value of property \"GCS\" is 10, the \"15-_\" will become \"15-10\". Now the equation\n",
    "                        will be solved and points will be added accordingly, here 15-10 = 5, so 5 points will\n",
    "                        be added\n",
    "\n",
    "\n",
    "        complex rule - a complex rule can have many conditions, each of which has to be satisfied as a whole\n",
    "                        a complex rule is basically made up of many simple rules\n",
    "            eg 6 -     { \"rules\": [ { \"min\": 10, \"max\": 15 } ], \"points\": 5 }\n",
    "                (eg 6) this checks if the value of current property in consideration is in\n",
    "                        the range 10-14(inclusive), if yes, it adds 5 points\n",
    "            \n",
    "            eg 7 -     { \"rules\": [ { \"min\": 10, \"max\": 15 }, { \"matches\": 12 } ], \"points\": 2 }\n",
    "                (eg 7) this 2 conditions, first it checks if the value of current property in consideration is in\n",
    "                        the range 10-14(inclusive), if yes, it moves on to the next condition and checks\n",
    "                        if value matches 12, if yes, it adds 2 points\n",
    "            \n",
    "            eg 8 -     { \"rules\": [ { \"min\": 0, \"max\": 50 }, { \"prop\": \"PaO2\", \"min\": 0, \"max\": 55 } ], \"points\": 4 }\n",
    "                (eg 8) this has 2 conditions, if current property in consideration is in range 0-49(inclusive)\n",
    "                and \"PaO2\" is in range 0-54(inclusive), then 4 points will be added\n",
    "\n",
    "    \"\"\"\n",
    "    rules = config_file[rule_name]\n",
    "    points = 0\n",
    "\n",
    "    for rule in rules:\n",
    "        if \"rules\" in rule:\n",
    "            # this rule contains sub rules\n",
    "            sub_rules = rule[ \"rules\" ]\n",
    "        else:\n",
    "            sub_rules = [ rule ]\n",
    "        current_value, current_points, sub_rule_unmatched = data[rule_name], rule[\"points\"], False\n",
    "\n",
    "        for sub_rule in sub_rules:\n",
    "            if \"prop\" in sub_rule:\n",
    "                # if this rule uses property other than the current rule name,\n",
    "                # set its value to `value`\n",
    "                prop = sub_rule[\"prop\"]\n",
    "                if prop in data:\n",
    "                    value = data[prop]\n",
    "                else:\n",
    "                    # all rules were not matched\n",
    "                    sub_rule_unmatched = True\n",
    "                    break\n",
    "            else:\n",
    "                value = current_value\n",
    "            if \"matches\" in sub_rule:\n",
    "                # exact match failed\n",
    "                if value != sub_rule[\"matches\"]:\n",
    "                    # all rules were not matched\n",
    "                    sub_rule_unmatched = True\n",
    "                    break\n",
    "            elif \"min\" in sub_rule and \"max\" in sub_rule:\n",
    "                # range match failed\n",
    "                if value < sub_rule[\"min\"] or value >= sub_rule[\"max\"]:\n",
    "                    # all rules were not matched\n",
    "                    sub_rule_unmatched = True\n",
    "                    break\n",
    "            \n",
    "            if isinstance (current_points, (\"\".__class__, u\"\".__class__)):\n",
    "                # if points is string\n",
    "                # replace _ with `value` and evaluate the mathematical expression\n",
    "                points = eval(current_points.replace(\"_\", repr(value)))\n",
    "            else:\n",
    "                points = current_points\n",
    "\n",
    "        if not sub_rule_unmatched:\n",
    "            break\n",
    "    return points\n"
   ]
  },
  {
   "cell_type": "code",
   "execution_count": null,
   "metadata": {},
   "outputs": [],
   "source": []
  },
  {
   "cell_type": "markdown",
   "metadata": {},
   "source": [
    "### Testing you Functions\n",
    "\n",
    "Write enough test cases to verify that your functions work for evaulating all of the scoring inputs.  Have at least 3 test cases for each input.\n",
    "\n",
    "These tests can be written the same as the assertions we've use in previous assignments.  For example, if you a function for `temperature_score` then you write a test case like:\n",
    "\n",
    "```\n",
    "assert( temperature_score(37) == 0 )\n",
    "```"
   ]
  },
  {
   "cell_type": "code",
   "execution_count": 76,
   "metadata": {},
   "outputs": [
    {
     "data": {
      "text/plain": [
       "5"
      ]
     },
     "execution_count": 76,
     "metadata": {},
     "output_type": "execute_result"
    }
   ],
   "source": [
    "evaluate_rule(rules, \"Organ Failure History\", { \"Organ Failure History\": \"Nonoperative\" })"
   ]
  },
  {
   "cell_type": "code",
   "execution_count": 77,
   "metadata": {},
   "outputs": [
    {
     "data": {
      "text/plain": [
       "2"
      ]
     },
     "execution_count": 77,
     "metadata": {},
     "output_type": "execute_result"
    }
   ],
   "source": [
    "evaluate_rule(rules, \"Organ Failure History\", { \"Organ Failure History\": \"Elective\" })"
   ]
  },
  {
   "cell_type": "code",
   "execution_count": 78,
   "metadata": {},
   "outputs": [
    {
     "data": {
      "text/plain": [
       "0"
      ]
     },
     "execution_count": 78,
     "metadata": {},
     "output_type": "execute_result"
    }
   ],
   "source": [
    "evaluate_rule(rules, \"Organ Failure History\", { \"Organ Failure History\": \"None\" })"
   ]
  },
  {
   "cell_type": "code",
   "execution_count": 79,
   "metadata": {},
   "outputs": [
    {
     "data": {
      "text/plain": [
       "0"
      ]
     },
     "execution_count": 79,
     "metadata": {},
     "output_type": "execute_result"
    }
   ],
   "source": [
    "evaluate_rule(rules, \"Age\", {\"Age\": 40})"
   ]
  },
  {
   "cell_type": "code",
   "execution_count": 80,
   "metadata": {},
   "outputs": [
    {
     "data": {
      "text/plain": [
       "2"
      ]
     },
     "execution_count": 80,
     "metadata": {},
     "output_type": "execute_result"
    }
   ],
   "source": [
    "evaluate_rule(rules, \"Age\", {\"Age\": 50})"
   ]
  },
  {
   "cell_type": "code",
   "execution_count": 81,
   "metadata": {},
   "outputs": [
    {
     "data": {
      "text/plain": [
       "3"
      ]
     },
     "execution_count": 81,
     "metadata": {},
     "output_type": "execute_result"
    }
   ],
   "source": [
    "evaluate_rule(rules, \"Age\", {\"Age\": 60})"
   ]
  },
  {
   "cell_type": "code",
   "execution_count": 82,
   "metadata": {},
   "outputs": [
    {
     "data": {
      "text/plain": [
       "2"
      ]
     },
     "execution_count": 82,
     "metadata": {},
     "output_type": "execute_result"
    }
   ],
   "source": [
    "evaluate_rule(rules, \"Creatinine\", { \"Creatinine\": 0.5 })"
   ]
  },
  {
   "cell_type": "code",
   "execution_count": 83,
   "metadata": {},
   "outputs": [
    {
     "data": {
      "text/plain": [
       "6"
      ]
     },
     "execution_count": 83,
     "metadata": {},
     "output_type": "execute_result"
    }
   ],
   "source": [
    "evaluate_rule(rules, \"Creatinine\", { \"Creatinine\": 2.1, \"Acute Renal Failure\": \"Acute Renal Failure\" })"
   ]
  },
  {
   "cell_type": "code",
   "execution_count": 84,
   "metadata": {},
   "outputs": [
    {
     "data": {
      "text/plain": [
       "4"
      ]
     },
     "execution_count": 84,
     "metadata": {},
     "output_type": "execute_result"
    }
   ],
   "source": [
    "evaluate_rule(rules, \"Creatinine\", { \"Creatinine\": 3.6, \"Acute Renal Failure\": \"Chronic Renal Failure\" })"
   ]
  },
  {
   "cell_type": "code",
   "execution_count": 85,
   "metadata": {},
   "outputs": [
    {
     "data": {
      "text/plain": [
       "2"
      ]
     },
     "execution_count": 85,
     "metadata": {},
     "output_type": "execute_result"
    }
   ],
   "source": [
    "evaluate_rule(rules, \"Temperature\", {\"Temperature\": 33})"
   ]
  },
  {
   "cell_type": "code",
   "execution_count": 86,
   "metadata": {},
   "outputs": [
    {
     "data": {
      "text/plain": [
       "0"
      ]
     },
     "execution_count": 86,
     "metadata": {},
     "output_type": "execute_result"
    }
   ],
   "source": [
    "evaluate_rule(rules, \"Temperature\", {\"Temperature\": 37.5})"
   ]
  },
  {
   "cell_type": "code",
   "execution_count": 87,
   "metadata": {},
   "outputs": [
    {
     "data": {
      "text/plain": [
       "4"
      ]
     },
     "execution_count": 87,
     "metadata": {},
     "output_type": "execute_result"
    }
   ],
   "source": [
    "evaluate_rule(rules, \"Temperature\", {\"Temperature\": 60})"
   ]
  },
  {
   "cell_type": "code",
   "execution_count": 88,
   "metadata": {},
   "outputs": [
    {
     "data": {
      "text/plain": [
       "4"
      ]
     },
     "execution_count": 88,
     "metadata": {},
     "output_type": "execute_result"
    }
   ],
   "source": [
    "evaluate_rule(rules, \"Heart Rate\", {\"Heart Rate\": 35})"
   ]
  },
  {
   "cell_type": "code",
   "execution_count": 89,
   "metadata": {},
   "outputs": [
    {
     "data": {
      "text/plain": [
       "3"
      ]
     },
     "execution_count": 89,
     "metadata": {},
     "output_type": "execute_result"
    }
   ],
   "source": [
    "evaluate_rule(rules, \"Heart Rate\", {\"Heart Rate\": 160})"
   ]
  },
  {
   "cell_type": "code",
   "execution_count": 90,
   "metadata": {},
   "outputs": [
    {
     "data": {
      "text/plain": [
       "0"
      ]
     },
     "execution_count": 90,
     "metadata": {},
     "output_type": "execute_result"
    }
   ],
   "source": [
    "evaluate_rule(rules, \"Heart Rate\", {\"Heart Rate\": 100})"
   ]
  },
  {
   "cell_type": "code",
   "execution_count": 91,
   "metadata": {},
   "outputs": [
    {
     "data": {
      "text/plain": [
       "1"
      ]
     },
     "execution_count": 91,
     "metadata": {},
     "output_type": "execute_result"
    }
   ],
   "source": [
    "evaluate_rule(rules, \"Respiratory Rate\", {\"Respiratory Rate\": 11})"
   ]
  },
  {
   "cell_type": "code",
   "execution_count": 92,
   "metadata": {},
   "outputs": [
    {
     "data": {
      "text/plain": [
       "2"
      ]
     },
     "execution_count": 92,
     "metadata": {},
     "output_type": "execute_result"
    }
   ],
   "source": [
    "evaluate_rule(rules, \"Respiratory Rate\", {\"Respiratory Rate\": 6})"
   ]
  },
  {
   "cell_type": "code",
   "execution_count": 93,
   "metadata": {},
   "outputs": [
    {
     "data": {
      "text/plain": [
       "4"
      ]
     },
     "execution_count": 93,
     "metadata": {},
     "output_type": "execute_result"
    }
   ],
   "source": [
    "evaluate_rule(rules, \"Respiratory Rate\", {\"Respiratory Rate\": 1})"
   ]
  },
  {
   "cell_type": "code",
   "execution_count": 94,
   "metadata": {},
   "outputs": [
    {
     "data": {
      "text/plain": [
       "4"
      ]
     },
     "execution_count": 94,
     "metadata": {},
     "output_type": "execute_result"
    }
   ],
   "source": [
    "evaluate_rule(rules, \"pH\", {\"pH\": 7.14})"
   ]
  },
  {
   "cell_type": "code",
   "execution_count": 95,
   "metadata": {},
   "outputs": [
    {
     "data": {
      "text/plain": [
       "0"
      ]
     },
     "execution_count": 95,
     "metadata": {},
     "output_type": "execute_result"
    }
   ],
   "source": [
    "evaluate_rule(rules, \"pH\", {\"pH\": 7.33})"
   ]
  },
  {
   "cell_type": "code",
   "execution_count": 96,
   "metadata": {},
   "outputs": [
    {
     "data": {
      "text/plain": [
       "2"
      ]
     },
     "execution_count": 96,
     "metadata": {},
     "output_type": "execute_result"
    }
   ],
   "source": [
    "evaluate_rule(rules, \"pH\", {\"pH\": 7.28})"
   ]
  },
  {
   "cell_type": "code",
   "execution_count": 97,
   "metadata": {},
   "outputs": [
    {
     "data": {
      "text/plain": [
       "2"
      ]
     },
     "execution_count": 97,
     "metadata": {},
     "output_type": "execute_result"
    }
   ],
   "source": [
    "evaluate_rule(rules, \"Sodium\", {\"Sodium\": 125})"
   ]
  },
  {
   "cell_type": "code",
   "execution_count": 98,
   "metadata": {},
   "outputs": [
    {
     "data": {
      "text/plain": [
       "0"
      ]
     },
     "execution_count": 98,
     "metadata": {},
     "output_type": "execute_result"
    }
   ],
   "source": [
    "evaluate_rule(rules, \"Sodium\", {\"Sodium\": 140})"
   ]
  },
  {
   "cell_type": "code",
   "execution_count": 99,
   "metadata": {},
   "outputs": [
    {
     "data": {
      "text/plain": [
       "4"
      ]
     },
     "execution_count": 99,
     "metadata": {},
     "output_type": "execute_result"
    }
   ],
   "source": [
    "evaluate_rule(rules, \"Sodium\", {\"Sodium\": 190})"
   ]
  },
  {
   "cell_type": "code",
   "execution_count": 100,
   "metadata": {},
   "outputs": [
    {
     "data": {
      "text/plain": [
       "2"
      ]
     },
     "execution_count": 100,
     "metadata": {},
     "output_type": "execute_result"
    }
   ],
   "source": [
    "evaluate_rule(rules, \"Potassium\", {\"Potassium\": 2.6})"
   ]
  },
  {
   "cell_type": "code",
   "execution_count": 101,
   "metadata": {},
   "outputs": [
    {
     "data": {
      "text/plain": [
       "0"
      ]
     },
     "execution_count": 101,
     "metadata": {},
     "output_type": "execute_result"
    }
   ],
   "source": [
    "evaluate_rule(rules, \"Potassium\", {\"Potassium\": 5.4})"
   ]
  },
  {
   "cell_type": "code",
   "execution_count": 102,
   "metadata": {},
   "outputs": [
    {
     "data": {
      "text/plain": [
       "4"
      ]
     },
     "execution_count": 102,
     "metadata": {},
     "output_type": "execute_result"
    }
   ],
   "source": [
    "evaluate_rule(rules, \"Potassium\", {\"Potassium\": 7.9})"
   ]
  },
  {
   "cell_type": "code",
   "execution_count": 103,
   "metadata": {},
   "outputs": [
    {
     "data": {
      "text/plain": [
       "1"
      ]
     },
     "execution_count": 103,
     "metadata": {},
     "output_type": "execute_result"
    }
   ],
   "source": [
    "evaluate_rule(rules, \"Hematocrit\", {\"Hematocrit\": 47})"
   ]
  },
  {
   "cell_type": "code",
   "execution_count": 104,
   "metadata": {},
   "outputs": [
    {
     "data": {
      "text/plain": [
       "2"
      ]
     },
     "execution_count": 104,
     "metadata": {},
     "output_type": "execute_result"
    }
   ],
   "source": [
    "evaluate_rule(rules, \"Hematocrit\", {\"Hematocrit\": 29})"
   ]
  },
  {
   "cell_type": "code",
   "execution_count": 105,
   "metadata": {},
   "outputs": [
    {
     "data": {
      "text/plain": [
       "4"
      ]
     },
     "execution_count": 105,
     "metadata": {},
     "output_type": "execute_result"
    }
   ],
   "source": [
    "evaluate_rule(rules, \"Hematocrit\", {\"Hematocrit\": 70})"
   ]
  },
  {
   "cell_type": "code",
   "execution_count": 106,
   "metadata": {},
   "outputs": [
    {
     "data": {
      "text/plain": [
       "0"
      ]
     },
     "execution_count": 106,
     "metadata": {},
     "output_type": "execute_result"
    }
   ],
   "source": [
    "evaluate_rule(rules, \"White Blood Count\", {\"White Blood Count\": 10})"
   ]
  },
  {
   "cell_type": "code",
   "execution_count": 107,
   "metadata": {},
   "outputs": [
    {
     "data": {
      "text/plain": [
       "2"
      ]
     },
     "execution_count": 107,
     "metadata": {},
     "output_type": "execute_result"
    }
   ],
   "source": [
    "evaluate_rule(rules, \"White Blood Count\", {\"White Blood Count\": 2})"
   ]
  },
  {
   "cell_type": "code",
   "execution_count": 108,
   "metadata": {},
   "outputs": [
    {
     "data": {
      "text/plain": [
       "4"
      ]
     },
     "execution_count": 108,
     "metadata": {},
     "output_type": "execute_result"
    }
   ],
   "source": [
    "evaluate_rule(rules, \"White Blood Count\", {\"White Blood Count\": 50})"
   ]
  },
  {
   "cell_type": "code",
   "execution_count": 109,
   "metadata": {},
   "outputs": [
    {
     "data": {
      "text/plain": [
       "3"
      ]
     },
     "execution_count": 109,
     "metadata": {},
     "output_type": "execute_result"
    }
   ],
   "source": [
    "evaluate_rule(rules, \"FiO2\", {\"FiO2\": 40, \"PaO2\": 55, \"A-a Gradient\": 250})"
   ]
  },
  {
   "cell_type": "code",
   "execution_count": 110,
   "metadata": {},
   "outputs": [
    {
     "data": {
      "text/plain": [
       "1"
      ]
     },
     "execution_count": 110,
     "metadata": {},
     "output_type": "execute_result"
    }
   ],
   "source": [
    "evaluate_rule(rules, \"FiO2\", {\"FiO2\": 45, \"PaO2\": 61, \"A-a Gradient\": 350})"
   ]
  },
  {
   "cell_type": "code",
   "execution_count": 111,
   "metadata": {},
   "outputs": [
    {
     "data": {
      "text/plain": [
       "0"
      ]
     },
     "execution_count": 111,
     "metadata": {},
     "output_type": "execute_result"
    }
   ],
   "source": [
    "evaluate_rule(rules, \"FiO2\", {\"FiO2\": 60, \"PaO2\": 55, \"A-a Gradient\": 199})"
   ]
  },
  {
   "cell_type": "code",
   "execution_count": 112,
   "metadata": {},
   "outputs": [
    {
     "data": {
      "text/plain": [
       "2"
      ]
     },
     "execution_count": 112,
     "metadata": {},
     "output_type": "execute_result"
    }
   ],
   "source": [
    "evaluate_rule(rules, \"FiO2\", {\"FiO2\": 65, \"PaO2\": 55, \"A-a Gradient\": 300})"
   ]
  },
  {
   "cell_type": "code",
   "execution_count": 113,
   "metadata": {},
   "outputs": [
    {
     "data": {
      "text/plain": [
       "8"
      ]
     },
     "execution_count": 113,
     "metadata": {},
     "output_type": "execute_result"
    }
   ],
   "source": [
    "evaluate_rule(rules, \"Glasgow Coma Scale\", {\"Glasgow Coma Scale\": 7})"
   ]
  },
  {
   "cell_type": "code",
   "execution_count": 114,
   "metadata": {},
   "outputs": [
    {
     "data": {
      "text/plain": [
       "5"
      ]
     },
     "execution_count": 114,
     "metadata": {},
     "output_type": "execute_result"
    }
   ],
   "source": [
    "evaluate_rule(rules, \"Glasgow Coma Scale\", {\"Glasgow Coma Scale\": 10})"
   ]
  },
  {
   "cell_type": "code",
   "execution_count": 115,
   "metadata": {},
   "outputs": [
    {
     "data": {
      "text/plain": [
       "13"
      ]
     },
     "execution_count": 115,
     "metadata": {},
     "output_type": "execute_result"
    }
   ],
   "source": [
    "evaluate_rule(rules, \"Glasgow Coma Scale\", {\"Glasgow Coma Scale\": 2})"
   ]
  },
  {
   "cell_type": "code",
   "execution_count": null,
   "metadata": {},
   "outputs": [],
   "source": []
  },
  {
   "cell_type": "code",
   "execution_count": 116,
   "metadata": {},
   "outputs": [],
   "source": [
    "assert(evaluate_rule(rules, \"Organ Failure History\", { \"Organ Failure History\": \"Nonoperative\" }) == 5)\n",
    "assert(evaluate_rule(rules, \"Organ Failure History\", { \"Organ Failure History\": \"Elective\" }) == 2)\n",
    "assert(evaluate_rule(rules, \"Organ Failure History\", { \"Organ Failure History\": \"None\" }) == 0)\n",
    "\n",
    "assert(evaluate_rule(rules, \"Age\", {\"Age\": 40}) == 0)\n",
    "assert(evaluate_rule(rules, \"Age\", {\"Age\": 50}) == 2)\n",
    "assert(evaluate_rule(rules, \"Age\", {\"Age\": 60}) == 3)\n",
    "\n",
    "assert(evaluate_rule(rules, \"Creatinine\", { \"Creatinine\": 0.5 }) == 2)\n",
    "assert(evaluate_rule(rules, \"Creatinine\", { \"Creatinine\": 2.1, \"Acute Renal Failure\": \"Acute Renal Failure\" }) == 6)\n",
    "assert(evaluate_rule(rules, \"Creatinine\", { \"Creatinine\": 3.6, \"Acute Renal Failure\": \"Chronic Renal Failure\" }) == 4)\n",
    "\n",
    "assert(evaluate_rule(rules, \"Temperature\", {\"Temperature\": 33}) == 2)\n",
    "assert(evaluate_rule(rules, \"Temperature\", {\"Temperature\": 37.5}) == 0)\n",
    "assert(evaluate_rule(rules, \"Temperature\", {\"Temperature\": 60}) == 4)\n",
    "\n",
    "assert(evaluate_rule(rules, \"Heart Rate\", {\"Heart Rate\": 35}) == 4)\n",
    "assert(evaluate_rule(rules, \"Heart Rate\", {\"Heart Rate\": 160}) == 3)\n",
    "assert(evaluate_rule(rules, \"Heart Rate\", {\"Heart Rate\": 100}) == 0)\n",
    "\n",
    "assert(evaluate_rule(rules, \"Respiratory Rate\", {\"Respiratory Rate\": 11}) == 1)\n",
    "assert(evaluate_rule(rules, \"Respiratory Rate\", {\"Respiratory Rate\": 6}) == 2)\n",
    "assert(evaluate_rule(rules, \"Respiratory Rate\", {\"Respiratory Rate\": 1}) == 4)\n",
    "\n",
    "assert(evaluate_rule(rules, \"pH\", {\"pH\": 7.14}) == 4)\n",
    "assert(evaluate_rule(rules, \"pH\", {\"pH\": 7.33}) == 0)\n",
    "assert(evaluate_rule(rules, \"pH\", {\"pH\": 7.28}) == 2)\n",
    "\n",
    "assert(evaluate_rule(rules, \"Sodium\", {\"Sodium\": 125}) == 2)\n",
    "assert(evaluate_rule(rules, \"Sodium\", {\"Sodium\": 140}) == 0)\n",
    "assert(evaluate_rule(rules, \"Sodium\", {\"Sodium\": 190}) == 4)\n",
    "\n",
    "assert(evaluate_rule(rules, \"Potassium\", {\"Potassium\": 2.6}) == 2)\n",
    "assert(evaluate_rule(rules, \"Potassium\", {\"Potassium\": 5.4}) == 0)\n",
    "assert(evaluate_rule(rules, \"Potassium\", {\"Potassium\": 7.9}) == 4)\n",
    "\n",
    "assert(evaluate_rule(rules, \"Hematocrit\", {\"Hematocrit\": 47}) == 1)\n",
    "assert(evaluate_rule(rules, \"Hematocrit\", {\"Hematocrit\": 29}) == 2)\n",
    "assert(evaluate_rule(rules, \"Hematocrit\", {\"Hematocrit\": 70}) == 4)\n",
    "\n",
    "assert(evaluate_rule(rules, \"White Blood Count\", {\"White Blood Count\": 10}) == 0)\n",
    "assert(evaluate_rule(rules, \"White Blood Count\", {\"White Blood Count\": 2}) == 2)\n",
    "assert(evaluate_rule(rules, \"White Blood Count\", {\"White Blood Count\": 50}) == 4)\n",
    "\n",
    "assert(evaluate_rule(rules, \"FiO2\", {\"FiO2\": 40, \"PaO2\": 55, \"A-a Gradient\": 250}) == 3)\n",
    "assert(evaluate_rule(rules, \"FiO2\", {\"FiO2\": 45, \"PaO2\": 61, \"A-a Gradient\": 350}) == 1)\n",
    "assert(evaluate_rule(rules, \"FiO2\", {\"FiO2\": 60, \"PaO2\": 55, \"A-a Gradient\": 199}) == 0)\n",
    "assert(evaluate_rule(rules, \"FiO2\", {\"FiO2\": 65, \"PaO2\": 55, \"A-a Gradient\": 300}) == 2)\n",
    "\n",
    "assert(evaluate_rule(rules, \"Glasgow Coma Scale\", {\"Glasgow Coma Scale\": 7}) == 8)\n",
    "assert(evaluate_rule(rules, \"Glasgow Coma Scale\", {\"Glasgow Coma Scale\": 10}) == 5)\n",
    "assert(evaluate_rule(rules, \"Glasgow Coma Scale\", {\"Glasgow Coma Scale\": 2}) == 13)"
   ]
  },
  {
   "cell_type": "markdown",
   "metadata": {},
   "source": [
    "---\n",
    "\n",
    "## Part 3: Put it all together\n",
    "\n",
    "Create a new function called `apache_score()` that takes all of the necessary inputs and returns the final Apache II score.  Use any variable names that you want.  For clarity and organization, my recommendation is to create them in the same order as they're documented in the website.\n",
    "\n",
    "1. Organ Failure History\n",
    "2. Age\n",
    "3. Temperature\n",
    "4. pH \n",
    "5. Heart rate\n",
    "6. Respiratory rate\n",
    "7. Sodium\n",
    "8. Potassium\n",
    "9. Creatinine\n",
    "10. Acute renal failure\n",
    "11. Hematocrit\n",
    "12. White Blood Count\n",
    "13. Glasgow Coma Scale\n",
    "14. FiO2\n",
    "15. PaO2\n",
    "16. A-a gradient\n"
   ]
  },
  {
   "cell_type": "code",
   "execution_count": 117,
   "metadata": {},
   "outputs": [],
   "source": [
    "def apache_score(rules, patient_data):\n",
    "    points = 0.0\n",
    "    for rule in rules:\n",
    "        # evaluate all rules\n",
    "        points += evaluate_rule(rules, rule, patient_data)\n",
    "    return points"
   ]
  },
  {
   "cell_type": "markdown",
   "metadata": {},
   "source": [
    "### Testing your Function\n",
    "\n",
    "Write a few test cases to make sure that your code functions correctly.  In the last step, you'll have LOTS of test cases run through, but you should do some of your before moving on."
   ]
  },
  {
   "cell_type": "code",
   "execution_count": 118,
   "metadata": {},
   "outputs": [
    {
     "data": {
      "text/plain": [
       "5.0"
      ]
     },
     "execution_count": 118,
     "metadata": {},
     "output_type": "execute_result"
    }
   ],
   "source": [
    "apache_score({ \"Organ Failure History\" : [\n",
    "        { \"matches\": \"Nonoperative\", \"points\": 5 },\n",
    "        { \"matches\": \"Emergency\", \"points\": 5 },\n",
    "        { \"matches\": \"Elective\", \"points\": 2 },\n",
    "        { \"matches\": \"None\", \"points\": 0 }\n",
    "    ], }, {\n",
    "        \"Organ Failure History\": \"Emergency\"\n",
    "    })"
   ]
  },
  {
   "cell_type": "code",
   "execution_count": 119,
   "metadata": {},
   "outputs": [
    {
     "data": {
      "text/plain": [
       "2.0"
      ]
     },
     "execution_count": 119,
     "metadata": {},
     "output_type": "execute_result"
    }
   ],
   "source": [
    "apache_score({\n",
    "    \"Temperature\": [\n",
    "        { \"min\": 0, \"max\": 30, \"points\": 4 },\n",
    "        { \"min\": 30, \"max\": 32, \"points\": 3 },\n",
    "        { \"min\": 32, \"max\": 34, \"points\": 2 },\n",
    "        { \"min\": 34, \"max\": 36, \"points\": 1 },\n",
    "        { \"min\": 36, \"max\": 38.5, \"points\": 0 },\n",
    "        { \"min\": 38.5, \"max\": 39, \"points\": 1 },\n",
    "        { \"min\": 39, \"max\": 41, \"points\": 3 },\n",
    "        { \"min\": 41, \"max\": 100, \"points\": 4 }\n",
    "    ],\n",
    "    \"Heart Rate\": [\n",
    "        { \"min\": 0, \"max\": 40, \"points\": 4 },\n",
    "        { \"min\": 40, \"max\": 55, \"points\": 3 },\n",
    "        { \"min\": 55, \"max\": 70, \"points\": 2 },\n",
    "        { \"min\": 70, \"max\": 110, \"points\": 0 },\n",
    "        { \"min\": 110, \"max\": 140, \"points\": 2 },\n",
    "        { \"min\": 140, \"max\": 180, \"points\": 3 },\n",
    "        { \"min\": 180, \"max\": 999, \"points\": 4 }\n",
    "    ],\n",
    "}, {\n",
    "    \"Temperature\": 33,\n",
    "    \"Heart Rate\": 72\n",
    "})"
   ]
  },
  {
   "cell_type": "code",
   "execution_count": 120,
   "metadata": {},
   "outputs": [
    {
     "data": {
      "text/plain": [
       "2.0"
      ]
     },
     "execution_count": 120,
     "metadata": {},
     "output_type": "execute_result"
    }
   ],
   "source": [
    "apache_score({\n",
    "    \"FiO2\": [\n",
    "        { \"rules\": [ { \"min\": 0, \"max\": 50 }, { \"prop\": \"PaO2\", \"min\": 0, \"max\": 55 } ], \"points\": 4 },\n",
    "        { \"rules\": [ { \"min\": 0, \"max\": 50 }, { \"prop\": \"PaO2\", \"min\": 55, \"max\": 61 } ], \"points\": 3 },\n",
    "        { \"rules\": [ { \"min\": 0, \"max\": 50 }, { \"prop\": \"PaO2\", \"min\": 61, \"max\": 71 } ], \"points\": 1 },\n",
    "        { \"rules\": [ { \"min\": 0, \"max\": 50 }, { \"prop\": \"PaO2\", \"min\": 71, \"max\": 999 } ], \"points\": 0 },\n",
    "        \n",
    "        { \"rules\": [ { \"min\": 50, \"max\": 101}, { \"prop\": \"A-a Gradient\", \"min\": 0, \"max\": 200 } ], \"points\": 0},\n",
    "        { \"rules\": [ { \"min\": 50, \"max\": 101}, { \"prop\": \"A-a Gradient\", \"min\": 200, \"max\": 350 } ], \"points\": 2},\n",
    "        { \"rules\": [ { \"min\": 50, \"max\": 101}, { \"prop\": \"A-a Gradient\", \"min\": 350, \"max\": 500 } ], \"points\": 3},\n",
    "        { \"rules\": [ { \"min\": 50, \"max\": 101}, { \"prop\": \"A-a Gradient\", \"min\": 500, \"max\": 999 } ], \"points\": 4}\n",
    "    ],\n",
    "    \"Glasgow Coma Scale\": [\n",
    "        {\"min\": 1, \"max\": 16, \"points\": \"15-_\"}\n",
    "    ]\n",
    "}, {\n",
    "    \"FiO2\": 40,\n",
    "    \"PaO2\": 75,\n",
    "    \"Glasgow Coma Scale\": 13\n",
    "})"
   ]
  },
  {
   "cell_type": "code",
   "execution_count": null,
   "metadata": {},
   "outputs": [],
   "source": []
  },
  {
   "cell_type": "code",
   "execution_count": null,
   "metadata": {},
   "outputs": [],
   "source": []
  },
  {
   "cell_type": "code",
   "execution_count": 121,
   "metadata": {},
   "outputs": [],
   "source": [
    "assert(apache_score({ \"Organ Failure History\" : [\n",
    "        { \"matches\": \"Nonoperative\", \"points\": 5 },\n",
    "        { \"matches\": \"Emergency\", \"points\": 5 },\n",
    "        { \"matches\": \"Elective\", \"points\": 2 },\n",
    "        { \"matches\": \"None\", \"points\": 0 }\n",
    "    ], }, {\n",
    "        \"Organ Failure History\": \"Emergency\"\n",
    "    }) == 5)\n",
    "\n",
    "assert(apache_score({\n",
    "    \"Temperature\": [\n",
    "        { \"min\": 0, \"max\": 30, \"points\": 4 },\n",
    "        { \"min\": 30, \"max\": 32, \"points\": 3 },\n",
    "        { \"min\": 32, \"max\": 34, \"points\": 2 },\n",
    "        { \"min\": 34, \"max\": 36, \"points\": 1 },\n",
    "        { \"min\": 36, \"max\": 38.5, \"points\": 0 },\n",
    "        { \"min\": 38.5, \"max\": 39, \"points\": 1 },\n",
    "        { \"min\": 39, \"max\": 41, \"points\": 3 },\n",
    "        { \"min\": 41, \"max\": 100, \"points\": 4 }\n",
    "    ],\n",
    "    \"Heart Rate\": [\n",
    "        { \"min\": 0, \"max\": 40, \"points\": 4 },\n",
    "        { \"min\": 40, \"max\": 55, \"points\": 3 },\n",
    "        { \"min\": 55, \"max\": 70, \"points\": 2 },\n",
    "        { \"min\": 70, \"max\": 110, \"points\": 0 },\n",
    "        { \"min\": 110, \"max\": 140, \"points\": 2 },\n",
    "        { \"min\": 140, \"max\": 180, \"points\": 3 },\n",
    "        { \"min\": 180, \"max\": 999, \"points\": 4 }\n",
    "    ],\n",
    "}, {\n",
    "    \"Temperature\": 33,\n",
    "    \"Heart Rate\": 72\n",
    "}) == 2)\n",
    "\n",
    "assert(apache_score({\n",
    "    \"FiO2\": [\n",
    "        { \"rules\": [ { \"min\": 0, \"max\": 50 }, { \"prop\": \"PaO2\", \"min\": 0, \"max\": 55 } ], \"points\": 4 },\n",
    "        { \"rules\": [ { \"min\": 0, \"max\": 50 }, { \"prop\": \"PaO2\", \"min\": 55, \"max\": 61 } ], \"points\": 3 },\n",
    "        { \"rules\": [ { \"min\": 0, \"max\": 50 }, { \"prop\": \"PaO2\", \"min\": 61, \"max\": 71 } ], \"points\": 1 },\n",
    "        { \"rules\": [ { \"min\": 0, \"max\": 50 }, { \"prop\": \"PaO2\", \"min\": 71, \"max\": 999 } ], \"points\": 0 },\n",
    "        \n",
    "        { \"rules\": [ { \"min\": 50, \"max\": 101}, { \"prop\": \"A-a Gradient\", \"min\": 0, \"max\": 200 } ], \"points\": 0},\n",
    "        { \"rules\": [ { \"min\": 50, \"max\": 101}, { \"prop\": \"A-a Gradient\", \"min\": 200, \"max\": 350 } ], \"points\": 2},\n",
    "        { \"rules\": [ { \"min\": 50, \"max\": 101}, { \"prop\": \"A-a Gradient\", \"min\": 350, \"max\": 500 } ], \"points\": 3},\n",
    "        { \"rules\": [ { \"min\": 50, \"max\": 101}, { \"prop\": \"A-a Gradient\", \"min\": 500, \"max\": 999 } ], \"points\": 4}\n",
    "    ],\n",
    "    \"Glasgow Coma Scale\": [\n",
    "        {\"min\": 1, \"max\": 16, \"points\": \"15-_\"}\n",
    "    ]\n",
    "}, {\n",
    "    \"FiO2\": 40,\n",
    "    \"PaO2\": 75,\n",
    "    \"Glasgow Coma Scale\": 13\n",
    "}) == 2)"
   ]
  },
  {
   "cell_type": "markdown",
   "metadata": {},
   "source": [
    "---\n",
    "\n",
    "## Part 4: Accessing and processing the patient file\n",
    "\n",
    "Fill out the simple function below to retrieve the patient data as a CSV file from any given URL and return a list of all of the Apache II scores based on the data you find for those patients.\n",
    "* The patient file will be a CSV\n",
    "* It will have column headers that match the labels shown above\n",
    "* The columns will not necessarily appear in the order shown above\n",
    "* You should output only the Apache II scores, not any other information\n",
    "* Your output should be a list in the same order as the input rows"
   ]
  },
  {
   "cell_type": "code",
   "execution_count": 122,
   "metadata": {},
   "outputs": [
    {
     "name": "stdout",
     "output_type": "stream",
     "text": [
      "35.0\n",
      "31.0\n",
      "47.0\n",
      "34.0\n",
      "44.0\n",
      "35.0\n",
      "31.0\n",
      "49.0\n",
      "40.0\n",
      "48.0\n",
      "42.0\n",
      "43.0\n",
      "32.0\n",
      "41.0\n",
      "42.0\n",
      "49.0\n",
      "37.0\n",
      "37.0\n",
      "38.0\n",
      "43.0\n",
      "41.0\n",
      "31.0\n",
      "38.0\n",
      "30.0\n",
      "41.0\n",
      "41.0\n",
      "34.0\n",
      "46.0\n",
      "40.0\n",
      "47.0\n",
      "36.0\n",
      "43.0\n",
      "41.0\n",
      "46.0\n",
      "44.0\n",
      "40.0\n",
      "39.0\n",
      "37.0\n",
      "41.0\n",
      "30.0\n",
      "46.0\n",
      "30.0\n",
      "41.0\n",
      "44.0\n",
      "35.0\n",
      "36.0\n",
      "40.0\n",
      "40.0\n",
      "30.0\n",
      "50.0\n",
      "52.0\n",
      "43.0\n",
      "46.0\n",
      "34.0\n",
      "33.0\n",
      "42.0\n",
      "41.0\n",
      "31.0\n",
      "46.0\n",
      "46.0\n",
      "34.0\n",
      "36.0\n",
      "33.0\n",
      "38.0\n",
      "26.0\n",
      "29.0\n",
      "46.0\n",
      "25.0\n",
      "40.0\n",
      "38.0\n",
      "39.0\n",
      "34.0\n",
      "39.0\n",
      "53.0\n",
      "44.0\n",
      "49.0\n",
      "37.0\n",
      "36.0\n",
      "36.0\n",
      "51.0\n",
      "33.0\n",
      "36.0\n",
      "43.0\n",
      "41.0\n",
      "24.0\n",
      "50.0\n",
      "29.0\n",
      "40.0\n",
      "36.0\n",
      "50.0\n",
      "29.0\n",
      "37.0\n",
      "34.0\n",
      "45.0\n",
      "34.0\n",
      "40.0\n",
      "37.0\n",
      "37.0\n",
      "47.0\n",
      "31.0\n",
      "33.0\n",
      "50.0\n",
      "28.0\n",
      "37.0\n",
      "33.0\n",
      "44.0\n",
      "40.0\n",
      "38.0\n",
      "40.0\n",
      "31.0\n",
      "44.0\n",
      "37.0\n",
      "44.0\n",
      "47.0\n",
      "25.0\n",
      "34.0\n",
      "32.0\n",
      "41.0\n",
      "38.0\n",
      "34.0\n",
      "38.0\n",
      "39.0\n",
      "41.0\n",
      "34.0\n",
      "29.0\n",
      "44.0\n",
      "22.0\n",
      "40.0\n",
      "34.0\n",
      "43.0\n",
      "40.0\n",
      "31.0\n",
      "35.0\n",
      "33.0\n",
      "27.0\n",
      "44.0\n",
      "52.0\n",
      "40.0\n",
      "53.0\n",
      "40.0\n",
      "40.0\n",
      "48.0\n",
      "31.0\n",
      "42.0\n",
      "49.0\n",
      "43.0\n",
      "35.0\n",
      "31.0\n",
      "36.0\n",
      "42.0\n",
      "34.0\n",
      "31.0\n",
      "30.0\n",
      "28.0\n",
      "38.0\n",
      "47.0\n",
      "32.0\n",
      "47.0\n",
      "31.0\n",
      "41.0\n",
      "40.0\n",
      "33.0\n",
      "35.0\n",
      "42.0\n",
      "49.0\n",
      "55.0\n",
      "51.0\n",
      "37.0\n",
      "53.0\n",
      "29.0\n",
      "33.0\n",
      "46.0\n",
      "36.0\n",
      "32.0\n",
      "33.0\n",
      "33.0\n",
      "42.0\n",
      "32.0\n",
      "41.0\n",
      "35.0\n",
      "39.0\n",
      "40.0\n",
      "40.0\n",
      "35.0\n",
      "28.0\n",
      "33.0\n",
      "42.0\n",
      "29.0\n",
      "30.0\n",
      "39.0\n",
      "34.0\n",
      "46.0\n",
      "30.0\n",
      "37.0\n",
      "31.0\n",
      "37.0\n",
      "41.0\n",
      "47.0\n",
      "45.0\n",
      "29.0\n",
      "45.0\n",
      "33.0\n",
      "33.0\n",
      "38.0\n",
      "28.0\n",
      "42.0\n",
      "32.0\n",
      "45.0\n",
      "36.0\n",
      "39.0\n",
      "43.0\n",
      "32.0\n",
      "37.0\n",
      "43.0\n",
      "34.0\n",
      "40.0\n",
      "27.0\n",
      "24.0\n",
      "39.0\n",
      "39.0\n",
      "35.0\n",
      "36.0\n",
      "39.0\n",
      "47.0\n",
      "27.0\n",
      "28.0\n",
      "50.0\n",
      "53.0\n",
      "36.0\n",
      "44.0\n",
      "38.0\n",
      "51.0\n",
      "43.0\n",
      "38.0\n",
      "38.0\n",
      "36.0\n",
      "40.0\n",
      "36.0\n",
      "40.0\n",
      "31.0\n",
      "39.0\n",
      "37.0\n",
      "38.0\n",
      "46.0\n",
      "28.0\n",
      "32.0\n",
      "37.0\n",
      "29.0\n",
      "26.0\n",
      "25.0\n",
      "52.0\n",
      "36.0\n",
      "24.0\n",
      "28.0\n",
      "30.0\n",
      "35.0\n",
      "45.0\n",
      "41.0\n",
      "41.0\n",
      "31.0\n",
      "45.0\n",
      "53.0\n",
      "45.0\n",
      "31.0\n",
      "34.0\n",
      "32.0\n",
      "33.0\n",
      "30.0\n",
      "33.0\n",
      "32.0\n",
      "30.0\n",
      "50.0\n",
      "37.0\n",
      "35.0\n",
      "55.0\n",
      "38.0\n",
      "23.0\n",
      "36.0\n",
      "22.0\n",
      "24.0\n",
      "28.0\n",
      "25.0\n",
      "33.0\n",
      "58.0\n",
      "31.0\n",
      "47.0\n",
      "43.0\n",
      "49.0\n",
      "32.0\n",
      "44.0\n",
      "46.0\n",
      "29.0\n",
      "30.0\n",
      "40.0\n",
      "46.0\n",
      "40.0\n",
      "44.0\n",
      "33.0\n",
      "43.0\n",
      "36.0\n",
      "36.0\n",
      "46.0\n",
      "44.0\n",
      "45.0\n",
      "46.0\n",
      "45.0\n",
      "41.0\n",
      "44.0\n",
      "36.0\n",
      "61.0\n",
      "50.0\n",
      "36.0\n",
      "36.0\n",
      "29.0\n",
      "40.0\n",
      "38.0\n",
      "31.0\n",
      "37.0\n",
      "52.0\n",
      "34.0\n",
      "38.0\n",
      "21.0\n",
      "36.0\n",
      "43.0\n",
      "33.0\n",
      "18.0\n",
      "31.0\n",
      "30.0\n",
      "49.0\n",
      "46.0\n",
      "45.0\n",
      "43.0\n",
      "44.0\n",
      "45.0\n"
     ]
    }
   ],
   "source": [
    "import pandas as pd\n",
    "import io, requests\n",
    "\n",
    "patients_data = []\n",
    "    # read csv file from url into list of dictionaries\n",
    "    # for example the following csv table -\n",
    "    #   col1     col2\n",
    "    #     1       2\n",
    "    #     3       0\n",
    "    #\n",
    "    # will be converted to -\n",
    "    #    [ { \"col1\": 1, \"col2\": 2 }, { \"col1\": 3, \"col2\": 0 } ]\n",
    "url = \"https://hds5210-2020.s3.amazonaws.com/TestPatients.csv\"\n",
    "data = pd.read_csv(io.StringIO(requests.get(url).content.decode('utf-8')))\n",
    "keys = []\n",
    "for key in data:\n",
    "    keys.append(key)\n",
    "row_count = len(data[keys[0]])\n",
    "for i in range(row_count):\n",
    "    temp = {}\n",
    "    for key in keys:\n",
    "        temp[key] = data[key][i]\n",
    "    patients_data.append(temp)\n",
    "\n",
    "\n",
    "for patient_data in patients_data:\n",
    "    # print apache scores for all patients\n",
    "    print(apache_score(rules, patient_data))"
   ]
  },
  {
   "cell_type": "markdown",
   "metadata": {},
   "source": [
    "### Testing your Function\n",
    "\n",
    "The URL for the test data is: https://hds5210-2020.s3.amazonaws.com/TestPatients.csv\n",
    "\n",
    "\n",
    "You can verify your results by comparing them against this data: https://hds5210-2020.s3.amazonaws.com/Scores.csv\n",
    "\n",
    "**CORRECTION ADDED 3/29** - If you calculated the Glasgow Coma Scale points as per the actual instructions in MDCalc, then please use this set of corrected scores to compare your results with: https://hds5210-2020.s3.amazonaws.com/Scores_corrected.csv\n"
   ]
  },
  {
   "cell_type": "code",
   "execution_count": null,
   "metadata": {},
   "outputs": [],
   "source": []
  },
  {
   "cell_type": "code",
   "execution_count": null,
   "metadata": {},
   "outputs": [],
   "source": []
  }
 ],
 "metadata": {
  "kernelspec": {
   "display_name": "Python 3",
   "language": "python",
   "name": "python3"
  },
  "language_info": {
   "codemirror_mode": {
    "name": "ipython",
    "version": 3
   },
   "file_extension": ".py",
   "mimetype": "text/x-python",
   "name": "python",
   "nbconvert_exporter": "python",
   "pygments_lexer": "ipython3",
   "version": "3.6.7"
  }
 },
 "nbformat": 4,
 "nbformat_minor": 4
}
