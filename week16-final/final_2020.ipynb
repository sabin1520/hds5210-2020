{
 "cells": [
  {
   "cell_type": "markdown",
   "metadata": {
    "nbgrader": {
     "grade": false,
     "grade_id": "introduction",
     "locked": true,
     "schema_version": 1,
     "solution": false
    }
   },
   "source": [
    "# HDS5210 Final\n",
    "\n",
    "This final examination is similar in scale to the midterm from several weeks ago, but covers the scope of the entire semester.  The final also attempts to create a real-world scenario that you might encounter as a data scientist is the field.  Our goal with this final is to compile the data required to be able to understand any possible relationship between population, population density, and the spread of the COVID-19 coronavirus.  As in may real world cases, all of the data you need to do this analysis is not in one place, nicely formatted and compiled for you.  Through the final, you'll collect data from multiple sources and build your analytic dataset in a process that is documented, automated, and reproducable.\n",
    "\n",
    "<img style='float:right' width='480px' src='https://www.lucidchart.com/publicSegments/view/095390af-7150-4dae-ac06-b98f10463cc7/image.png'>\n",
    "\n",
    "The data you need for this final is all publicly available and real data.  The three data sources that you are reuquired to use are described in the list below and in the relationship diagram to the right.\n",
    "\n",
    "* **Corona Virus Testing and Death Reports** - A MySQL database table that I loaded data into from the JSON file below.\n",
    "\n",
    " `https://coronadatascraper.com/timeseries.json`\n",
    "\n",
    " `corona_counts`\n",
    " \n",
    "* **Location Metadata** -- A JSON file from the Corona Data Scrapper project that has a mapping of location identifiers to the location information.\n",
    "\n",
    " `https://coronadatascraper.com/locations.json`\n",
    "\n",
    "* **Census Information** - Information available on Wikipedia about the population and geographic size of the counties in Missouri. \n",
    "\n",
    " `https://en.wikipedia.org/wiki/List_of_counties_in_Missouri`\n",
    "\n",
    "*Note that ALL of the data above is real data.  We'll be doing some analysis that is not necessarily standard for epidemiological studies, but should be interesting nonetheless.*\n",
    "\n",
    "You will be asked to solve a number of different problems using this data.  As in previous assignments, there will be `assert()` statements to help you validate your work along the way.  We'll try to use old enough data so that the numbers shouldn't be changing, but it's possible that some of the data we use will be restated.\n"
   ]
  },
  {
   "cell_type": "code",
   "execution_count": 169,
   "metadata": {},
   "outputs": [],
   "source": [
    "CORONA_COUNTS = 'corona_counts'\n",
    "LOCATION_INFO = 'https://coronadatascraper.com/locations.json'\n",
    "CENSUS_INFO = 'https://en.wikipedia.org/wiki/List_of_counties_in_Missouri'"
   ]
  },
  {
   "cell_type": "markdown",
   "metadata": {},
   "source": [
    "# PART 1 - Get information about Missouri Counties\n",
    "\n",
    "The **Corona Virus Testing and Death Reports** data is all in one place thanks to the work of the Corona Data Scraper project.  However, the data uses its own internal coding system to number the locations and the only reference data they have simply links those locations to [FIPS](https://en.wikipedia.org/wiki/FIPS_county_code) codes for US Counties.  Not very helpful.\n",
    "\n",
    "Therefore, our first step will be to find somewhere that lists the FIPS code for every county in Missouri.  Thank you Wikipedia!  In fact, not only does our source have a mapping from FIPS code to county name, but it also has the population and physical area data that we also want.  So, let's start by retrieving that data from the HTML table on the [\"List of counties in Missouri\"](https://en.wikipedia.org/wiki/List_of_counties_in_Missouri) page.\n",
    "\n",
    "Create a function named `get_mo_counties()` that pulls the information from this table and returns a dictionary keyed off the FIPS code and contains an entry for each of the attributes in the table.  Keep at least the elements we need: FIPS code, County, Population, Area as shown in the example below:\n",
    "\n",
    "```\n",
    "{ '001':\n",
    "  { 'county': 'Adair County',\n",
    "    'population': 25607,\n",
    "    'area': 568\n",
    "  },\n",
    "  '002':\n",
    "  { 'county': 'Andrew County',\n",
    "    'population': 17291,\n",
    "    'area': 435\n",
    "  },\n",
    "...\n",
    "```"
   ]
  },
  {
   "cell_type": "markdown",
   "metadata": {},
   "source": [
    "### TIPS\n",
    "\n",
    "1. If you want to take a number and format it with leading 0s, this works: `\"{:03d}\".format(1)`\n",
    "\n",
    "2. The Area column in this table uses a \"non-breaking space\" character between the number part and the \"sq mi\" part.  This is different than just the space bar.  If you want to tell Python to look for a non-breaking space, you can type `\\xa0`"
   ]
  },
  {
   "cell_type": "code",
   "execution_count": 170,
   "metadata": {},
   "outputs": [],
   "source": [
    "from bs4 import BeautifulSoup\n",
    "import requests as req\n",
    "\n",
    "# read the html document from the web address\n",
    "html_doc =  req.get(CENSUS_INFO)\n",
    "# selecting `lxml` parser\n",
    "soup = BeautifulSoup(html_doc.content, 'lxml')"
   ]
  },
  {
   "cell_type": "code",
   "execution_count": 171,
   "metadata": {},
   "outputs": [
    {
     "name": "stdout",
     "output_type": "stream",
     "text": [
      "['001', '003', '005', '007', '009', '011', '013', '015', '017', '019', '021', '023', '025', '027', '029', '031', '033', '035', '037', '039', '041', '043', '045', '047', '049', '051', '053', '055', '057', '059', '061', '063', '065', '067', '069', '071', '073', '075', '077', '079', '081', '083', '085', '087', '089', '091', '093', '095', '097', '099', '101', '103', '105', '107', '109', '111', '113', '115', '117', '121', '123', '125', '127', '119', '129', '131', '133', '135', '137', '139', '141', '143', '145', '147', '149', '151', '153', '155', '157', '159', '161', '163', '165', '167', '169', '171', '173', '175', '177', '179', '181', '183', '185', '187', '189', '510', '186', '195', '197', '199', '201', '203', '205', '207', '209', '211', '213', '215', '217', '219', '221', '223', '225', '227', '229']\n"
     ]
    }
   ],
   "source": [
    "# finding all locations\n",
    "# each location is expressed as an `a` tag\n",
    "# with class `external text`\n",
    "nums = soup.findAll(\"a\", {\"class\": \"external text\"})\n",
    "n = []\n",
    "for num in nums:\n",
    "    try:\n",
    "        # convert the location to number\n",
    "        # before storing in dict\n",
    "        if type(int(num.text)) == int:\n",
    "            n.append(num.text)\n",
    "    except:\n",
    "        break\n",
    "print(n)"
   ]
  },
  {
   "cell_type": "code",
   "execution_count": 172,
   "metadata": {},
   "outputs": [
    {
     "name": "stdout",
     "output_type": "stream",
     "text": [
      "[25607, 17291, 5685, 25529, 35597, 12402, 17049, 19056, 12363, 162642, 89201, 42794, 9424, 44332, 44002, 75674, 9295, 6265, 99478, 13982, 7831, 77422, 7139, 221939, 20743, 75990, 17601, 24696, 7883, 16777, 8433, 12892, 15657, 13684, 31953, 101492, 15222, 6738, 275174, 10261, 8957, 22272, 9627, 4912, 10144, 40400, 10630, 674158, 117404, 218733, 52595, 4131, 35571, 33381, 38634, 10211, 52566, 12761, 15195, 15566, 12226, 9176, 28781, 23083, 3785, 24748, 14358, 15607, 8840, 12236, 20565, 18956, 58114, 23370, 10881, 13878, 9723, 18296, 18971, 42201, 45156, 18516, 89322, 31137, 52274, 4979, 10167, 25414, 23494, 6696, 14100, 360485, 9805, 65359, 1000438, 319294, 18145, 23370, 4431, 4843, 39191, 8441, 6373, 29968, 32202, 6714, 51675, 26008, 21159, 32513, 25195, 13521, 36202, 2171, 18815]\n",
      "[568, 435, 545, 693, 779, 594, 848, 706, 621, 685, 410, 698, 429, 839, 655, 579, 695, 508, 699, 476, 756, 563, 507, 396, 419, 392, 565, 743, 490, 542, 567, 424, 754, 815, 546, 922, 520, 492, 675, 436, 725, 702, 399, 462, 466, 928, 551, 605, 640, 657, 831, 506, 766, 629, 613, 505, 630, 620, 535, 804, 497, 528, 438, 540, 454, 592, 413, 417, 646, 539, 598, 678, 626, 877, 792, 606, 747, 493, 475, 685, 673, 673, 420, 637, 547, 518, 471, 482, 570, 811, 630, 561, 677, 450, 508, 61.9, 502, 756, 308, 438, 421, 1004, 501, 827, 463, 651, 632, 1179, 834, 432, 760, 761, 593, 266, 682]\n"
     ]
    }
   ],
   "source": [
    "# Below we are finding the population and\n",
    "# area. Both of them have been expressed with the same\n",
    "# tag, `td`. However, they are expressed alternatively.\n",
    "# example, the first data is population, the second is area\n",
    "# third is again population, and fourth is area. It goes on this way\n",
    "\n",
    "# So we use counter which starts with 1 (it is immediately incremented from 0 to 1)\n",
    "# it checks whether the counter is even or odd.\n",
    "# if it was odd, then this data is for population\n",
    "# otherwise it is for area\n",
    "cont = soup.findAll(\"td\")\n",
    "pop, areas = [], []\n",
    "tempNum = 0\n",
    "for c in cont:\n",
    "    tempNum += 1\n",
    "    if c.span:\n",
    "        try:\n",
    "            # replace the comma in the number so that we can convert it\n",
    "            val = c.span.text.replace(\",\", \"\")\n",
    "            # if it is a decimal, i.e., it contains a dot `.`, then\n",
    "            # it is converted to float otherwise it is converted to an int\n",
    "            if val.find(\".\") == -1:\n",
    "                val = int(val)\n",
    "            else:\n",
    "                val = float(val)\n",
    "        except ValueError:\n",
    "            break\n",
    "        # appending to area, when counter is even\n",
    "        # apeending to population when counter is odd\n",
    "        if tempNum % 2 == 0:\n",
    "            areas.append(val)\n",
    "        else:\n",
    "            pop.append(val)\n",
    "print(pop)\n",
    "print(areas)"
   ]
  },
  {
   "cell_type": "code",
   "execution_count": 173,
   "metadata": {},
   "outputs": [
    {
     "name": "stdout",
     "output_type": "stream",
     "text": [
      "['Adair County', 'Andrew County', 'Atchison County', 'Audrain County', 'Barry County', 'Barton County', 'Bates County', 'Benton County', 'Bollinger County', 'Boone County', 'Buchanan County', 'Butler County', 'Caldwell County', 'Callaway County', 'Camden County', 'Cape Girardeau County', 'Carroll County', 'Carter County', 'Cass County', 'Cedar County', 'Chariton County', 'Christian County', 'Clark County', 'Clay County', 'Clinton County', 'Cole County', 'Cooper County', 'Crawford County', 'Dade County', 'Dallas County', 'Daviess County', 'DeKalb County', 'Dent County', 'Douglas County', 'Dunklin County', 'Franklin County', 'Gasconade County', 'Gentry County', 'Greene County', 'Grundy County', 'Harrison County', 'Henry County', 'Hickory County', 'Holt County', 'Howard County', 'Howell County', 'Iron County', 'Jackson County', 'Jasper County', 'Jefferson County', 'Johnson County', 'Knox County', 'Laclede County', 'Lafayette County', 'Lawrence County', 'Lewis County', 'Lincoln County', 'Linn County', 'Livingston County', 'Macon County', 'Madison County', 'Maries County', 'Marion County', 'McDonald County', 'Mercer County', 'Miller County', 'Mississippi County', 'Moniteau County', 'Monroe County', 'Montgomery County', 'Morgan County', 'New Madrid County', 'Newton County', 'Nodaway County', 'Oregon County', 'Osage County', 'Ozark County', 'Pemiscot County', 'Perry County', 'Pettis County', 'Phelps County', 'Pike County', 'Platte County', 'Polk County', 'Pulaski County', 'Putnam County', 'Ralls County', 'Randolph County', 'Ray County', 'Reynolds County', 'Ripley County', 'Saint Charles County', 'Saint Clair County', 'Saint Francois County', 'Saint Louis County', 'Saint Louis City', 'Ste. Genevieve County', 'Saline County', 'Schuyler County', 'Scotland County', 'Scott County', 'Shannon County', 'Shelby County', 'Stoddard County', 'Stone County', 'Sullivan County', 'Taney County', 'Texas County', 'Vernon County', 'Warren County', 'Washington County', 'Wayne County', 'Webster County', 'Worth County', 'Wright County']\n"
     ]
    }
   ],
   "source": [
    "# All counties are\n",
    "# `a` tags which are enclosed in a `th` tag\n",
    "# also, all of these `th` tags are in `table` tag\n",
    "counties = soup.find(\"table\", {\"class\": \"wikitable\"}).findAll(\"th\")\n",
    "county = []\n",
    "for th in counties:\n",
    "    elem = th.find(\"a\", title=True)\n",
    "    if elem is not None:\n",
    "        county.append(elem.text)\n",
    "\n",
    "print(county)"
   ]
  },
  {
   "cell_type": "code",
   "execution_count": 174,
   "metadata": {},
   "outputs": [],
   "source": [
    "import pandas as pd\n",
    "\n",
    "def get_mo_counties(url=CENSUS_INFO):\n",
    "    \n",
    "    output = {}\n",
    "    # wrapping up the scraped data\n",
    "    for i in range(len(n)):\n",
    "        output[n[i]] = {\n",
    "            'county': county[i],\n",
    "            'population': pop[i],\n",
    "            'area': areas[i]\n",
    "        }\n",
    "    \n",
    "    return output"
   ]
  },
  {
   "cell_type": "code",
   "execution_count": 175,
   "metadata": {},
   "outputs": [],
   "source": [
    "mo_counties = get_mo_counties()\n",
    "assert(len(mo_counties) == 115)\n",
    "assert(mo_counties.get('001').get('county') == 'Adair County')\n",
    "assert(mo_counties.get('007').get('population') == 25529)\n",
    "assert(mo_counties.get('011').get('area') == 594)"
   ]
  },
  {
   "cell_type": "code",
   "execution_count": null,
   "metadata": {},
   "outputs": [],
   "source": []
  },
  {
   "cell_type": "code",
   "execution_count": null,
   "metadata": {},
   "outputs": [],
   "source": []
  },
  {
   "cell_type": "code",
   "execution_count": null,
   "metadata": {},
   "outputs": [],
   "source": []
  },
  {
   "cell_type": "code",
   "execution_count": 176,
   "metadata": {},
   "outputs": [
    {
     "data": {
      "text/plain": [
       "115"
      ]
     },
     "execution_count": 176,
     "metadata": {},
     "output_type": "execute_result"
    }
   ],
   "source": [
    "len(mo_counties)"
   ]
  },
  {
   "cell_type": "code",
   "execution_count": 177,
   "metadata": {},
   "outputs": [
    {
     "data": {
      "text/plain": [
       "'Adair County'"
      ]
     },
     "execution_count": 177,
     "metadata": {},
     "output_type": "execute_result"
    }
   ],
   "source": [
    "mo_counties.get('001').get('county')"
   ]
  },
  {
   "cell_type": "code",
   "execution_count": 178,
   "metadata": {},
   "outputs": [
    {
     "data": {
      "text/plain": [
       "25529"
      ]
     },
     "execution_count": 178,
     "metadata": {},
     "output_type": "execute_result"
    }
   ],
   "source": [
    "mo_counties.get('007').get('population')"
   ]
  },
  {
   "cell_type": "code",
   "execution_count": 179,
   "metadata": {},
   "outputs": [
    {
     "data": {
      "text/plain": [
       "594"
      ]
     },
     "execution_count": 179,
     "metadata": {},
     "output_type": "execute_result"
    }
   ],
   "source": [
    "mo_counties.get('011').get('area')"
   ]
  },
  {
   "cell_type": "code",
   "execution_count": null,
   "metadata": {},
   "outputs": [],
   "source": []
  },
  {
   "cell_type": "markdown",
   "metadata": {},
   "source": [
    "# PART 2 - Create a List of Missouri Counties from the Corona Data Scraper Locations File\n",
    "\n",
    "Browse the **Location Metadata** JSON file on the website and you'll see that it is a list that contains a dictionary object for each of the locations for which this website has data.  Create a Python function called `get_mo_locations()` to read that JSON file from the URL provided above and transform that JSON into a simple dictionary that has only those locations that are in Missouri.  We're going to use this dictionary to filter the actual testing and death data file during the next step.  For the structure of that dictionary, it will be most useful if you has the position of the original list entry as the dictionary key and the county's FIPS code as the dictionary value.  The reason for this is that the location identifier in the testing and death data file is the index position for the appropriate location metadata in this file.\n",
    "\n",
    "You'll notice that the FIPS code from this file includes a 2-digit prefix that has the state code of `29` on it.  You'll need to remove that and only keep the last three characters of the FIPS code so that it matches the three digit FIPS code from the Wikipedia page above.\n",
    "\n",
    "The output returned from your `get_mo_locations()` function should look like the sample below and ONLY contain **the counties from Missouri**.\n",
    "\n",
    "```\n",
    "{1901: '001',\n",
    " 1902: '003',\n",
    " 1903: '005',\n",
    " 1904: '007',\n",
    " 1905: '009',\n",
    " 1906: '011',\n",
    "...\n",
    "```\n"
   ]
  },
  {
   "cell_type": "code",
   "execution_count": 180,
   "metadata": {},
   "outputs": [],
   "source": [
    "import pandas as pd\n",
    "import requests\n",
    "import json\n",
    "\n",
    "def get_mo_locations(url=LOCATION_INFO):\n",
    "    output = {}\n",
    "    # retrieve json data from url\n",
    "    json_data = json.loads(requests.get(url).content)\n",
    "    counter = 0\n",
    "    # filter the json. We only need data which have state as `Missouri`\n",
    "    for location in json_data:\n",
    "        if \"state\" in location and location[\"state\"] == \"Missouri\" and \"countyId\" in location:\n",
    "            # slice the string, we need all the characters starting\n",
    "            # from the third last characters\n",
    "            output[counter] = location[\"countyId\"][-3:]\n",
    "        counter += 1\n",
    "    \n",
    "    return output"
   ]
  },
  {
   "cell_type": "code",
   "execution_count": 181,
   "metadata": {},
   "outputs": [],
   "source": [
    "mo_locations = get_mo_locations()\n",
    "assert(len(mo_locations) == 115)\n",
    "assert(mo_locations.get(1903) == '001')\n",
    "# assert(mo_locations.get(1902) == '001')"
   ]
  },
  {
   "cell_type": "code",
   "execution_count": null,
   "metadata": {},
   "outputs": [],
   "source": []
  },
  {
   "cell_type": "code",
   "execution_count": null,
   "metadata": {},
   "outputs": [],
   "source": []
  },
  {
   "cell_type": "code",
   "execution_count": null,
   "metadata": {},
   "outputs": [],
   "source": []
  },
  {
   "cell_type": "code",
   "execution_count": 182,
   "metadata": {},
   "outputs": [
    {
     "data": {
      "text/plain": [
       "115"
      ]
     },
     "execution_count": 182,
     "metadata": {},
     "output_type": "execute_result"
    }
   ],
   "source": [
    "len(mo_locations)"
   ]
  },
  {
   "cell_type": "code",
   "execution_count": 183,
   "metadata": {},
   "outputs": [
    {
     "data": {
      "text/plain": [
       "'001'"
      ]
     },
     "execution_count": 183,
     "metadata": {},
     "output_type": "execute_result"
    }
   ],
   "source": [
    "mo_locations.get(1903)"
   ]
  },
  {
   "cell_type": "code",
   "execution_count": null,
   "metadata": {},
   "outputs": [],
   "source": []
  },
  {
   "cell_type": "markdown",
   "metadata": {},
   "source": [
    "# PART 3 - Corona Virus Cases for Missouri Counties\n",
    "\n",
    "Next, we're going to use the data available in the **Corona Virus Testing and Death Reports** data in the MySQL **corona_counts** table.  This data will need to be filtered down to only contain the information for Missouri Counties.\n",
    "\n",
    "Create a function called `get_corona_counts()` that retrieves retrieves information from the same MySQL database we used before.  I've provided the connection information for your convenience.  Your function will need to make the database connect and retrieve the data from the **corona_counts** table.  It should use the output from the `get_mo_locations()` function to filter the information in the table and return a dataframe with only the data for Missouri counties."
   ]
  },
  {
   "cell_type": "code",
   "execution_count": 184,
   "metadata": {},
   "outputs": [],
   "source": [
    "# Then, this code will automatically setup your \n",
    "import os\n",
    "from sqlalchemy import create_engine\n",
    "import pandas as pd\n",
    "\n",
    "host = 'slucor2020.cgdcoitnku0k.us-east-1.rds.amazonaws.com'\n",
    "port = '3306'\n",
    "user = 'slucor2020'\n",
    "password = 'SLUcor2020'\n",
    "database = 'hds5210'\n",
    "\n",
    "conn = create_engine('mysql+pymysql://' + \n",
    "                     user + ':' + \n",
    "                     password + '@' + \n",
    "                     host + ':' + \n",
    "                     str(port) + '/' + \n",
    "                     database)"
   ]
  },
  {
   "cell_type": "code",
   "execution_count": 185,
   "metadata": {},
   "outputs": [],
   "source": [
    "def get_corona_counts(locations, conn, table=CORONA_COUNTS):\n",
    "    # retrieve from database and store in dataframe\n",
    "    corona_counts = pd.read_sql_query('SELECT * FROM ' + CORONA_COUNTS + ';', conn)\n",
    "    # ensure, `location` column data have type `int64`\n",
    "    corona_counts[\"location\"].astype('int64')\n",
    "    valid_locations = [ int(x)   for x in locations ]\n",
    "    \n",
    "    return corona_counts[corona_counts[\"location\"].isin(valid_locations)]"
   ]
  },
  {
   "cell_type": "code",
   "execution_count": 186,
   "metadata": {},
   "outputs": [],
   "source": [
    "mo_corona = get_corona_counts(get_mo_locations(), conn)\n",
    "assert(mo_corona['dt'].value_counts().mean() == 115)\n",
    "assert(mo_corona['location'].value_counts().mean() == 100)\n",
    "assert('dt' in mo_corona.columns)\n",
    "assert('location' in mo_corona.columns)\n",
    "assert('cases' in mo_corona.columns)"
   ]
  },
  {
   "cell_type": "code",
   "execution_count": null,
   "metadata": {},
   "outputs": [],
   "source": []
  },
  {
   "cell_type": "code",
   "execution_count": null,
   "metadata": {},
   "outputs": [],
   "source": []
  },
  {
   "cell_type": "code",
   "execution_count": null,
   "metadata": {},
   "outputs": [],
   "source": []
  },
  {
   "cell_type": "code",
   "execution_count": 187,
   "metadata": {},
   "outputs": [
    {
     "data": {
      "text/plain": [
       "115.0"
      ]
     },
     "execution_count": 187,
     "metadata": {},
     "output_type": "execute_result"
    }
   ],
   "source": [
    "mo_corona['dt'].value_counts().mean()"
   ]
  },
  {
   "cell_type": "code",
   "execution_count": 188,
   "metadata": {},
   "outputs": [
    {
     "data": {
      "text/plain": [
       "100.0"
      ]
     },
     "execution_count": 188,
     "metadata": {},
     "output_type": "execute_result"
    }
   ],
   "source": [
    "mo_corona['location'].value_counts().mean()"
   ]
  },
  {
   "cell_type": "code",
   "execution_count": 189,
   "metadata": {},
   "outputs": [
    {
     "data": {
      "text/plain": [
       "True"
      ]
     },
     "execution_count": 189,
     "metadata": {},
     "output_type": "execute_result"
    }
   ],
   "source": [
    "'dt' in mo_corona.columns"
   ]
  },
  {
   "cell_type": "code",
   "execution_count": 190,
   "metadata": {},
   "outputs": [
    {
     "data": {
      "text/plain": [
       "True"
      ]
     },
     "execution_count": 190,
     "metadata": {},
     "output_type": "execute_result"
    }
   ],
   "source": [
    "'location' in mo_corona.columns"
   ]
  },
  {
   "cell_type": "code",
   "execution_count": 191,
   "metadata": {},
   "outputs": [
    {
     "data": {
      "text/plain": [
       "True"
      ]
     },
     "execution_count": 191,
     "metadata": {},
     "output_type": "execute_result"
    }
   ],
   "source": [
    "'cases' in mo_corona.columns"
   ]
  },
  {
   "cell_type": "code",
   "execution_count": null,
   "metadata": {},
   "outputs": [],
   "source": []
  },
  {
   "cell_type": "markdown",
   "metadata": {
    "nbgrader": {
     "grade": false,
     "grade_id": "01-intro",
     "locked": true,
     "schema_version": 1,
     "solution": false
    }
   },
   "source": [
    "## PART 4 - Calculate Doubling Time between 3/1 and 3/31\n",
    "\n",
    "The next step in our process is to calculate the doubling time for each county.  [Doubling time](https://en.wikipedia.org/wiki/Doubling_time) is calculated by computing:\n",
    "\n",
    "```\n",
    "doubling_time = ln(2) / growth_rate\n",
    "```\n",
    "\n",
    "where growth rate is calculated by:\n",
    "\n",
    "```\n",
    "growth_rate = ln(N(t) / N(0)) / t\n",
    "\n",
    "N(t) = number at time t\n",
    "N(0) = number at start time\n",
    "t    = number of time units (we'll use days)\n",
    "```\n",
    "\n",
    "In this part, you should create a function called `calc_doubling_rate()` that takes the dataframe output from your `get_corona_counts()` function and returns four Series (columns): location, cases on start date, cases on end date, and the doubling rate calculated based start and end date that you provide.  You can assume start and end date are strings in the format YYYY-MM-DD.\n",
    "\n",
    "Special rules:\n",
    "* If the count at the start or the end is 0 then the doubling_time should be NaN\n",
    "* If the count on the end date is less than the count on the start date, then the doubling_time should be NaN\n",
    "\n",
    "Once we have a data frame with only one row per county, we can merge that in with the census information from step 1 and start looking at some relationships.\n",
    "\n"
   ]
  },
  {
   "cell_type": "markdown",
   "metadata": {},
   "source": [
    "### TIPS\n",
    "\n",
    "1. You'll need to calculate some natural logs as shown above.  The way to do that with Pandas requires **`import numpy as np`** and then something like **`np.log2(df['cases'])`**\n",
    "\n",
    "2. The right way to overwrite some of the rows under a particular column is by using he df.loc(row_indexer, col_indexer) syntax.  For instance, if you have a filter called `my_filter`, then updating the doubling_time column would look like this:  `output.loc[my_filter, 'my_column'] = np.nan`"
   ]
  },
  {
   "cell_type": "code",
   "execution_count": 192,
   "metadata": {},
   "outputs": [],
   "source": [
    "import numpy as np\n",
    "from datetime import datetime\n",
    "\n",
    "def calc_doubling_rate(df, start='2020-04-01', end='2020-04-20'):\n",
    "    # get all unique locations\n",
    "    locations = df[\"location\"].unique()\n",
    "    # initialize dataframe\n",
    "    doubling = pd.DataFrame({ \"location\": [], \"start\": [], \"end\": [], \"doubling_time\": [] })\n",
    "    # setting types\n",
    "    doubling[\"location\"].astype('int64'); doubling[\"start\"].astype('int64'); doubling[\"end\"].astype('int64')\n",
    "    rows = 0\n",
    "    for location in locations:\n",
    "        # getting number of cases in start and end date\n",
    "        # of the county data\n",
    "        county_data = df.loc[df[\"location\"] == location]\n",
    "        county_start = county_data.loc[county_data[\"dt\"] == start].reset_index()\n",
    "        county_end = county_data.loc[county_data[\"dt\"] == end].reset_index()\n",
    "        N_0 = county_start.loc[0, \"cases\"]\n",
    "        N_t = county_end.loc[0, \"cases\"]\n",
    "        if N_0 == 0 or N_t == 0 or N_t < N_0:\n",
    "            doubling_time = np.NaN\n",
    "        else:\n",
    "            # calculate -\n",
    "            # doubling_time = ln(2) / growth_rate\n",
    "            # growth_rate = ln(N(t) / N(0)) / t\n",
    "            t = (datetime.strptime(end, '%Y-%m-%d').timestamp() - datetime.strptime(start, '%Y-%m-%d').timestamp()) / (24 * 60 * 60)\n",
    "            growth_rate = np.log(N_t / N_0) / t\n",
    "            doubling_time = np.log(2) / growth_rate\n",
    "        # insert the row data\n",
    "        doubling.loc[rows] = [location, N_0, N_t, doubling_time]\n",
    "        rows += 1\n",
    "    return doubling"
   ]
  },
  {
   "cell_type": "code",
   "execution_count": 193,
   "metadata": {},
   "outputs": [
    {
     "name": "stderr",
     "output_type": "stream",
     "text": [
      "/opt/tljh/user/lib/python3.6/site-packages/ipykernel_launcher.py:28: RuntimeWarning: divide by zero encountered in double_scalars\n"
     ]
    }
   ],
   "source": [
    "mo_doubling = calc_doubling_rate(mo_corona)\n",
    "assert(len(mo_doubling) == 115)\n",
    "assert(round(mo_doubling['start'].mean(),2) == 13.7)\n",
    "assert(round(mo_doubling['end'].mean(),2) == 50.37)\n",
    "assert(round(mo_doubling['doubling_time'].min(),2) == 4.14)"
   ]
  },
  {
   "cell_type": "code",
   "execution_count": null,
   "metadata": {},
   "outputs": [],
   "source": []
  },
  {
   "cell_type": "code",
   "execution_count": null,
   "metadata": {},
   "outputs": [],
   "source": []
  },
  {
   "cell_type": "code",
   "execution_count": null,
   "metadata": {},
   "outputs": [],
   "source": []
  },
  {
   "cell_type": "code",
   "execution_count": 194,
   "metadata": {},
   "outputs": [
    {
     "data": {
      "text/plain": [
       "115"
      ]
     },
     "execution_count": 194,
     "metadata": {},
     "output_type": "execute_result"
    }
   ],
   "source": [
    "len(mo_doubling)"
   ]
  },
  {
   "cell_type": "code",
   "execution_count": 195,
   "metadata": {},
   "outputs": [
    {
     "data": {
      "text/plain": [
       "13.7"
      ]
     },
     "execution_count": 195,
     "metadata": {},
     "output_type": "execute_result"
    }
   ],
   "source": [
    "round(mo_doubling['start'].mean(),2)"
   ]
  },
  {
   "cell_type": "code",
   "execution_count": 196,
   "metadata": {},
   "outputs": [
    {
     "data": {
      "text/plain": [
       "50.37"
      ]
     },
     "execution_count": 196,
     "metadata": {},
     "output_type": "execute_result"
    }
   ],
   "source": [
    "round(mo_doubling['end'].mean(),2)"
   ]
  },
  {
   "cell_type": "code",
   "execution_count": 197,
   "metadata": {},
   "outputs": [
    {
     "data": {
      "text/plain": [
       "4.14"
      ]
     },
     "execution_count": 197,
     "metadata": {},
     "output_type": "execute_result"
    }
   ],
   "source": [
    "round(mo_doubling['doubling_time'].min(),2)"
   ]
  },
  {
   "cell_type": "code",
   "execution_count": null,
   "metadata": {},
   "outputs": [],
   "source": []
  },
  {
   "cell_type": "markdown",
   "metadata": {},
   "source": [
    "# Part 5 - Merge the Census and Corona Data\n",
    "\n",
    "In this step, we'll finally get our corona virus data merged with the location data and then the census data so that we can compare doubling time and population or population density.  To do this, write a function called `merge_corona_census()` that does the merge and returns a single data frame with all of the columns as output.\n",
    "\n",
    "You will also need to calculate the population density for each as the ration of the population to the area:\n",
    "```\n",
    "  density = population / area\n",
    "```"
   ]
  },
  {
   "cell_type": "code",
   "execution_count": 198,
   "metadata": {},
   "outputs": [],
   "source": [
    "def merge_corona_census(corona, locations, census):\n",
    "    # converting census to a datframe which\n",
    "    # can be used for merging\n",
    "    county_data = {\"location\": [], \"county\": [], \"population\": [], \"area\": []}\n",
    "    for location in locations:\n",
    "        temp_data = census[locations[location]]\n",
    "        county_data[\"location\"].append(location); county_data[\"county\"].append(temp_data[\"county\"])\n",
    "        county_data[\"population\"].append(temp_data[\"population\"]); county_data[\"area\"].append(temp_data[\"area\"])\n",
    "    county_data = pd.DataFrame(county_data)\n",
    "    # merging county_data with corona\n",
    "    output = pd.merge(corona, county_data, on=\"location\")\n",
    "    output[\"density\"] = output[\"population\"] / output[\"area\"]\n",
    "    \n",
    "    return output"
   ]
  },
  {
   "cell_type": "code",
   "execution_count": 199,
   "metadata": {},
   "outputs": [],
   "source": [
    "results = merge_corona_census(mo_doubling, mo_locations, mo_counties)\n",
    "assert(len(results) == 115)\n",
    "assert(round(results['density'].mean(),2) == 131.71)"
   ]
  },
  {
   "cell_type": "code",
   "execution_count": null,
   "metadata": {},
   "outputs": [],
   "source": []
  },
  {
   "cell_type": "code",
   "execution_count": null,
   "metadata": {},
   "outputs": [],
   "source": []
  },
  {
   "cell_type": "code",
   "execution_count": null,
   "metadata": {},
   "outputs": [],
   "source": []
  },
  {
   "cell_type": "code",
   "execution_count": 200,
   "metadata": {},
   "outputs": [
    {
     "data": {
      "text/plain": [
       "115"
      ]
     },
     "execution_count": 200,
     "metadata": {},
     "output_type": "execute_result"
    }
   ],
   "source": [
    "len(results)"
   ]
  },
  {
   "cell_type": "code",
   "execution_count": 201,
   "metadata": {},
   "outputs": [
    {
     "data": {
      "text/plain": [
       "131.71"
      ]
     },
     "execution_count": 201,
     "metadata": {},
     "output_type": "execute_result"
    }
   ],
   "source": [
    "round(results['density'].mean(),2)"
   ]
  },
  {
   "cell_type": "code",
   "execution_count": null,
   "metadata": {},
   "outputs": [],
   "source": []
  },
  {
   "cell_type": "markdown",
   "metadata": {},
   "source": [
    "# Part 6 Observations\n",
    "\n",
    "Below, I've provided some code to plot data from your results above.  This assumes that your results include the following columns:\n",
    "* population\n",
    "* density\n",
    "* doubling_time\n",
    "\n",
    "\n",
    "Take a few minutes and share your observations about the pattern or lack of pattern in the relationship between density, population, and doubling_time.  Put your comments in the text cell below."
   ]
  },
  {
   "cell_type": "markdown",
   "metadata": {},
   "source": [
    "---\n",
    "\n",
    "### Your Response\n",
    "\n",
    "From the first graph below, we can conclude that population is directly proportional to density\n",
    "\n",
    "From, the second graph, it is likely that doubling time decreases with density\n",
    "\n",
    "The Third graph, is also shows that doubling time and population are inversely proportional.\n",
    "i.e. doubling time decreases with population. This was expected because density and population\n",
    "are directly proportional\n",
    "\n",
    "In the fourth graph, when the doubling time decreases and density increases, the spots get darker and bigger in radius. This signifies that, when density increases and population increases, doubling time will decrease.\n",
    "\n",
    "---"
   ]
  },
  {
   "cell_type": "code",
   "execution_count": 202,
   "metadata": {},
   "outputs": [
    {
     "data": {
      "text/plain": [
       "<matplotlib.axes._subplots.AxesSubplot at 0x7f86a771b208>"
      ]
     },
     "execution_count": 202,
     "metadata": {},
     "output_type": "execute_result"
    },
    {
     "data": {
      "image/png": "[encoded data removed]",
      "text/plain": [
       "<Figure size 432x288 with 1 Axes>"
      ]
     },
     "metadata": {
      "needs_background": "light"
     },
     "output_type": "display_data"
    }
   ],
   "source": [
    "results.plot.scatter(x='population', y='density')"
   ]
  },
  {
   "cell_type": "code",
   "execution_count": 203,
   "metadata": {},
   "outputs": [
    {
     "data": {
      "text/plain": [
       "<matplotlib.axes._subplots.AxesSubplot at 0x7f86a84fe780>"
      ]
     },
     "execution_count": 203,
     "metadata": {},
     "output_type": "execute_result"
    },
    {
     "data": {
      "image/png": "[encoded data removed]",
      "text/plain": [
       "<Figure size 432x288 with 1 Axes>"
      ]
     },
     "metadata": {
      "needs_background": "light"
     },
     "output_type": "display_data"
    }
   ],
   "source": [
    "results.plot.scatter(x='density', y='doubling_time')"
   ]
  },
  {
   "cell_type": "code",
   "execution_count": 204,
   "metadata": {},
   "outputs": [
    {
     "data": {
      "text/plain": [
       "<matplotlib.axes._subplots.AxesSubplot at 0x7f86a8334eb8>"
      ]
     },
     "execution_count": 204,
     "metadata": {},
     "output_type": "execute_result"
    },
    {
     "data": {
      "image/png": "[encoded data removed]",
      "text/plain": [
       "<Figure size 432x288 with 1 Axes>"
      ]
     },
     "metadata": {
      "needs_background": "light"
     },
     "output_type": "display_data"
    }
   ],
   "source": [
    "results.plot.scatter(x='population', y='doubling_time')"
   ]
  },
  {
   "cell_type": "code",
   "execution_count": 205,
   "metadata": {},
   "outputs": [],
   "source": [
    "import seaborn as sns"
   ]
  },
  {
   "cell_type": "code",
   "execution_count": 206,
   "metadata": {},
   "outputs": [
    {
     "data": {
      "text/plain": [
       "[None]"
      ]
     },
     "execution_count": 206,
     "metadata": {},
     "output_type": "execute_result"
    },
    {
     "data": {
      "image/png": "[encoded data removed]",
      "text/plain": [
       "<Figure size 432x288 with 1 Axes>"
      ]
     },
     "metadata": {
      "needs_background": "light"
     },
     "output_type": "display_data"
    }
   ],
   "source": [
    "ax = sns.scatterplot(x=\"density\", y=\"doubling_time\",\n",
    "                     hue=\"density\", size=\"population\",\n",
    "                     data=results)\n",
    "\n",
    "ax.set(xscale='log')"
   ]
  },
  {
   "cell_type": "code",
   "execution_count": null,
   "metadata": {},
   "outputs": [],
   "source": []
  }
 ],
 "metadata": {
  "celltoolbar": "Create Assignment",
  "kernelspec": {
   "display_name": "Python 3",
   "language": "python",
   "name": "python3"
  },
  "language_info": {
   "codemirror_mode": {
    "name": "ipython",
    "version": 3
   },
   "file_extension": ".py",
   "mimetype": "text/x-python",
   "name": "python",
   "nbconvert_exporter": "python",
   "pygments_lexer": "ipython3",
   "version": "3.6.7"
  }
 },
 "nbformat": 4,
 "nbformat_minor": 2
}
