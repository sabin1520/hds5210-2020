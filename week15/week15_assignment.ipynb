{
 "cells": [
  {
   "cell_type": "markdown",
   "metadata": {
    "nbgrader": {
     "grade": false,
     "grade_id": "intro",
     "locked": true,
     "schema_version": 1,
     "solution": false
    }
   },
   "source": [
    "# Working with a database\n",
    "\n",
    "This week's assignment has a few basic steps.  First, we're going to pull some data down off the internet and store it into our MySQL database.  Make sure that you use your username as part of the table name as show in the examples so that you don't create a problem for other students.\n",
    "\n",
    "Then, we'll merge that with some data already in the database and calculate a few results.  When it comes to calculating the results, you can do so either with SQL or with Pandas operations.\n"
   ]
  },
  {
   "cell_type": "markdown",
   "metadata": {
    "nbgrader": {
     "grade": false,
     "grade_id": "q01-intro",
     "locked": true,
     "schema_version": 1,
     "solution": false
    }
   },
   "source": [
    "## PART 1: Setup your database connection and table name\n",
    "\n",
    "In the code below, change the value of the variable `MYTABLE` to use your own username rather that `'pboal'`\n",
    "\n",
    "You can then use `MYTABLE` in the rest of your code to reference that table name."
   ]
  },
  {
   "cell_type": "code",
   "execution_count": 102,
   "metadata": {
    "nbgrader": {
     "grade": false,
     "grade_id": "q01-solution",
     "locked": false,
     "schema_version": 1,
     "solution": true
    }
   },
   "outputs": [],
   "source": [
    "›# importing required libraries\n",
    "import os\n",
    "import pymysql\n",
    "from sqlalchemy import create_engine\n",
    "import pandas as pd"
   ]
  },
  {
   "cell_type": "code",
   "execution_count": 103,
   "metadata": {
    "nbgrader": {
     "grade": false,
     "grade_id": "q01-solution",
     "locked": false,
     "schema_version": 1,
     "solution": true
    }
   },
   "outputs": [],
   "source": [
    "#!#!#!#!#!#!#!#!#!#!#!#!#!#!#!#!#!#!#!#!#!#!#!#!#!#!#!#!#!#!\n",
    "# First, put in your user name below\n",
    "#!#!#!#!#!#!#!#!#!#!#!#!#!#!#!#!#!#!#!#!#!#!#!#!#!#!#!#!#!#!\n",
    "\n",
    "MYTABLE='srai' + '_data'\n",
    "\n",
    "\n",
    "# Then, create a connection to the same database, using the \n",
    "# same user name and password in the `mysql-examples.ipynb` \n",
    "# file.  Use conn as the database connection variable.\n",
    "\n",
    "host = 'slucor2020.cgdcoitnku0k.us-east-1.rds.amazonaws.com'\n",
    "port = '3306'\n",
    "user = 'slucor2020'\n",
    "password = 'SLUcor2020'\n",
    "database = 'hds5210'\n",
    "\n",
    "conn = create_engine('mysql+pymysql://' + \n",
    "                     user + ':' + \n",
    "                     password + '@' + \n",
    "                     host + '/' + \n",
    "                     database, echo=False)"
   ]
  },
  {
   "cell_type": "code",
   "execution_count": 104,
   "metadata": {
    "nbgrader": {
     "grade": true,
     "grade_id": "q01-tests",
     "locked": true,
     "points": 5,
     "schema_version": 1,
     "solution": false
    }
   },
   "outputs": [],
   "source": [
    "assert(MYTABLE != 'paulboal_data')\n",
    "assert(conn.connect())"
   ]
  },
  {
   "cell_type": "code",
   "execution_count": null,
   "metadata": {
    "nbgrader": {
     "grade": true,
     "grade_id": "q01-tests",
     "locked": true,
     "points": 5,
     "schema_version": 1,
     "solution": false
    }
   },
   "outputs": [],
   "source": []
  },
  {
   "cell_type": "code",
   "execution_count": 105,
   "metadata": {
    "nbgrader": {
     "grade": true,
     "grade_id": "q01-tests",
     "locked": true,
     "points": 5,
     "schema_version": 1,
     "solution": false
    }
   },
   "outputs": [
    {
     "data": {
      "text/plain": [
       "'srai_data'"
      ]
     },
     "execution_count": 105,
     "metadata": {},
     "output_type": "execute_result"
    }
   ],
   "source": [
    "MYTABLE"
   ]
  },
  {
   "cell_type": "code",
   "execution_count": 106,
   "metadata": {
    "nbgrader": {
     "grade": true,
     "grade_id": "q01-tests",
     "locked": true,
     "points": 5,
     "schema_version": 1,
     "solution": false
    }
   },
   "outputs": [
    {
     "data": {
      "text/plain": [
       "<sqlalchemy.engine.base.Connection at 0x7fa70532cda0>"
      ]
     },
     "execution_count": 106,
     "metadata": {},
     "output_type": "execute_result"
    }
   ],
   "source": [
    "conn.connect()"
   ]
  },
  {
   "cell_type": "code",
   "execution_count": null,
   "metadata": {
    "nbgrader": {
     "grade": true,
     "grade_id": "q01-tests",
     "locked": true,
     "points": 5,
     "schema_version": 1,
     "solution": false
    }
   },
   "outputs": [],
   "source": []
  },
  {
   "cell_type": "markdown",
   "metadata": {
    "nbgrader": {
     "grade": false,
     "grade_id": "q02-intro",
     "locked": true,
     "schema_version": 1,
     "solution": false
    }
   },
   "source": [
    "## PART 2: Bring in outside data\n",
    "\n",
    "Grab the data from this URL and put it into a database table named with your `username_data`.\n",
    "\n",
    "http://dhcs-chhsagency.opendata.arcgis.com/datasets/8e4f3a0c75b9424d888d11c1f949cc32_0.csv\n",
    "\n",
    "By the end of your cell, the table should be created.  The tests are going to verify that the table exists and looks right."
   ]
  },
  {
   "cell_type": "code",
   "execution_count": 107,
   "metadata": {
    "nbgrader": {
     "grade": false,
     "grade_id": "q02-solution",
     "locked": false,
     "schema_version": 1,
     "solution": true
    }
   },
   "outputs": [],
   "source": [
    "url = 'http://dhcs-chhsagency.opendata.arcgis.com/datasets/8e4f3a0c75b9424d888d11c1f949cc32_0.csv'\n",
    "\n",
    "### SOLUTION GOES HERE\n",
    "\n",
    "data = pd.read_csv(url)\n",
    "\n",
    "# CREATE TABLE and fill it with the contents of the dataframe `data`\n",
    "# the table scheme will be created automatically by pandas\n",
    "data.to_sql(con=conn, name=MYTABLE, if_exists='replace')"
   ]
  },
  {
   "cell_type": "code",
   "execution_count": 108,
   "metadata": {
    "nbgrader": {
     "grade": false,
     "grade_id": "q02-solution",
     "locked": false,
     "schema_version": 1,
     "solution": true
    }
   },
   "outputs": [
    {
     "data": {
      "text/html": [
       "<div>\n",
       "<style scoped>\n",
       "    .dataframe tbody tr th:only-of-type {\n",
       "        vertical-align: middle;\n",
       "    }\n",
       "\n",
       "    .dataframe tbody tr th {\n",
       "        vertical-align: top;\n",
       "    }\n",
       "\n",
       "    .dataframe thead th {\n",
       "        text-align: right;\n",
       "    }\n",
       "</style>\n",
       "<table border=\"1\" class=\"dataframe\">\n",
       "  <thead>\n",
       "    <tr style=\"text-align: right;\">\n",
       "      <th></th>\n",
       "      <th>index</th>\n",
       "      <th>Provider_Name</th>\n",
       "      <th>NPI</th>\n",
       "      <th>CCN</th>\n",
       "      <th>Medicaid_EP_Hospital_Type</th>\n",
       "      <th>Street_Address</th>\n",
       "      <th>City</th>\n",
       "      <th>County</th>\n",
       "      <th>State</th>\n",
       "      <th>Zip_Code</th>\n",
       "      <th>Payment_Year_Number</th>\n",
       "      <th>Program_Type</th>\n",
       "      <th>Total_payments</th>\n",
       "      <th>Last_Program_Year</th>\n",
       "      <th>Last_Payment_Year</th>\n",
       "      <th>Last_Payment_Criteria</th>\n",
       "      <th>Most_Recent_Disbursement_Amount</th>\n",
       "      <th>LONGITUDE</th>\n",
       "      <th>LATITUDE</th>\n",
       "      <th>FID</th>\n",
       "    </tr>\n",
       "  </thead>\n",
       "  <tbody>\n",
       "    <tr>\n",
       "      <th>0</th>\n",
       "      <td>0</td>\n",
       "      <td>Sutter Bay Hospitals</td>\n",
       "      <td>1659439834</td>\n",
       "      <td>50008</td>\n",
       "      <td>Acute Care Hospitals</td>\n",
       "      <td>CASTRO &amp; DUBOCE STS</td>\n",
       "      <td>SAN FRANCISCO</td>\n",
       "      <td>San Francisco</td>\n",
       "      <td>CA</td>\n",
       "      <td>94114</td>\n",
       "      <td>3</td>\n",
       "      <td>Medicare/Medicaid</td>\n",
       "      <td>638474</td>\n",
       "      <td>2015</td>\n",
       "      <td>2017</td>\n",
       "      <td>MU</td>\n",
       "      <td>70942</td>\n",
       "      <td>-122.435802</td>\n",
       "      <td>37.769062</td>\n",
       "      <td>1</td>\n",
       "    </tr>\n",
       "    <tr>\n",
       "      <th>1</th>\n",
       "      <td>1</td>\n",
       "      <td>PRIME HEALTHCARE SERVICES - GARDEN GROVE LLC</td>\n",
       "      <td>1659538858</td>\n",
       "      <td>50230</td>\n",
       "      <td>Acute Care Hospitals</td>\n",
       "      <td>12601 GARDEN GROVE BLVD</td>\n",
       "      <td>GARDEN GROVE</td>\n",
       "      <td>Orange</td>\n",
       "      <td>CA</td>\n",
       "      <td>92843</td>\n",
       "      <td>4</td>\n",
       "      <td>Medicare/Medicaid</td>\n",
       "      <td>3947489</td>\n",
       "      <td>2014</td>\n",
       "      <td>2015</td>\n",
       "      <td>MU</td>\n",
       "      <td>394749</td>\n",
       "      <td>-117.913856</td>\n",
       "      <td>33.774499</td>\n",
       "      <td>2</td>\n",
       "    </tr>\n",
       "    <tr>\n",
       "      <th>2</th>\n",
       "      <td>2</td>\n",
       "      <td>ST MARY MEDICAL CENTER</td>\n",
       "      <td>1669456299</td>\n",
       "      <td>50300</td>\n",
       "      <td>Acute Care Hospitals</td>\n",
       "      <td>18300 US HIGHWAY 18</td>\n",
       "      <td>APPLE VALLEY</td>\n",
       "      <td>San Bernardino</td>\n",
       "      <td>CA</td>\n",
       "      <td>92307</td>\n",
       "      <td>3</td>\n",
       "      <td>Medicare/Medicaid</td>\n",
       "      <td>3062645</td>\n",
       "      <td>2014</td>\n",
       "      <td>2015</td>\n",
       "      <td>MU</td>\n",
       "      <td>340294</td>\n",
       "      <td>-117.262672</td>\n",
       "      <td>34.539918</td>\n",
       "      <td>3</td>\n",
       "    </tr>\n",
       "    <tr>\n",
       "      <th>3</th>\n",
       "      <td>3</td>\n",
       "      <td>MADERA COMMUNITY HOSPITAL</td>\n",
       "      <td>1669673646</td>\n",
       "      <td>50568</td>\n",
       "      <td>Acute Care Hospitals</td>\n",
       "      <td>1250 E ALMOND AVE</td>\n",
       "      <td>MADERA</td>\n",
       "      <td>Madera</td>\n",
       "      <td>CA</td>\n",
       "      <td>93637</td>\n",
       "      <td>4</td>\n",
       "      <td>Medicare/Medicaid</td>\n",
       "      <td>2057365</td>\n",
       "      <td>2015</td>\n",
       "      <td>2016</td>\n",
       "      <td>MU</td>\n",
       "      <td>205737</td>\n",
       "      <td>-120.045618</td>\n",
       "      <td>36.945447</td>\n",
       "      <td>4</td>\n",
       "    </tr>\n",
       "    <tr>\n",
       "      <th>4</th>\n",
       "      <td>4</td>\n",
       "      <td>Temecula Valley Hospital Inc</td>\n",
       "      <td>1679816201</td>\n",
       "      <td>50775</td>\n",
       "      <td>Acute Care Hospitals</td>\n",
       "      <td>31700 TEMECULA PKWY</td>\n",
       "      <td>TEMECULA</td>\n",
       "      <td>Riverside</td>\n",
       "      <td>CA</td>\n",
       "      <td>92592</td>\n",
       "      <td>1</td>\n",
       "      <td>Medicare/Medicaid</td>\n",
       "      <td>474790</td>\n",
       "      <td>2016</td>\n",
       "      <td>2017</td>\n",
       "      <td>AIU</td>\n",
       "      <td>474790</td>\n",
       "      <td>-117.117197</td>\n",
       "      <td>33.470664</td>\n",
       "      <td>5</td>\n",
       "    </tr>\n",
       "    <tr>\n",
       "      <th>...</th>\n",
       "      <td>...</td>\n",
       "      <td>...</td>\n",
       "      <td>...</td>\n",
       "      <td>...</td>\n",
       "      <td>...</td>\n",
       "      <td>...</td>\n",
       "      <td>...</td>\n",
       "      <td>...</td>\n",
       "      <td>...</td>\n",
       "      <td>...</td>\n",
       "      <td>...</td>\n",
       "      <td>...</td>\n",
       "      <td>...</td>\n",
       "      <td>...</td>\n",
       "      <td>...</td>\n",
       "      <td>...</td>\n",
       "      <td>...</td>\n",
       "      <td>...</td>\n",
       "      <td>...</td>\n",
       "      <td>...</td>\n",
       "    </tr>\n",
       "    <tr>\n",
       "      <th>323</th>\n",
       "      <td>323</td>\n",
       "      <td>KAISER FOUNDATION HOSPITALS</td>\n",
       "      <td>1326119967</td>\n",
       "      <td>50071</td>\n",
       "      <td>Acute Care Hospitals</td>\n",
       "      <td>700 LAWRENCE EXPY</td>\n",
       "      <td>SANTA CLARA</td>\n",
       "      <td>Santa Clara</td>\n",
       "      <td>CA</td>\n",
       "      <td>95051</td>\n",
       "      <td>1</td>\n",
       "      <td>Medicare/Medicaid</td>\n",
       "      <td>339080</td>\n",
       "      <td>2016</td>\n",
       "      <td>2017</td>\n",
       "      <td>MU</td>\n",
       "      <td>339080</td>\n",
       "      <td>-121.995774</td>\n",
       "      <td>37.334574</td>\n",
       "      <td>324</td>\n",
       "    </tr>\n",
       "    <tr>\n",
       "      <th>324</th>\n",
       "      <td>324</td>\n",
       "      <td>COUNTY OF LOS ANGELES AUDITOR CONTROLLER</td>\n",
       "      <td>1336154020</td>\n",
       "      <td>50717</td>\n",
       "      <td>Acute Care Hospitals</td>\n",
       "      <td>7601 E IMPERIAL HWY</td>\n",
       "      <td>DOWNEY</td>\n",
       "      <td>Los Angeles</td>\n",
       "      <td>CA</td>\n",
       "      <td>90242</td>\n",
       "      <td>2</td>\n",
       "      <td>Medicare/Medicaid</td>\n",
       "      <td>3686626</td>\n",
       "      <td>2016</td>\n",
       "      <td>2018</td>\n",
       "      <td>MU</td>\n",
       "      <td>1382485</td>\n",
       "      <td>-118.156423</td>\n",
       "      <td>33.926359</td>\n",
       "      <td>325</td>\n",
       "    </tr>\n",
       "    <tr>\n",
       "      <th>325</th>\n",
       "      <td>325</td>\n",
       "      <td>REEDLEY COMMUNITY HOSPITAL</td>\n",
       "      <td>1336167550</td>\n",
       "      <td>50192</td>\n",
       "      <td>Acute Care Hospitals</td>\n",
       "      <td>372 W CYPRESS AVE</td>\n",
       "      <td>REEDLEY</td>\n",
       "      <td>Fresno</td>\n",
       "      <td>CA</td>\n",
       "      <td>93654</td>\n",
       "      <td>3</td>\n",
       "      <td>Medicare/Medicaid</td>\n",
       "      <td>2520247</td>\n",
       "      <td>2015</td>\n",
       "      <td>2018</td>\n",
       "      <td>MU</td>\n",
       "      <td>280027</td>\n",
       "      <td>-119.451265</td>\n",
       "      <td>36.607796</td>\n",
       "      <td>326</td>\n",
       "    </tr>\n",
       "    <tr>\n",
       "      <th>326</th>\n",
       "      <td>326</td>\n",
       "      <td>PROVIDENCE HEALTH SYSTEM-SOUTHERN CALIFORNIA</td>\n",
       "      <td>1336173269</td>\n",
       "      <td>50235</td>\n",
       "      <td>Acute Care Hospitals</td>\n",
       "      <td>501 S BUENA VISTA</td>\n",
       "      <td>BURBANK</td>\n",
       "      <td>Los Angeles</td>\n",
       "      <td>CA</td>\n",
       "      <td>91505</td>\n",
       "      <td>4</td>\n",
       "      <td>Medicare/Medicaid</td>\n",
       "      <td>2326084</td>\n",
       "      <td>2014</td>\n",
       "      <td>2015</td>\n",
       "      <td>MU</td>\n",
       "      <td>232608</td>\n",
       "      <td>-118.326997</td>\n",
       "      <td>34.155912</td>\n",
       "      <td>327</td>\n",
       "    </tr>\n",
       "    <tr>\n",
       "      <th>327</th>\n",
       "      <td>327</td>\n",
       "      <td>KAISER FOUNDATION HOSPITALS</td>\n",
       "      <td>1336294040</td>\n",
       "      <td>50411</td>\n",
       "      <td>Acute Care Hospitals</td>\n",
       "      <td>25825 S VERMONT AVE</td>\n",
       "      <td>HARBOR CITY</td>\n",
       "      <td>Los Angeles</td>\n",
       "      <td>CA</td>\n",
       "      <td>90710</td>\n",
       "      <td>2</td>\n",
       "      <td>Medicare/Medicaid</td>\n",
       "      <td>358649</td>\n",
       "      <td>2016</td>\n",
       "      <td>2018</td>\n",
       "      <td>MU</td>\n",
       "      <td>134493</td>\n",
       "      <td>-118.294040</td>\n",
       "      <td>33.788973</td>\n",
       "      <td>328</td>\n",
       "    </tr>\n",
       "  </tbody>\n",
       "</table>\n",
       "<p>328 rows × 20 columns</p>\n",
       "</div>"
      ],
      "text/plain": [
       "     index                                 Provider_Name         NPI    CCN  \\\n",
       "0        0                          Sutter Bay Hospitals  1659439834  50008   \n",
       "1        1  PRIME HEALTHCARE SERVICES - GARDEN GROVE LLC  1659538858  50230   \n",
       "2        2                        ST MARY MEDICAL CENTER  1669456299  50300   \n",
       "3        3                     MADERA COMMUNITY HOSPITAL  1669673646  50568   \n",
       "4        4                  Temecula Valley Hospital Inc  1679816201  50775   \n",
       "..     ...                                           ...         ...    ...   \n",
       "323    323                   KAISER FOUNDATION HOSPITALS  1326119967  50071   \n",
       "324    324      COUNTY OF LOS ANGELES AUDITOR CONTROLLER  1336154020  50717   \n",
       "325    325                    REEDLEY COMMUNITY HOSPITAL  1336167550  50192   \n",
       "326    326  PROVIDENCE HEALTH SYSTEM-SOUTHERN CALIFORNIA  1336173269  50235   \n",
       "327    327                   KAISER FOUNDATION HOSPITALS  1336294040  50411   \n",
       "\n",
       "    Medicaid_EP_Hospital_Type           Street_Address           City  \\\n",
       "0        Acute Care Hospitals      CASTRO & DUBOCE STS  SAN FRANCISCO   \n",
       "1        Acute Care Hospitals  12601 GARDEN GROVE BLVD   GARDEN GROVE   \n",
       "2        Acute Care Hospitals      18300 US HIGHWAY 18   APPLE VALLEY   \n",
       "3        Acute Care Hospitals        1250 E ALMOND AVE         MADERA   \n",
       "4        Acute Care Hospitals      31700 TEMECULA PKWY       TEMECULA   \n",
       "..                        ...                      ...            ...   \n",
       "323      Acute Care Hospitals        700 LAWRENCE EXPY    SANTA CLARA   \n",
       "324      Acute Care Hospitals      7601 E IMPERIAL HWY         DOWNEY   \n",
       "325      Acute Care Hospitals        372 W CYPRESS AVE        REEDLEY   \n",
       "326      Acute Care Hospitals        501 S BUENA VISTA        BURBANK   \n",
       "327      Acute Care Hospitals      25825 S VERMONT AVE    HARBOR CITY   \n",
       "\n",
       "             County State  Zip_Code  Payment_Year_Number       Program_Type  \\\n",
       "0     San Francisco    CA     94114                    3  Medicare/Medicaid   \n",
       "1            Orange    CA     92843                    4  Medicare/Medicaid   \n",
       "2    San Bernardino    CA     92307                    3  Medicare/Medicaid   \n",
       "3            Madera    CA     93637                    4  Medicare/Medicaid   \n",
       "4         Riverside    CA     92592                    1  Medicare/Medicaid   \n",
       "..              ...   ...       ...                  ...                ...   \n",
       "323     Santa Clara    CA     95051                    1  Medicare/Medicaid   \n",
       "324     Los Angeles    CA     90242                    2  Medicare/Medicaid   \n",
       "325          Fresno    CA     93654                    3  Medicare/Medicaid   \n",
       "326     Los Angeles    CA     91505                    4  Medicare/Medicaid   \n",
       "327     Los Angeles    CA     90710                    2  Medicare/Medicaid   \n",
       "\n",
       "     Total_payments  Last_Program_Year  Last_Payment_Year  \\\n",
       "0            638474               2015               2017   \n",
       "1           3947489               2014               2015   \n",
       "2           3062645               2014               2015   \n",
       "3           2057365               2015               2016   \n",
       "4            474790               2016               2017   \n",
       "..              ...                ...                ...   \n",
       "323          339080               2016               2017   \n",
       "324         3686626               2016               2018   \n",
       "325         2520247               2015               2018   \n",
       "326         2326084               2014               2015   \n",
       "327          358649               2016               2018   \n",
       "\n",
       "    Last_Payment_Criteria  Most_Recent_Disbursement_Amount   LONGITUDE  \\\n",
       "0                      MU                            70942 -122.435802   \n",
       "1                      MU                           394749 -117.913856   \n",
       "2                      MU                           340294 -117.262672   \n",
       "3                      MU                           205737 -120.045618   \n",
       "4                     AIU                           474790 -117.117197   \n",
       "..                    ...                              ...         ...   \n",
       "323                    MU                           339080 -121.995774   \n",
       "324                    MU                          1382485 -118.156423   \n",
       "325                    MU                           280027 -119.451265   \n",
       "326                    MU                           232608 -118.326997   \n",
       "327                    MU                           134493 -118.294040   \n",
       "\n",
       "      LATITUDE  FID  \n",
       "0    37.769062    1  \n",
       "1    33.774499    2  \n",
       "2    34.539918    3  \n",
       "3    36.945447    4  \n",
       "4    33.470664    5  \n",
       "..         ...  ...  \n",
       "323  37.334574  324  \n",
       "324  33.926359  325  \n",
       "325  36.607796  326  \n",
       "326  34.155912  327  \n",
       "327  33.788973  328  \n",
       "\n",
       "[328 rows x 20 columns]"
      ]
     },
     "execution_count": 108,
     "metadata": {},
     "output_type": "execute_result"
    }
   ],
   "source": [
    "pd.read_sql_query('SELECT * FROM ' + MYTABLE, conn)"
   ]
  },
  {
   "cell_type": "code",
   "execution_count": 109,
   "metadata": {
    "nbgrader": {
     "grade": true,
     "grade_id": "q02-tests",
     "locked": true,
     "points": 5,
     "schema_version": 1,
     "solution": false
    }
   },
   "outputs": [],
   "source": [
    "xyz = pd.read_sql_query('SELECT * FROM ' + MYTABLE, conn)\n",
    "assert(dxyz.shape == (328,20))\n",
    "assert(list(dxyz.columns) == ['index', 'Provider_Name', 'NPI', 'CCN',\n",
    "       'Medicaid_EP_Hospital_Type', 'Street_Address', 'City', 'County',\n",
    "       'State', 'Zip_Code', 'Payment_Year_Number', 'Program_Type',\n",
    "       'Total_payments', 'Last_Program_Year', 'Last_Payment_Year',\n",
    "       'Last_Payment_Criteria', 'Most_Recent_Disbursement_Amount', 'LONGITUDE',\n",
    "       'LATITUDE', 'FID'])"
   ]
  },
  {
   "cell_type": "code",
   "execution_count": null,
   "metadata": {
    "nbgrader": {
     "grade": true,
     "grade_id": "q02-tests",
     "locked": true,
     "points": 5,
     "schema_version": 1,
     "solution": false
    }
   },
   "outputs": [],
   "source": []
  },
  {
   "cell_type": "code",
   "execution_count": 110,
   "metadata": {
    "nbgrader": {
     "grade": true,
     "grade_id": "q02-tests",
     "locked": true,
     "points": 5,
     "schema_version": 1,
     "solution": false
    }
   },
   "outputs": [
    {
     "data": {
      "text/plain": [
       "(328, 20)"
      ]
     },
     "execution_count": 110,
     "metadata": {},
     "output_type": "execute_result"
    }
   ],
   "source": [
    "dxyz.shape"
   ]
  },
  {
   "cell_type": "code",
   "execution_count": 111,
   "metadata": {
    "nbgrader": {
     "grade": true,
     "grade_id": "q02-tests",
     "locked": true,
     "points": 5,
     "schema_version": 1,
     "solution": false
    }
   },
   "outputs": [
    {
     "data": {
      "text/plain": [
       "['index',\n",
       " 'Provider_Name',\n",
       " 'NPI',\n",
       " 'CCN',\n",
       " 'Medicaid_EP_Hospital_Type',\n",
       " 'Street_Address',\n",
       " 'City',\n",
       " 'County',\n",
       " 'State',\n",
       " 'Zip_Code',\n",
       " 'Payment_Year_Number',\n",
       " 'Program_Type',\n",
       " 'Total_payments',\n",
       " 'Last_Program_Year',\n",
       " 'Last_Payment_Year',\n",
       " 'Last_Payment_Criteria',\n",
       " 'Most_Recent_Disbursement_Amount',\n",
       " 'LONGITUDE',\n",
       " 'LATITUDE',\n",
       " 'FID']"
      ]
     },
     "execution_count": 111,
     "metadata": {},
     "output_type": "execute_result"
    }
   ],
   "source": [
    "list(dxyz.columns)"
   ]
  },
  {
   "cell_type": "code",
   "execution_count": null,
   "metadata": {
    "nbgrader": {
     "grade": true,
     "grade_id": "q02-tests",
     "locked": true,
     "points": 5,
     "schema_version": 1,
     "solution": false
    }
   },
   "outputs": [],
   "source": []
  },
  {
   "cell_type": "markdown",
   "metadata": {
    "nbgrader": {
     "grade": false,
     "grade_id": "q03-intro",
     "locked": true,
     "schema_version": 1,
     "solution": false
    }
   },
   "source": [
    "## PART 3: Combine with other data in the database\n",
    "\n",
    "In the database, there is an existing table called `population`.  We want to merge the DHCS datafile loaded above with the population data available in this other database table  The tables can be merged on `MYTABLE`'s `Zip_Code` field and `population`'s `zipcode` field.\n",
    "\n",
    "Note that not all `Zip_Codes` from your downloaded file have to be in the `population` table.  If they aren't, then I want you to eliminate the non-matching records.  That is, only keep the records that have a matching ZIP code in both sets of data.\n",
    "\n",
    "Answer the question:\n",
    "Which providers are located in the zipcode with the largest population?\n",
    "\n",
    "Put your answer in the form `answer = ['a', 'list', 'of', 'NPI', 'like', '1593042103]`"
   ]
  },
  {
   "cell_type": "code",
   "execution_count": 112,
   "metadata": {
    "nbgrader": {
     "grade": false,
     "grade_id": "q03-solution",
     "locked": false,
     "schema_version": 1,
     "solution": true
    }
   },
   "outputs": [],
   "source": [
    "### SOLUTION GOES HERE\n",
    "answer = []\n",
    "\n",
    "\n",
    "population = pd.read_sql_query(\"SELECT * FROM population\", conn)\n",
    "\n",
    "\n",
    "filtered_data = data[data[\"Zip_Code\"].isin(population[\"zipcode\"])]\n",
    "population[\"zipcode\"] = population[\"zipcode\"].astype(\"int64\")\n",
    "merged_data = pd.merge(filtered_data, population, left_on=\"Zip_Code\", right_on=\"zipcode\")\n",
    "\n",
    "\n",
    "\n",
    "largest_population = merged_data[\"population\"].max()\n",
    "temp_df = merged_data[merged_data[\"population\"] == largest_population]\n",
    "zipcode = list(temp_df[\"Zip_Code\"])[0]\n",
    "answer = list(map(str, temp_df[ merged_data[\"Zip_Code\"] == zipcode ][\"NPI\"]))"
   ]
  },
  {
   "cell_type": "code",
   "execution_count": 112,
   "metadata": {
    "nbgrader": {
     "grade": false,
     "grade_id": "q03-solution",
     "locked": false,
     "schema_version": 1,
     "solution": true
    }
   },
   "outputs": [],
   "source": []
  },
  {
   "cell_type": "code",
   "execution_count": 112,
   "metadata": {
    "nbgrader": {
     "grade": false,
     "grade_id": "q03-solution",
     "locked": false,
     "schema_version": 1,
     "solution": true
    }
   },
   "outputs": [],
   "source": []
  },
  {
   "cell_type": "code",
   "execution_count": 112,
   "metadata": {
    "nbgrader": {
     "grade": false,
     "grade_id": "q03-solution",
     "locked": false,
     "schema_version": 1,
     "solution": true
    }
   },
   "outputs": [],
   "source": []
  },
  {
   "cell_type": "code",
   "execution_count": 112,
   "metadata": {
    "nbgrader": {
     "grade": false,
     "grade_id": "q03-solution",
     "locked": false,
     "schema_version": 1,
     "solution": true
    }
   },
   "outputs": [],
   "source": []
  },
  {
   "cell_type": "code",
   "execution_count": 112,
   "metadata": {
    "nbgrader": {
     "grade": false,
     "grade_id": "q03-solution",
     "locked": false,
     "schema_version": 1,
     "solution": true
    }
   },
   "outputs": [],
   "source": []
  },
  {
   "cell_type": "code",
   "execution_count": 112,
   "metadata": {
    "nbgrader": {
     "grade": false,
     "grade_id": "q03-solution",
     "locked": false,
     "schema_version": 1,
     "solution": true
    }
   },
   "outputs": [
    {
     "data": {
      "text/html": [
       "<div>\n",
       "<style scoped>\n",
       "    .dataframe tbody tr th:only-of-type {\n",
       "        vertical-align: middle;\n",
       "    }\n",
       "\n",
       "    .dataframe tbody tr th {\n",
       "        vertical-align: top;\n",
       "    }\n",
       "\n",
       "    .dataframe thead th {\n",
       "        text-align: right;\n",
       "    }\n",
       "</style>\n",
       "<table border=\"1\" class=\"dataframe\">\n",
       "  <thead>\n",
       "    <tr style=\"text-align: right;\">\n",
       "      <th></th>\n",
       "      <th>zipcode</th>\n",
       "      <th>population</th>\n",
       "      <th>median_age</th>\n",
       "      <th>total_males</th>\n",
       "      <th>total_females</th>\n",
       "      <th>total_households</th>\n",
       "      <th>avg_household</th>\n",
       "    </tr>\n",
       "  </thead>\n",
       "  <tbody>\n",
       "    <tr>\n",
       "      <th>0</th>\n",
       "      <td>91371</td>\n",
       "      <td>1</td>\n",
       "      <td>73.5</td>\n",
       "      <td>0</td>\n",
       "      <td>1</td>\n",
       "      <td>1</td>\n",
       "      <td>1.00</td>\n",
       "    </tr>\n",
       "    <tr>\n",
       "      <th>1</th>\n",
       "      <td>90001</td>\n",
       "      <td>57110</td>\n",
       "      <td>26.6</td>\n",
       "      <td>28468</td>\n",
       "      <td>28642</td>\n",
       "      <td>12971</td>\n",
       "      <td>4.40</td>\n",
       "    </tr>\n",
       "    <tr>\n",
       "      <th>2</th>\n",
       "      <td>90002</td>\n",
       "      <td>51223</td>\n",
       "      <td>25.5</td>\n",
       "      <td>24876</td>\n",
       "      <td>26347</td>\n",
       "      <td>11731</td>\n",
       "      <td>4.36</td>\n",
       "    </tr>\n",
       "    <tr>\n",
       "      <th>3</th>\n",
       "      <td>90003</td>\n",
       "      <td>66266</td>\n",
       "      <td>26.3</td>\n",
       "      <td>32631</td>\n",
       "      <td>33635</td>\n",
       "      <td>15642</td>\n",
       "      <td>4.22</td>\n",
       "    </tr>\n",
       "    <tr>\n",
       "      <th>4</th>\n",
       "      <td>90004</td>\n",
       "      <td>62180</td>\n",
       "      <td>34.8</td>\n",
       "      <td>31302</td>\n",
       "      <td>30878</td>\n",
       "      <td>22547</td>\n",
       "      <td>2.73</td>\n",
       "    </tr>\n",
       "    <tr>\n",
       "      <th>...</th>\n",
       "      <td>...</td>\n",
       "      <td>...</td>\n",
       "      <td>...</td>\n",
       "      <td>...</td>\n",
       "      <td>...</td>\n",
       "      <td>...</td>\n",
       "      <td>...</td>\n",
       "    </tr>\n",
       "    <tr>\n",
       "      <th>314</th>\n",
       "      <td>93552</td>\n",
       "      <td>38158</td>\n",
       "      <td>28.4</td>\n",
       "      <td>18711</td>\n",
       "      <td>19447</td>\n",
       "      <td>9690</td>\n",
       "      <td>3.93</td>\n",
       "    </tr>\n",
       "    <tr>\n",
       "      <th>315</th>\n",
       "      <td>93553</td>\n",
       "      <td>2138</td>\n",
       "      <td>43.3</td>\n",
       "      <td>1121</td>\n",
       "      <td>1017</td>\n",
       "      <td>816</td>\n",
       "      <td>2.62</td>\n",
       "    </tr>\n",
       "    <tr>\n",
       "      <th>316</th>\n",
       "      <td>93560</td>\n",
       "      <td>18910</td>\n",
       "      <td>32.4</td>\n",
       "      <td>9491</td>\n",
       "      <td>9419</td>\n",
       "      <td>6469</td>\n",
       "      <td>2.92</td>\n",
       "    </tr>\n",
       "    <tr>\n",
       "      <th>317</th>\n",
       "      <td>93563</td>\n",
       "      <td>388</td>\n",
       "      <td>44.5</td>\n",
       "      <td>263</td>\n",
       "      <td>125</td>\n",
       "      <td>103</td>\n",
       "      <td>2.53</td>\n",
       "    </tr>\n",
       "    <tr>\n",
       "      <th>318</th>\n",
       "      <td>93591</td>\n",
       "      <td>7285</td>\n",
       "      <td>30.9</td>\n",
       "      <td>3653</td>\n",
       "      <td>3632</td>\n",
       "      <td>1982</td>\n",
       "      <td>3.67</td>\n",
       "    </tr>\n",
       "  </tbody>\n",
       "</table>\n",
       "<p>319 rows × 7 columns</p>\n",
       "</div>"
      ],
      "text/plain": [
       "    zipcode  population  median_age  total_males  total_females  \\\n",
       "0     91371           1        73.5            0              1   \n",
       "1     90001       57110        26.6        28468          28642   \n",
       "2     90002       51223        25.5        24876          26347   \n",
       "3     90003       66266        26.3        32631          33635   \n",
       "4     90004       62180        34.8        31302          30878   \n",
       "..      ...         ...         ...          ...            ...   \n",
       "314   93552       38158        28.4        18711          19447   \n",
       "315   93553        2138        43.3         1121           1017   \n",
       "316   93560       18910        32.4         9491           9419   \n",
       "317   93563         388        44.5          263            125   \n",
       "318   93591        7285        30.9         3653           3632   \n",
       "\n",
       "     total_households  avg_household  \n",
       "0                   1           1.00  \n",
       "1               12971           4.40  \n",
       "2               11731           4.36  \n",
       "3               15642           4.22  \n",
       "4               22547           2.73  \n",
       "..                ...            ...  \n",
       "314              9690           3.93  \n",
       "315               816           2.62  \n",
       "316              6469           2.92  \n",
       "317               103           2.53  \n",
       "318              1982           3.67  \n",
       "\n",
       "[319 rows x 7 columns]"
      ]
     },
     "execution_count": 112,
     "metadata": {},
     "output_type": "execute_result"
    }
   ],
   "source": [
    "### SOLUTION GOES HERE\n",
    "answer = []\n",
    "\n",
    "# read the population table into dataframe\n",
    "population = pd.read_sql_query(\"SELECT * FROM population\", conn)\n",
    "\n",
    "population"
   ]
  },
  {
   "cell_type": "code",
   "execution_count": 113,
   "metadata": {
    "nbgrader": {
     "grade": false,
     "grade_id": "q03-solution",
     "locked": false,
     "schema_version": 1,
     "solution": true
    }
   },
   "outputs": [
    {
     "data": {
      "text/html": [
       "<div>\n",
       "<style scoped>\n",
       "    .dataframe tbody tr th:only-of-type {\n",
       "        vertical-align: middle;\n",
       "    }\n",
       "\n",
       "    .dataframe tbody tr th {\n",
       "        vertical-align: top;\n",
       "    }\n",
       "\n",
       "    .dataframe thead th {\n",
       "        text-align: right;\n",
       "    }\n",
       "</style>\n",
       "<table border=\"1\" class=\"dataframe\">\n",
       "  <thead>\n",
       "    <tr style=\"text-align: right;\">\n",
       "      <th></th>\n",
       "      <th>Provider_Name</th>\n",
       "      <th>NPI</th>\n",
       "      <th>CCN</th>\n",
       "      <th>Medicaid_EP_Hospital_Type</th>\n",
       "      <th>Street_Address</th>\n",
       "      <th>City</th>\n",
       "      <th>County</th>\n",
       "      <th>State</th>\n",
       "      <th>Zip_Code</th>\n",
       "      <th>Payment_Year_Number</th>\n",
       "      <th>...</th>\n",
       "      <th>LONGITUDE</th>\n",
       "      <th>LATITUDE</th>\n",
       "      <th>FID</th>\n",
       "      <th>zipcode</th>\n",
       "      <th>population</th>\n",
       "      <th>median_age</th>\n",
       "      <th>total_males</th>\n",
       "      <th>total_females</th>\n",
       "      <th>total_households</th>\n",
       "      <th>avg_household</th>\n",
       "    </tr>\n",
       "  </thead>\n",
       "  <tbody>\n",
       "    <tr>\n",
       "      <th>0</th>\n",
       "      <td>LONG BEACH MEMORIAL MEDICAL</td>\n",
       "      <td>1720371065</td>\n",
       "      <td>50727</td>\n",
       "      <td>Acute Care Hospitals</td>\n",
       "      <td>1720 TERMINO AVE</td>\n",
       "      <td>LONG BEACH</td>\n",
       "      <td>Los Angeles</td>\n",
       "      <td>CA</td>\n",
       "      <td>90804</td>\n",
       "      <td>2</td>\n",
       "      <td>...</td>\n",
       "      <td>-118.145915</td>\n",
       "      <td>33.788689</td>\n",
       "      <td>20</td>\n",
       "      <td>90804</td>\n",
       "      <td>40311</td>\n",
       "      <td>29.8</td>\n",
       "      <td>19686</td>\n",
       "      <td>20625</td>\n",
       "      <td>14556</td>\n",
       "      <td>2.70</td>\n",
       "    </tr>\n",
       "    <tr>\n",
       "      <th>1</th>\n",
       "      <td>AHMC GARFIELD MEDICAL CENTER LP</td>\n",
       "      <td>1730171265</td>\n",
       "      <td>50737</td>\n",
       "      <td>Acute Care Hospitals</td>\n",
       "      <td>525 N GARFIELD AVE</td>\n",
       "      <td>MONTEREY PARK</td>\n",
       "      <td>Los Angeles</td>\n",
       "      <td>CA</td>\n",
       "      <td>91754</td>\n",
       "      <td>4</td>\n",
       "      <td>...</td>\n",
       "      <td>-118.122909</td>\n",
       "      <td>34.067656</td>\n",
       "      <td>21</td>\n",
       "      <td>91754</td>\n",
       "      <td>32742</td>\n",
       "      <td>42.9</td>\n",
       "      <td>15620</td>\n",
       "      <td>17122</td>\n",
       "      <td>11193</td>\n",
       "      <td>2.92</td>\n",
       "    </tr>\n",
       "    <tr>\n",
       "      <th>2</th>\n",
       "      <td>AHMC MONTEREY PARK HOSPITAL LP</td>\n",
       "      <td>1780676221</td>\n",
       "      <td>50736</td>\n",
       "      <td>Acute Care Hospitals</td>\n",
       "      <td>900 S ATLANTIC BLVD</td>\n",
       "      <td>MONTEREY PARK</td>\n",
       "      <td>Los Angeles</td>\n",
       "      <td>CA</td>\n",
       "      <td>91754</td>\n",
       "      <td>3</td>\n",
       "      <td>...</td>\n",
       "      <td>-118.138423</td>\n",
       "      <td>34.050379</td>\n",
       "      <td>44</td>\n",
       "      <td>91754</td>\n",
       "      <td>32742</td>\n",
       "      <td>42.9</td>\n",
       "      <td>15620</td>\n",
       "      <td>17122</td>\n",
       "      <td>11193</td>\n",
       "      <td>2.92</td>\n",
       "    </tr>\n",
       "    <tr>\n",
       "      <th>3</th>\n",
       "      <td>PRIME HEALTHCARE SERVICES - SAN DIMAS LLC</td>\n",
       "      <td>1740447945</td>\n",
       "      <td>50588</td>\n",
       "      <td>Acute Care Hospitals</td>\n",
       "      <td>1350 W COVINA BLVD</td>\n",
       "      <td>SAN DIMAS</td>\n",
       "      <td>Los Angeles</td>\n",
       "      <td>CA</td>\n",
       "      <td>91773</td>\n",
       "      <td>4</td>\n",
       "      <td>...</td>\n",
       "      <td>-117.834284</td>\n",
       "      <td>34.099075</td>\n",
       "      <td>28</td>\n",
       "      <td>91773</td>\n",
       "      <td>33119</td>\n",
       "      <td>42.5</td>\n",
       "      <td>15737</td>\n",
       "      <td>17382</td>\n",
       "      <td>11941</td>\n",
       "      <td>2.73</td>\n",
       "    </tr>\n",
       "    <tr>\n",
       "      <th>4</th>\n",
       "      <td>City of Hope National Medical Center</td>\n",
       "      <td>1750358297</td>\n",
       "      <td>50146</td>\n",
       "      <td>Acute Care Hospitals</td>\n",
       "      <td>1500 DUARTE RD</td>\n",
       "      <td>DUARTE</td>\n",
       "      <td>Los Angeles</td>\n",
       "      <td>CA</td>\n",
       "      <td>91010</td>\n",
       "      <td>1</td>\n",
       "      <td>...</td>\n",
       "      <td>-117.971512</td>\n",
       "      <td>34.132255</td>\n",
       "      <td>29</td>\n",
       "      <td>91010</td>\n",
       "      <td>26074</td>\n",
       "      <td>38.1</td>\n",
       "      <td>12461</td>\n",
       "      <td>13613</td>\n",
       "      <td>7972</td>\n",
       "      <td>3.20</td>\n",
       "    </tr>\n",
       "    <tr>\n",
       "      <th>...</th>\n",
       "      <td>...</td>\n",
       "      <td>...</td>\n",
       "      <td>...</td>\n",
       "      <td>...</td>\n",
       "      <td>...</td>\n",
       "      <td>...</td>\n",
       "      <td>...</td>\n",
       "      <td>...</td>\n",
       "      <td>...</td>\n",
       "      <td>...</td>\n",
       "      <td>...</td>\n",
       "      <td>...</td>\n",
       "      <td>...</td>\n",
       "      <td>...</td>\n",
       "      <td>...</td>\n",
       "      <td>...</td>\n",
       "      <td>...</td>\n",
       "      <td>...</td>\n",
       "      <td>...</td>\n",
       "      <td>...</td>\n",
       "      <td>...</td>\n",
       "    </tr>\n",
       "    <tr>\n",
       "      <th>82</th>\n",
       "      <td>DOWNEY REGIONAL MEDICAL CENTER-HOSPITAL, INC</td>\n",
       "      <td>1265433551</td>\n",
       "      <td>50393</td>\n",
       "      <td>Acute Care Hospitals</td>\n",
       "      <td>11500 BROOKSHIRE AVE</td>\n",
       "      <td>DOWNEY</td>\n",
       "      <td>Los Angeles</td>\n",
       "      <td>CA</td>\n",
       "      <td>90241</td>\n",
       "      <td>2</td>\n",
       "      <td>...</td>\n",
       "      <td>-118.131982</td>\n",
       "      <td>33.935242</td>\n",
       "      <td>307</td>\n",
       "      <td>90241</td>\n",
       "      <td>42399</td>\n",
       "      <td>33.9</td>\n",
       "      <td>20466</td>\n",
       "      <td>21933</td>\n",
       "      <td>13617</td>\n",
       "      <td>3.09</td>\n",
       "    </tr>\n",
       "    <tr>\n",
       "      <th>83</th>\n",
       "      <td>AHMC SAN GABRIEL VALLEY MEDICAL CENTER, LP</td>\n",
       "      <td>1275720377</td>\n",
       "      <td>50132</td>\n",
       "      <td>Acute Care Hospitals</td>\n",
       "      <td>438 W LAS TUNAS DR</td>\n",
       "      <td>SAN GABRIEL</td>\n",
       "      <td>Los Angeles</td>\n",
       "      <td>CA</td>\n",
       "      <td>91776</td>\n",
       "      <td>2</td>\n",
       "      <td>...</td>\n",
       "      <td>-118.105202</td>\n",
       "      <td>34.102491</td>\n",
       "      <td>313</td>\n",
       "      <td>91776</td>\n",
       "      <td>38475</td>\n",
       "      <td>39.0</td>\n",
       "      <td>18751</td>\n",
       "      <td>19724</td>\n",
       "      <td>11776</td>\n",
       "      <td>3.24</td>\n",
       "    </tr>\n",
       "    <tr>\n",
       "      <th>84</th>\n",
       "      <td>KAISER FOUNDATION HOSPITALS</td>\n",
       "      <td>1295880912</td>\n",
       "      <td>50677</td>\n",
       "      <td>Acute Care Hospitals</td>\n",
       "      <td>5601 DE SOTO AVE</td>\n",
       "      <td>WOODLAND HILLS</td>\n",
       "      <td>Los Angeles</td>\n",
       "      <td>CA</td>\n",
       "      <td>91367</td>\n",
       "      <td>2</td>\n",
       "      <td>...</td>\n",
       "      <td>-118.588180</td>\n",
       "      <td>34.170412</td>\n",
       "      <td>315</td>\n",
       "      <td>91367</td>\n",
       "      <td>39499</td>\n",
       "      <td>41.0</td>\n",
       "      <td>19171</td>\n",
       "      <td>20328</td>\n",
       "      <td>16697</td>\n",
       "      <td>2.35</td>\n",
       "    </tr>\n",
       "    <tr>\n",
       "      <th>85</th>\n",
       "      <td>PROVIDENCE HEALTH SYSTEM-SOUTHERN CALIFORNIA</td>\n",
       "      <td>1336173269</td>\n",
       "      <td>50235</td>\n",
       "      <td>Acute Care Hospitals</td>\n",
       "      <td>501 S BUENA VISTA</td>\n",
       "      <td>BURBANK</td>\n",
       "      <td>Los Angeles</td>\n",
       "      <td>CA</td>\n",
       "      <td>91505</td>\n",
       "      <td>4</td>\n",
       "      <td>...</td>\n",
       "      <td>-118.326997</td>\n",
       "      <td>34.155912</td>\n",
       "      <td>327</td>\n",
       "      <td>91505</td>\n",
       "      <td>30778</td>\n",
       "      <td>38.9</td>\n",
       "      <td>15121</td>\n",
       "      <td>15657</td>\n",
       "      <td>13180</td>\n",
       "      <td>2.33</td>\n",
       "    </tr>\n",
       "    <tr>\n",
       "      <th>86</th>\n",
       "      <td>KAISER FOUNDATION HOSPITALS</td>\n",
       "      <td>1336294040</td>\n",
       "      <td>50411</td>\n",
       "      <td>Acute Care Hospitals</td>\n",
       "      <td>25825 S VERMONT AVE</td>\n",
       "      <td>HARBOR CITY</td>\n",
       "      <td>Los Angeles</td>\n",
       "      <td>CA</td>\n",
       "      <td>90710</td>\n",
       "      <td>2</td>\n",
       "      <td>...</td>\n",
       "      <td>-118.294040</td>\n",
       "      <td>33.788973</td>\n",
       "      <td>328</td>\n",
       "      <td>90710</td>\n",
       "      <td>25457</td>\n",
       "      <td>36.7</td>\n",
       "      <td>12291</td>\n",
       "      <td>13166</td>\n",
       "      <td>8717</td>\n",
       "      <td>2.91</td>\n",
       "    </tr>\n",
       "  </tbody>\n",
       "</table>\n",
       "<p>87 rows × 26 columns</p>\n",
       "</div>"
      ],
      "text/plain": [
       "                                   Provider_Name         NPI    CCN  \\\n",
       "0                    LONG BEACH MEMORIAL MEDICAL  1720371065  50727   \n",
       "1                AHMC GARFIELD MEDICAL CENTER LP  1730171265  50737   \n",
       "2                 AHMC MONTEREY PARK HOSPITAL LP  1780676221  50736   \n",
       "3      PRIME HEALTHCARE SERVICES - SAN DIMAS LLC  1740447945  50588   \n",
       "4           City of Hope National Medical Center  1750358297  50146   \n",
       "..                                           ...         ...    ...   \n",
       "82  DOWNEY REGIONAL MEDICAL CENTER-HOSPITAL, INC  1265433551  50393   \n",
       "83    AHMC SAN GABRIEL VALLEY MEDICAL CENTER, LP  1275720377  50132   \n",
       "84                   KAISER FOUNDATION HOSPITALS  1295880912  50677   \n",
       "85  PROVIDENCE HEALTH SYSTEM-SOUTHERN CALIFORNIA  1336173269  50235   \n",
       "86                   KAISER FOUNDATION HOSPITALS  1336294040  50411   \n",
       "\n",
       "   Medicaid_EP_Hospital_Type        Street_Address            City  \\\n",
       "0       Acute Care Hospitals      1720 TERMINO AVE      LONG BEACH   \n",
       "1       Acute Care Hospitals    525 N GARFIELD AVE   MONTEREY PARK   \n",
       "2       Acute Care Hospitals   900 S ATLANTIC BLVD   MONTEREY PARK   \n",
       "3       Acute Care Hospitals    1350 W COVINA BLVD       SAN DIMAS   \n",
       "4       Acute Care Hospitals        1500 DUARTE RD          DUARTE   \n",
       "..                       ...                   ...             ...   \n",
       "82      Acute Care Hospitals  11500 BROOKSHIRE AVE          DOWNEY   \n",
       "83      Acute Care Hospitals    438 W LAS TUNAS DR     SAN GABRIEL   \n",
       "84      Acute Care Hospitals      5601 DE SOTO AVE  WOODLAND HILLS   \n",
       "85      Acute Care Hospitals     501 S BUENA VISTA         BURBANK   \n",
       "86      Acute Care Hospitals   25825 S VERMONT AVE     HARBOR CITY   \n",
       "\n",
       "         County State  Zip_Code  Payment_Year_Number  ...   LONGITUDE  \\\n",
       "0   Los Angeles    CA     90804                    2  ... -118.145915   \n",
       "1   Los Angeles    CA     91754                    4  ... -118.122909   \n",
       "2   Los Angeles    CA     91754                    3  ... -118.138423   \n",
       "3   Los Angeles    CA     91773                    4  ... -117.834284   \n",
       "4   Los Angeles    CA     91010                    1  ... -117.971512   \n",
       "..          ...   ...       ...                  ...  ...         ...   \n",
       "82  Los Angeles    CA     90241                    2  ... -118.131982   \n",
       "83  Los Angeles    CA     91776                    2  ... -118.105202   \n",
       "84  Los Angeles    CA     91367                    2  ... -118.588180   \n",
       "85  Los Angeles    CA     91505                    4  ... -118.326997   \n",
       "86  Los Angeles    CA     90710                    2  ... -118.294040   \n",
       "\n",
       "     LATITUDE  FID  zipcode population  median_age  total_males  \\\n",
       "0   33.788689   20    90804      40311        29.8        19686   \n",
       "1   34.067656   21    91754      32742        42.9        15620   \n",
       "2   34.050379   44    91754      32742        42.9        15620   \n",
       "3   34.099075   28    91773      33119        42.5        15737   \n",
       "4   34.132255   29    91010      26074        38.1        12461   \n",
       "..        ...  ...      ...        ...         ...          ...   \n",
       "82  33.935242  307    90241      42399        33.9        20466   \n",
       "83  34.102491  313    91776      38475        39.0        18751   \n",
       "84  34.170412  315    91367      39499        41.0        19171   \n",
       "85  34.155912  327    91505      30778        38.9        15121   \n",
       "86  33.788973  328    90710      25457        36.7        12291   \n",
       "\n",
       "    total_females  total_households  avg_household  \n",
       "0           20625             14556           2.70  \n",
       "1           17122             11193           2.92  \n",
       "2           17122             11193           2.92  \n",
       "3           17382             11941           2.73  \n",
       "4           13613              7972           3.20  \n",
       "..            ...               ...            ...  \n",
       "82          21933             13617           3.09  \n",
       "83          19724             11776           3.24  \n",
       "84          20328             16697           2.35  \n",
       "85          15657             13180           2.33  \n",
       "86          13166              8717           2.91  \n",
       "\n",
       "[87 rows x 26 columns]"
      ]
     },
     "execution_count": 113,
     "metadata": {},
     "output_type": "execute_result"
    }
   ],
   "source": [
    "# We want the rows in `data` whose `Zip_Code` exists in `population` dataframe,\n",
    "# we filter it accordingly and store in `filtered_data`\n",
    "\n",
    "filtered_data = data[data[\"Zip_Code\"].isin(population[\"zipcode\"])]\n",
    "\n",
    "population[\"zipcode\"] = population[\"zipcode\"].astype(\"int64\")\n",
    "\n",
    "# merge the `filtered_data` dataframe with `population`.\n",
    "# here we are merging depending on zipcode\n",
    "# result stored in `merged_data`\n",
    "merged_data = pd.merge(filtered_data, population, left_on=\"Zip_Code\", right_on=\"zipcode\")\n",
    "\n",
    "\n",
    "merged_data"
   ]
  },
  {
   "cell_type": "code",
   "execution_count": 114,
   "metadata": {
    "nbgrader": {
     "grade": false,
     "grade_id": "q03-solution",
     "locked": false,
     "schema_version": 1,
     "solution": true
    }
   },
   "outputs": [
    {
     "name": "stderr",
     "output_type": "stream",
     "text": [
      "/opt/tljh/user/lib/python3.6/site-packages/ipykernel_launcher.py:12: UserWarning: Boolean Series key will be reindexed to match DataFrame index.\n",
      "  if sys.path[0] == '':\n"
     ]
    }
   ],
   "source": [
    "# get the largest population from column\n",
    "\n",
    "largest_population = merged_data[\"population\"].max()\n",
    "\n",
    "# fetch the row with the `largest_population`\n",
    "temp_df = merged_data[merged_data[\"population\"] == largest_population]\n",
    "\n",
    "# get the zipcode from the row\n",
    "zipcode = list(temp_df[\"Zip_Code\"])[0]\n",
    "\n",
    "# get all providers' `NPI`s who have Zip codes equal to `zipcode`\n",
    "answer = list(map(str, temp_df[ merged_data[\"Zip_Code\"] == zipcode ][\"NPI\"]))"
   ]
  },
  {
   "cell_type": "code",
   "execution_count": 115,
   "metadata": {
    "nbgrader": {
     "grade": true,
     "grade_id": "q03-tests",
     "locked": true,
     "points": 5,
     "schema_version": 1,
     "solution": false
    }
   },
   "outputs": [],
   "source": [
    "assert(type(answer) == list)\n",
    "assert(answer == ['1194016923'])"
   ]
  },
  {
   "cell_type": "code",
   "execution_count": null,
   "metadata": {
    "nbgrader": {
     "grade": true,
     "grade_id": "q03-tests",
     "locked": true,
     "points": 5,
     "schema_version": 1,
     "solution": false
    }
   },
   "outputs": [],
   "source": []
  },
  {
   "cell_type": "code",
   "execution_count": 116,
   "metadata": {
    "nbgrader": {
     "grade": true,
     "grade_id": "q03-tests",
     "locked": true,
     "points": 5,
     "schema_version": 1,
     "solution": false
    }
   },
   "outputs": [
    {
     "data": {
      "text/plain": [
       "list"
      ]
     },
     "execution_count": 116,
     "metadata": {},
     "output_type": "execute_result"
    }
   ],
   "source": [
    "type(answer)"
   ]
  },
  {
   "cell_type": "code",
   "execution_count": 117,
   "metadata": {
    "nbgrader": {
     "grade": true,
     "grade_id": "q03-tests",
     "locked": true,
     "points": 5,
     "schema_version": 1,
     "solution": false
    }
   },
   "outputs": [
    {
     "data": {
      "text/plain": [
       "['1194016923']"
      ]
     },
     "execution_count": 117,
     "metadata": {},
     "output_type": "execute_result"
    }
   ],
   "source": [
    "answer"
   ]
  },
  {
   "cell_type": "code",
   "execution_count": null,
   "metadata": {
    "nbgrader": {
     "grade": true,
     "grade_id": "q03-tests",
     "locked": true,
     "points": 5,
     "schema_version": 1,
     "solution": false
    }
   },
   "outputs": [],
   "source": []
  },
  {
   "cell_type": "markdown",
   "metadata": {
    "nbgrader": {
     "grade": false,
     "grade_id": "q04-intro",
     "locked": true,
     "schema_version": 1,
     "solution": false
    }
   },
   "source": [
    "## PART 4: Total by hospital type\n",
    "\n",
    "This is a multistep process:\n",
    "* From our downloaded data file, compute the `Total payments` per ZIP code and Medicaid EP Hospital Type.\n",
    "* Then merge that with the `population` data to compute a `Total payments` per person.\n",
    "* Then average that across all of the `Medicaid EP Hospital Types` to get an average per persona payment for these type of hospital.\n",
    "\n",
    "Your answer should be in structure of a data frame with at least two columns:\n",
    "* Medicaid_EP_Hospital_Type\n",
    "* Avg_Pay_per_Capita"
   ]
  },
  {
   "cell_type": "code",
   "execution_count": 118,
   "metadata": {
    "nbgrader": {
     "grade": false,
     "grade_id": "q04-solution",
     "locked": false,
     "schema_version": 1,
     "solution": true
    }
   },
   "outputs": [
    {
     "data": {
      "text/html": [
       "<div>\n",
       "<style scoped>\n",
       "    .dataframe tbody tr th:only-of-type {\n",
       "        vertical-align: middle;\n",
       "    }\n",
       "\n",
       "    .dataframe tbody tr th {\n",
       "        vertical-align: top;\n",
       "    }\n",
       "\n",
       "    .dataframe thead th {\n",
       "        text-align: right;\n",
       "    }\n",
       "</style>\n",
       "<table border=\"1\" class=\"dataframe\">\n",
       "  <thead>\n",
       "    <tr style=\"text-align: right;\">\n",
       "      <th></th>\n",
       "      <th>Medicaid_EP_Hospital_Type</th>\n",
       "      <th>Avg_Pay_per_Capita</th>\n",
       "    </tr>\n",
       "  </thead>\n",
       "  <tbody>\n",
       "    <tr>\n",
       "      <th>0</th>\n",
       "      <td>Acute Care Hospitals</td>\n",
       "      <td>17974.362790</td>\n",
       "    </tr>\n",
       "    <tr>\n",
       "      <th>1</th>\n",
       "      <td>Children's Hospitals</td>\n",
       "      <td>111.559021</td>\n",
       "    </tr>\n",
       "  </tbody>\n",
       "</table>\n",
       "</div>"
      ],
      "text/plain": [
       "  Medicaid_EP_Hospital_Type  Avg_Pay_per_Capita\n",
       "0      Acute Care Hospitals        17974.362790\n",
       "1      Children's Hospitals          111.559021"
      ]
     },
     "execution_count": 118,
     "metadata": {},
     "output_type": "execute_result"
    }
   ],
   "source": [
    "### SOLUTION GOES HERE\n",
    "answer = None\n",
    "\n",
    "# create a new dataframe with only columns we need\n",
    "# `Zip_Code`\n",
    "# `Medicaid_EP_Hospital_Type`\n",
    "# `Total_payments`\n",
    "data_copy = data[[\"Zip_Code\", \"Medicaid_EP_Hospital_Type\", \"Total_payments\"]].copy()\n",
    "\n",
    "# Group by `Zip_Code`, `Medicaid_EP_Hospital_Type`\n",
    "# and calculate sum of the rest of the numeric columns.\n",
    "# Here we only have one more numeric column, that is, `Total_payments`\n",
    "temp_df = data_copy.groupby(by=[\"Zip_Code\", \"Medicaid_EP_Hospital_Type\"]).sum().reset_index()\n",
    "\n",
    "# merge the `temp_df` dataframe with `population`.\n",
    "# here we are merging depending on zipcode\n",
    "# result stored in `temp_df`\n",
    "temp_df = pd.merge(temp_df, population, left_on=\"Zip_Code\", right_on=\"zipcode\")\n",
    "\n",
    "# Calculate `Total_Payments_per_person`\n",
    "# `Total_Payments_per_person` = `Total_payments` / `population `\n",
    "temp_df[\"Total_Payments_per_person\"] = temp_df[\"Total_payments\"] / temp_df[\"population\"]\n",
    "\n",
    "# calulate average of `Total_Payments_per_person`\n",
    "# for each `Medicaid_EP_Hospital_Type`\n",
    "temp_df = temp_df.groupby(by=[\"Medicaid_EP_Hospital_Type\"])[\"Total_Payments_per_person\"].mean()\n",
    "\n",
    "# Reset Index, so that we have all the columns,\n",
    "# this is to retain the lost columns during groupby\n",
    "answer = temp_df.reset_index()\n",
    "\n",
    "# Now that our `Total_Payments_per_person`, contains average\n",
    "# for each `Medicaid_EP_Hospital_Type`, we can rename it to\n",
    "# 'Avg_Pay_per_Capita'. Therefore, the resulting column names in the dataframe will be\n",
    "# `Medicaid_EP_Hospital_Type` and `Avg_Pay_per_Capita`.\n",
    "answer.columns = ['Medicaid_EP_Hospital_Type', 'Avg_Pay_per_Capita']\n",
    "\n",
    "answer"
   ]
  },
  {
   "cell_type": "code",
   "execution_count": 119,
   "metadata": {
    "nbgrader": {
     "grade": true,
     "grade_id": "q04-tests",
     "locked": true,
     "points": 5,
     "schema_version": 1,
     "solution": false
    }
   },
   "outputs": [],
   "source": [
    "assert(type(answer) == pd.core.frame.DataFrame)\n",
    "assert(round(answer.query(\"Medicaid_EP_Hospital_Type == 'Acute Care Hospitals'\")['Avg_Pay_per_Capita'].sum(),3) == 17974.363)\n",
    "assert(round(answer.query(\"Medicaid_EP_Hospital_Type == 'Children\\\\'s Hospitals'\")['Avg_Pay_per_Capita'].sum(),3) == 111.559)"
   ]
  },
  {
   "cell_type": "code",
   "execution_count": null,
   "metadata": {
    "nbgrader": {
     "grade": true,
     "grade_id": "q04-tests",
     "locked": true,
     "points": 5,
     "schema_version": 1,
     "solution": false
    }
   },
   "outputs": [],
   "source": []
  },
  {
   "cell_type": "code",
   "execution_count": 120,
   "metadata": {
    "nbgrader": {
     "grade": true,
     "grade_id": "q04-tests",
     "locked": true,
     "points": 5,
     "schema_version": 1,
     "solution": false
    }
   },
   "outputs": [
    {
     "data": {
      "text/plain": [
       "pandas.core.frame.DataFrame"
      ]
     },
     "execution_count": 120,
     "metadata": {},
     "output_type": "execute_result"
    }
   ],
   "source": [
    "type(answer)"
   ]
  },
  {
   "cell_type": "code",
   "execution_count": 121,
   "metadata": {
    "nbgrader": {
     "grade": true,
     "grade_id": "q04-tests",
     "locked": true,
     "points": 5,
     "schema_version": 1,
     "solution": false
    }
   },
   "outputs": [
    {
     "data": {
      "text/plain": [
       "17974.363"
      ]
     },
     "execution_count": 121,
     "metadata": {},
     "output_type": "execute_result"
    }
   ],
   "source": [
    "round(answer.query(\"Medicaid_EP_Hospital_Type == 'Acute Care Hospitals'\")['Avg_Pay_per_Capita'].sum(),3)"
   ]
  },
  {
   "cell_type": "code",
   "execution_count": 122,
   "metadata": {
    "nbgrader": {
     "grade": true,
     "grade_id": "q04-tests",
     "locked": true,
     "points": 5,
     "schema_version": 1,
     "solution": false
    }
   },
   "outputs": [
    {
     "data": {
      "text/plain": [
       "111.559"
      ]
     },
     "execution_count": 122,
     "metadata": {},
     "output_type": "execute_result"
    }
   ],
   "source": [
    "round(answer.query(\"Medicaid_EP_Hospital_Type == 'Children\\\\'s Hospitals'\")['Avg_Pay_per_Capita'].sum(),3)"
   ]
  },
  {
   "cell_type": "code",
   "execution_count": null,
   "metadata": {
    "nbgrader": {
     "grade": true,
     "grade_id": "q04-tests",
     "locked": true,
     "points": 5,
     "schema_version": 1,
     "solution": false
    }
   },
   "outputs": [],
   "source": []
  },
  {
   "cell_type": "code",
   "execution_count": null,
   "metadata": {},
   "outputs": [],
   "source": []
  },
  {
   "cell_type": "code",
   "execution_count": null,
   "metadata": {},
   "outputs": [],
   "source": []
  }
 ],
 "metadata": {
  "celltoolbar": "Create Assignment",
  "kernelspec": {
   "display_name": "Python 3",
   "language": "python",
   "name": "python3"
  },
  "language_info": {
   "codemirror_mode": {
    "name": "ipython",
    "version": 3
   },
   "file_extension": ".py",
   "mimetype": "text/x-python",
   "name": "python",
   "nbconvert_exporter": "python",
   "pygments_lexer": "ipython3",
   "version": "3.6.7"
  }
 },
 "nbformat": 4,
 "nbformat_minor": 2
}
